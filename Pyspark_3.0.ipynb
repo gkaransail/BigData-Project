{
 "cells": [
  {
   "cell_type": "markdown",
   "metadata": {},
   "source": [
    "## Pyspark\n",
    "- Dropping Columns \n",
    "- Dropping Rows \n",
    "- Various Parameter in Dropping functionalities\n",
    "-Handling Missing Values by Mean \n"
   ]
  },
  {
   "cell_type": "code",
   "execution_count": 19,
   "metadata": {},
   "outputs": [
    {
     "name": "stdout",
     "output_type": "stream",
     "text": [
      "<pyspark.sql.session.SparkSession object at 0x7f9cc7e1b340>\n"
     ]
    }
   ],
   "source": [
    "from pyspark.sql import SparkSession\n",
    "\n",
    "# Create a Spark session\n",
    "spark = SparkSession.builder.appName(\"Practise\").getOrCreate()\n",
    "\n",
    "# Verify Spark session creation\n",
    "print(spark)"
   ]
  },
  {
   "cell_type": "code",
   "execution_count": 20,
   "metadata": {},
   "outputs": [
    {
     "name": "stdout",
     "output_type": "stream",
     "text": [
      "+-----+------+-----+-------+-----+-------+--------+--------+---------+------+-------+--------------+-----+----------+------+\n",
      "|sl_no|gender|ssc_p|  ssc_b|hsc_p|  hsc_b|   hsc_s|degree_p| degree_t|workex|etest_p|specialisation|mba_p|    status|salary|\n",
      "+-----+------+-----+-------+-----+-------+--------+--------+---------+------+-------+--------------+-----+----------+------+\n",
      "|    1|     M| 67.0| Others| 91.0| Others|Commerce|    58.0| Sci&Tech|    No|   55.0|        Mkt&HR| 58.8|    Placed|270000|\n",
      "|    2|     M|79.33|Central|78.33| Others| Science|   77.48| Sci&Tech|   Yes|   86.5|       Mkt&Fin|66.28|    Placed|200000|\n",
      "|    3|     M| 65.0|Central| 68.0|Central|    Arts|    64.0|Comm&Mgmt|    No|   75.0|       Mkt&Fin| 57.8|    Placed|250000|\n",
      "|    4|     M| 56.0|Central| 52.0|Central| Science|    52.0| Sci&Tech|    No|   66.0|        Mkt&HR|59.43|Not Placed|  NULL|\n",
      "|    5|     M| 85.8|Central| 73.6|Central|Commerce|    73.3|Comm&Mgmt|    No|   96.8|       Mkt&Fin| 55.5|    Placed|425000|\n",
      "|    6|     M| 55.0| Others| 49.8| Others| Science|   67.25| Sci&Tech|   Yes|   55.0|       Mkt&Fin|51.58|Not Placed|  NULL|\n",
      "|    7|     F| 46.0| Others| 49.2| Others|Commerce|    79.0|Comm&Mgmt|    No|  74.28|       Mkt&Fin|53.29|Not Placed|  NULL|\n",
      "|    8|     M| 82.0|Central| 64.0|Central| Science|    66.0| Sci&Tech|   Yes|   67.0|       Mkt&Fin|62.14|    Placed|252000|\n",
      "|    9|     M| 73.0|Central| 79.0|Central|Commerce|    72.0|Comm&Mgmt|    No|  91.34|       Mkt&Fin|61.29|    Placed|231000|\n",
      "|   10|     M| 58.0|Central| 70.0|Central|Commerce|    61.0|Comm&Mgmt|    No|   54.0|       Mkt&Fin|52.21|Not Placed|  NULL|\n",
      "|   11|     M| 58.0|Central| 61.0|Central|Commerce|    60.0|Comm&Mgmt|   Yes|   62.0|        Mkt&HR|60.85|    Placed|260000|\n",
      "|   12|     M| 69.6|Central| 68.4|Central|Commerce|    78.3|Comm&Mgmt|   Yes|   60.0|       Mkt&Fin| 63.7|    Placed|250000|\n",
      "|   13|     F| 47.0|Central| 55.0| Others| Science|    65.0|Comm&Mgmt|    No|   62.0|        Mkt&HR|65.04|Not Placed|  NULL|\n",
      "|   14|     F| 77.0|Central| 87.0|Central|Commerce|    59.0|Comm&Mgmt|    No|   68.0|       Mkt&Fin|68.63|    Placed|218000|\n",
      "|   15|     M| 62.0|Central| 47.0|Central|Commerce|    50.0|Comm&Mgmt|    No|   76.0|        Mkt&HR|54.96|Not Placed|  NULL|\n",
      "|   16|     F| 65.0|Central| 75.0|Central|Commerce|    69.0|Comm&Mgmt|   Yes|   72.0|       Mkt&Fin|64.66|    Placed|200000|\n",
      "|   17|     M| 63.0|Central| 66.2|Central|Commerce|    65.6|Comm&Mgmt|   Yes|   60.0|       Mkt&Fin|62.54|    Placed|300000|\n",
      "|   18|     F| 55.0|Central| 67.0|Central|Commerce|    64.0|Comm&Mgmt|    No|   60.0|       Mkt&Fin|67.28|Not Placed|  NULL|\n",
      "|   19|     F| 63.0|Central| 66.0|Central|Commerce|    64.0|Comm&Mgmt|    No|   68.0|        Mkt&HR|64.08|Not Placed|  NULL|\n",
      "|   20|     M| 60.0| Others| 67.0| Others|    Arts|    70.0|Comm&Mgmt|   Yes|  50.48|       Mkt&Fin|77.89|    Placed|236000|\n",
      "+-----+------+-----+-------+-----+-------+--------+--------+---------+------+-------+--------------+-----+----------+------+\n",
      "only showing top 20 rows\n",
      "\n"
     ]
    }
   ],
   "source": [
    "df_pyspark =  spark.read.csv('Placement_Data_Full_Class.csv',header =True ,inferSchema = True)\n",
    "df_pyspark.show()"
   ]
  },
  {
   "cell_type": "markdown",
   "metadata": {},
   "source": [
    "Drop all the Null Values"
   ]
  },
  {
   "cell_type": "code",
   "execution_count": 21,
   "metadata": {},
   "outputs": [
    {
     "name": "stdout",
     "output_type": "stream",
     "text": [
      "+-----+------+-----+-------+-----+-------+--------+--------+---------+------+-------+--------------+-----+------+------+\n",
      "|sl_no|gender|ssc_p|  ssc_b|hsc_p|  hsc_b|   hsc_s|degree_p| degree_t|workex|etest_p|specialisation|mba_p|status|salary|\n",
      "+-----+------+-----+-------+-----+-------+--------+--------+---------+------+-------+--------------+-----+------+------+\n",
      "|    1|     M| 67.0| Others| 91.0| Others|Commerce|    58.0| Sci&Tech|    No|   55.0|        Mkt&HR| 58.8|Placed|270000|\n",
      "|    2|     M|79.33|Central|78.33| Others| Science|   77.48| Sci&Tech|   Yes|   86.5|       Mkt&Fin|66.28|Placed|200000|\n",
      "|    3|     M| 65.0|Central| 68.0|Central|    Arts|    64.0|Comm&Mgmt|    No|   75.0|       Mkt&Fin| 57.8|Placed|250000|\n",
      "|    5|     M| 85.8|Central| 73.6|Central|Commerce|    73.3|Comm&Mgmt|    No|   96.8|       Mkt&Fin| 55.5|Placed|425000|\n",
      "|    8|     M| 82.0|Central| 64.0|Central| Science|    66.0| Sci&Tech|   Yes|   67.0|       Mkt&Fin|62.14|Placed|252000|\n",
      "|    9|     M| 73.0|Central| 79.0|Central|Commerce|    72.0|Comm&Mgmt|    No|  91.34|       Mkt&Fin|61.29|Placed|231000|\n",
      "|   11|     M| 58.0|Central| 61.0|Central|Commerce|    60.0|Comm&Mgmt|   Yes|   62.0|        Mkt&HR|60.85|Placed|260000|\n",
      "|   12|     M| 69.6|Central| 68.4|Central|Commerce|    78.3|Comm&Mgmt|   Yes|   60.0|       Mkt&Fin| 63.7|Placed|250000|\n",
      "|   14|     F| 77.0|Central| 87.0|Central|Commerce|    59.0|Comm&Mgmt|    No|   68.0|       Mkt&Fin|68.63|Placed|218000|\n",
      "|   16|     F| 65.0|Central| 75.0|Central|Commerce|    69.0|Comm&Mgmt|   Yes|   72.0|       Mkt&Fin|64.66|Placed|200000|\n",
      "|   17|     M| 63.0|Central| 66.2|Central|Commerce|    65.6|Comm&Mgmt|   Yes|   60.0|       Mkt&Fin|62.54|Placed|300000|\n",
      "|   20|     M| 60.0| Others| 67.0| Others|    Arts|    70.0|Comm&Mgmt|   Yes|  50.48|       Mkt&Fin|77.89|Placed|236000|\n",
      "|   21|     M| 62.0| Others| 65.0| Others|Commerce|    66.0|Comm&Mgmt|    No|   50.0|        Mkt&HR| 56.7|Placed|265000|\n",
      "|   22|     F| 79.0| Others| 76.0| Others|Commerce|    85.0|Comm&Mgmt|    No|   95.0|       Mkt&Fin|69.06|Placed|393000|\n",
      "|   23|     F| 69.8| Others| 60.8| Others| Science|   72.23| Sci&Tech|    No|  55.53|        Mkt&HR|68.81|Placed|360000|\n",
      "|   24|     F| 77.4| Others| 60.0| Others| Science|   64.74| Sci&Tech|   Yes|   92.0|       Mkt&Fin|63.62|Placed|300000|\n",
      "|   25|     M| 76.5| Others| 97.7| Others| Science|   78.86| Sci&Tech|    No|   97.4|       Mkt&Fin|74.01|Placed|360000|\n",
      "|   27|     M| 71.0| Others| 79.0| Others|Commerce|    66.0|Comm&Mgmt|   Yes|   94.0|       Mkt&Fin|57.55|Placed|240000|\n",
      "|   28|     M| 63.0| Others| 67.0| Others|Commerce|    66.0|Comm&Mgmt|    No|   68.0|        Mkt&HR|57.69|Placed|265000|\n",
      "|   29|     M|76.76| Others| 76.5| Others|Commerce|    67.5|Comm&Mgmt|   Yes|  73.35|       Mkt&Fin|64.15|Placed|350000|\n",
      "+-----+------+-----+-------+-----+-------+--------+--------+---------+------+-------+--------------+-----+------+------+\n",
      "only showing top 20 rows\n",
      "\n"
     ]
    }
   ],
   "source": [
    "df_pyspark.na.drop().show()"
   ]
  },
  {
   "cell_type": "markdown",
   "metadata": {},
   "source": [
    "how = All (Drop if all the values are null)\n",
    "any = any null values"
   ]
  },
  {
   "cell_type": "code",
   "execution_count": 22,
   "metadata": {},
   "outputs": [
    {
     "name": "stdout",
     "output_type": "stream",
     "text": [
      "+-----+------+-----+-------+-----+-------+--------+--------+---------+------+-------+--------------+-----+------+------+\n",
      "|sl_no|gender|ssc_p|  ssc_b|hsc_p|  hsc_b|   hsc_s|degree_p| degree_t|workex|etest_p|specialisation|mba_p|status|salary|\n",
      "+-----+------+-----+-------+-----+-------+--------+--------+---------+------+-------+--------------+-----+------+------+\n",
      "|    1|     M| 67.0| Others| 91.0| Others|Commerce|    58.0| Sci&Tech|    No|   55.0|        Mkt&HR| 58.8|Placed|270000|\n",
      "|    2|     M|79.33|Central|78.33| Others| Science|   77.48| Sci&Tech|   Yes|   86.5|       Mkt&Fin|66.28|Placed|200000|\n",
      "|    3|     M| 65.0|Central| 68.0|Central|    Arts|    64.0|Comm&Mgmt|    No|   75.0|       Mkt&Fin| 57.8|Placed|250000|\n",
      "|    5|     M| 85.8|Central| 73.6|Central|Commerce|    73.3|Comm&Mgmt|    No|   96.8|       Mkt&Fin| 55.5|Placed|425000|\n",
      "|    8|     M| 82.0|Central| 64.0|Central| Science|    66.0| Sci&Tech|   Yes|   67.0|       Mkt&Fin|62.14|Placed|252000|\n",
      "|    9|     M| 73.0|Central| 79.0|Central|Commerce|    72.0|Comm&Mgmt|    No|  91.34|       Mkt&Fin|61.29|Placed|231000|\n",
      "|   11|     M| 58.0|Central| 61.0|Central|Commerce|    60.0|Comm&Mgmt|   Yes|   62.0|        Mkt&HR|60.85|Placed|260000|\n",
      "|   12|     M| 69.6|Central| 68.4|Central|Commerce|    78.3|Comm&Mgmt|   Yes|   60.0|       Mkt&Fin| 63.7|Placed|250000|\n",
      "|   14|     F| 77.0|Central| 87.0|Central|Commerce|    59.0|Comm&Mgmt|    No|   68.0|       Mkt&Fin|68.63|Placed|218000|\n",
      "|   16|     F| 65.0|Central| 75.0|Central|Commerce|    69.0|Comm&Mgmt|   Yes|   72.0|       Mkt&Fin|64.66|Placed|200000|\n",
      "|   17|     M| 63.0|Central| 66.2|Central|Commerce|    65.6|Comm&Mgmt|   Yes|   60.0|       Mkt&Fin|62.54|Placed|300000|\n",
      "|   20|     M| 60.0| Others| 67.0| Others|    Arts|    70.0|Comm&Mgmt|   Yes|  50.48|       Mkt&Fin|77.89|Placed|236000|\n",
      "|   21|     M| 62.0| Others| 65.0| Others|Commerce|    66.0|Comm&Mgmt|    No|   50.0|        Mkt&HR| 56.7|Placed|265000|\n",
      "|   22|     F| 79.0| Others| 76.0| Others|Commerce|    85.0|Comm&Mgmt|    No|   95.0|       Mkt&Fin|69.06|Placed|393000|\n",
      "|   23|     F| 69.8| Others| 60.8| Others| Science|   72.23| Sci&Tech|    No|  55.53|        Mkt&HR|68.81|Placed|360000|\n",
      "|   24|     F| 77.4| Others| 60.0| Others| Science|   64.74| Sci&Tech|   Yes|   92.0|       Mkt&Fin|63.62|Placed|300000|\n",
      "|   25|     M| 76.5| Others| 97.7| Others| Science|   78.86| Sci&Tech|    No|   97.4|       Mkt&Fin|74.01|Placed|360000|\n",
      "|   27|     M| 71.0| Others| 79.0| Others|Commerce|    66.0|Comm&Mgmt|   Yes|   94.0|       Mkt&Fin|57.55|Placed|240000|\n",
      "|   28|     M| 63.0| Others| 67.0| Others|Commerce|    66.0|Comm&Mgmt|    No|   68.0|        Mkt&HR|57.69|Placed|265000|\n",
      "|   29|     M|76.76| Others| 76.5| Others|Commerce|    67.5|Comm&Mgmt|   Yes|  73.35|       Mkt&Fin|64.15|Placed|350000|\n",
      "+-----+------+-----+-------+-----+-------+--------+--------+---------+------+-------+--------------+-----+------+------+\n",
      "only showing top 20 rows\n",
      "\n"
     ]
    }
   ],
   "source": [
    "df_pyspark.na.drop(how = \"any\").show()"
   ]
  },
  {
   "cell_type": "code",
   "execution_count": 23,
   "metadata": {},
   "outputs": [
    {
     "name": "stdout",
     "output_type": "stream",
     "text": [
      "+-----+------+-----+-------+-----+-------+--------+--------+---------+------+-------+--------------+-----+----------+------+\n",
      "|sl_no|gender|ssc_p|  ssc_b|hsc_p|  hsc_b|   hsc_s|degree_p| degree_t|workex|etest_p|specialisation|mba_p|    status|salary|\n",
      "+-----+------+-----+-------+-----+-------+--------+--------+---------+------+-------+--------------+-----+----------+------+\n",
      "|    1|     M| 67.0| Others| 91.0| Others|Commerce|    58.0| Sci&Tech|    No|   55.0|        Mkt&HR| 58.8|    Placed|270000|\n",
      "|    2|     M|79.33|Central|78.33| Others| Science|   77.48| Sci&Tech|   Yes|   86.5|       Mkt&Fin|66.28|    Placed|200000|\n",
      "|    3|     M| 65.0|Central| 68.0|Central|    Arts|    64.0|Comm&Mgmt|    No|   75.0|       Mkt&Fin| 57.8|    Placed|250000|\n",
      "|    4|     M| 56.0|Central| 52.0|Central| Science|    52.0| Sci&Tech|    No|   66.0|        Mkt&HR|59.43|Not Placed|  NULL|\n",
      "|    5|     M| 85.8|Central| 73.6|Central|Commerce|    73.3|Comm&Mgmt|    No|   96.8|       Mkt&Fin| 55.5|    Placed|425000|\n",
      "|    6|     M| 55.0| Others| 49.8| Others| Science|   67.25| Sci&Tech|   Yes|   55.0|       Mkt&Fin|51.58|Not Placed|  NULL|\n",
      "|    7|     F| 46.0| Others| 49.2| Others|Commerce|    79.0|Comm&Mgmt|    No|  74.28|       Mkt&Fin|53.29|Not Placed|  NULL|\n",
      "|    8|     M| 82.0|Central| 64.0|Central| Science|    66.0| Sci&Tech|   Yes|   67.0|       Mkt&Fin|62.14|    Placed|252000|\n",
      "|    9|     M| 73.0|Central| 79.0|Central|Commerce|    72.0|Comm&Mgmt|    No|  91.34|       Mkt&Fin|61.29|    Placed|231000|\n",
      "|   10|     M| 58.0|Central| 70.0|Central|Commerce|    61.0|Comm&Mgmt|    No|   54.0|       Mkt&Fin|52.21|Not Placed|  NULL|\n",
      "|   11|     M| 58.0|Central| 61.0|Central|Commerce|    60.0|Comm&Mgmt|   Yes|   62.0|        Mkt&HR|60.85|    Placed|260000|\n",
      "|   12|     M| 69.6|Central| 68.4|Central|Commerce|    78.3|Comm&Mgmt|   Yes|   60.0|       Mkt&Fin| 63.7|    Placed|250000|\n",
      "|   13|     F| 47.0|Central| 55.0| Others| Science|    65.0|Comm&Mgmt|    No|   62.0|        Mkt&HR|65.04|Not Placed|  NULL|\n",
      "|   14|     F| 77.0|Central| 87.0|Central|Commerce|    59.0|Comm&Mgmt|    No|   68.0|       Mkt&Fin|68.63|    Placed|218000|\n",
      "|   15|     M| 62.0|Central| 47.0|Central|Commerce|    50.0|Comm&Mgmt|    No|   76.0|        Mkt&HR|54.96|Not Placed|  NULL|\n",
      "|   16|     F| 65.0|Central| 75.0|Central|Commerce|    69.0|Comm&Mgmt|   Yes|   72.0|       Mkt&Fin|64.66|    Placed|200000|\n",
      "|   17|     M| 63.0|Central| 66.2|Central|Commerce|    65.6|Comm&Mgmt|   Yes|   60.0|       Mkt&Fin|62.54|    Placed|300000|\n",
      "|   18|     F| 55.0|Central| 67.0|Central|Commerce|    64.0|Comm&Mgmt|    No|   60.0|       Mkt&Fin|67.28|Not Placed|  NULL|\n",
      "|   19|     F| 63.0|Central| 66.0|Central|Commerce|    64.0|Comm&Mgmt|    No|   68.0|        Mkt&HR|64.08|Not Placed|  NULL|\n",
      "|   20|     M| 60.0| Others| 67.0| Others|    Arts|    70.0|Comm&Mgmt|   Yes|  50.48|       Mkt&Fin|77.89|    Placed|236000|\n",
      "+-----+------+-----+-------+-----+-------+--------+--------+---------+------+-------+--------------+-----+----------+------+\n",
      "only showing top 20 rows\n",
      "\n"
     ]
    }
   ],
   "source": [
    "df_pyspark.na.drop(how = \"all\").show()"
   ]
  },
  {
   "cell_type": "markdown",
   "metadata": {},
   "source": [
    "threshold (Non-null values should be greater than threshold)\n"
   ]
  },
  {
   "cell_type": "code",
   "execution_count": 24,
   "metadata": {},
   "outputs": [
    {
     "name": "stdout",
     "output_type": "stream",
     "text": [
      "+-----+------+-----+-------+-----+-------+--------+--------+---------+------+-------+--------------+-----+----------+------+\n",
      "|sl_no|gender|ssc_p|  ssc_b|hsc_p|  hsc_b|   hsc_s|degree_p| degree_t|workex|etest_p|specialisation|mba_p|    status|salary|\n",
      "+-----+------+-----+-------+-----+-------+--------+--------+---------+------+-------+--------------+-----+----------+------+\n",
      "|    1|     M| 67.0| Others| 91.0| Others|Commerce|    58.0| Sci&Tech|    No|   55.0|        Mkt&HR| 58.8|    Placed|270000|\n",
      "|    2|     M|79.33|Central|78.33| Others| Science|   77.48| Sci&Tech|   Yes|   86.5|       Mkt&Fin|66.28|    Placed|200000|\n",
      "|    3|     M| 65.0|Central| 68.0|Central|    Arts|    64.0|Comm&Mgmt|    No|   75.0|       Mkt&Fin| 57.8|    Placed|250000|\n",
      "|    4|     M| 56.0|Central| 52.0|Central| Science|    52.0| Sci&Tech|    No|   66.0|        Mkt&HR|59.43|Not Placed|  NULL|\n",
      "|    5|     M| 85.8|Central| 73.6|Central|Commerce|    73.3|Comm&Mgmt|    No|   96.8|       Mkt&Fin| 55.5|    Placed|425000|\n",
      "|    6|     M| 55.0| Others| 49.8| Others| Science|   67.25| Sci&Tech|   Yes|   55.0|       Mkt&Fin|51.58|Not Placed|  NULL|\n",
      "|    7|     F| 46.0| Others| 49.2| Others|Commerce|    79.0|Comm&Mgmt|    No|  74.28|       Mkt&Fin|53.29|Not Placed|  NULL|\n",
      "|    8|     M| 82.0|Central| 64.0|Central| Science|    66.0| Sci&Tech|   Yes|   67.0|       Mkt&Fin|62.14|    Placed|252000|\n",
      "|    9|     M| 73.0|Central| 79.0|Central|Commerce|    72.0|Comm&Mgmt|    No|  91.34|       Mkt&Fin|61.29|    Placed|231000|\n",
      "|   10|     M| 58.0|Central| 70.0|Central|Commerce|    61.0|Comm&Mgmt|    No|   54.0|       Mkt&Fin|52.21|Not Placed|  NULL|\n",
      "|   11|     M| 58.0|Central| 61.0|Central|Commerce|    60.0|Comm&Mgmt|   Yes|   62.0|        Mkt&HR|60.85|    Placed|260000|\n",
      "|   12|     M| 69.6|Central| 68.4|Central|Commerce|    78.3|Comm&Mgmt|   Yes|   60.0|       Mkt&Fin| 63.7|    Placed|250000|\n",
      "|   13|     F| 47.0|Central| 55.0| Others| Science|    65.0|Comm&Mgmt|    No|   62.0|        Mkt&HR|65.04|Not Placed|  NULL|\n",
      "|   14|     F| 77.0|Central| 87.0|Central|Commerce|    59.0|Comm&Mgmt|    No|   68.0|       Mkt&Fin|68.63|    Placed|218000|\n",
      "|   15|     M| 62.0|Central| 47.0|Central|Commerce|    50.0|Comm&Mgmt|    No|   76.0|        Mkt&HR|54.96|Not Placed|  NULL|\n",
      "|   16|     F| 65.0|Central| 75.0|Central|Commerce|    69.0|Comm&Mgmt|   Yes|   72.0|       Mkt&Fin|64.66|    Placed|200000|\n",
      "|   17|     M| 63.0|Central| 66.2|Central|Commerce|    65.6|Comm&Mgmt|   Yes|   60.0|       Mkt&Fin|62.54|    Placed|300000|\n",
      "|   18|     F| 55.0|Central| 67.0|Central|Commerce|    64.0|Comm&Mgmt|    No|   60.0|       Mkt&Fin|67.28|Not Placed|  NULL|\n",
      "|   19|     F| 63.0|Central| 66.0|Central|Commerce|    64.0|Comm&Mgmt|    No|   68.0|        Mkt&HR|64.08|Not Placed|  NULL|\n",
      "|   20|     M| 60.0| Others| 67.0| Others|    Arts|    70.0|Comm&Mgmt|   Yes|  50.48|       Mkt&Fin|77.89|    Placed|236000|\n",
      "+-----+------+-----+-------+-----+-------+--------+--------+---------+------+-------+--------------+-----+----------+------+\n",
      "only showing top 20 rows\n",
      "\n"
     ]
    }
   ],
   "source": [
    "df_pyspark.na.drop(how=\"all\", thresh=2).show()"
   ]
  },
  {
   "cell_type": "markdown",
   "metadata": {},
   "source": [
    "subset (Drop all the Null values from the specific column)"
   ]
  },
  {
   "cell_type": "code",
   "execution_count": 25,
   "metadata": {},
   "outputs": [
    {
     "name": "stdout",
     "output_type": "stream",
     "text": [
      "+-----+------+-----+-------+-----+-------+--------+--------+---------+------+-------+--------------+-----+------+------+\n",
      "|sl_no|gender|ssc_p|  ssc_b|hsc_p|  hsc_b|   hsc_s|degree_p| degree_t|workex|etest_p|specialisation|mba_p|status|salary|\n",
      "+-----+------+-----+-------+-----+-------+--------+--------+---------+------+-------+--------------+-----+------+------+\n",
      "|    1|     M| 67.0| Others| 91.0| Others|Commerce|    58.0| Sci&Tech|    No|   55.0|        Mkt&HR| 58.8|Placed|270000|\n",
      "|    2|     M|79.33|Central|78.33| Others| Science|   77.48| Sci&Tech|   Yes|   86.5|       Mkt&Fin|66.28|Placed|200000|\n",
      "|    3|     M| 65.0|Central| 68.0|Central|    Arts|    64.0|Comm&Mgmt|    No|   75.0|       Mkt&Fin| 57.8|Placed|250000|\n",
      "|    5|     M| 85.8|Central| 73.6|Central|Commerce|    73.3|Comm&Mgmt|    No|   96.8|       Mkt&Fin| 55.5|Placed|425000|\n",
      "|    8|     M| 82.0|Central| 64.0|Central| Science|    66.0| Sci&Tech|   Yes|   67.0|       Mkt&Fin|62.14|Placed|252000|\n",
      "|    9|     M| 73.0|Central| 79.0|Central|Commerce|    72.0|Comm&Mgmt|    No|  91.34|       Mkt&Fin|61.29|Placed|231000|\n",
      "|   11|     M| 58.0|Central| 61.0|Central|Commerce|    60.0|Comm&Mgmt|   Yes|   62.0|        Mkt&HR|60.85|Placed|260000|\n",
      "|   12|     M| 69.6|Central| 68.4|Central|Commerce|    78.3|Comm&Mgmt|   Yes|   60.0|       Mkt&Fin| 63.7|Placed|250000|\n",
      "|   14|     F| 77.0|Central| 87.0|Central|Commerce|    59.0|Comm&Mgmt|    No|   68.0|       Mkt&Fin|68.63|Placed|218000|\n",
      "|   16|     F| 65.0|Central| 75.0|Central|Commerce|    69.0|Comm&Mgmt|   Yes|   72.0|       Mkt&Fin|64.66|Placed|200000|\n",
      "|   17|     M| 63.0|Central| 66.2|Central|Commerce|    65.6|Comm&Mgmt|   Yes|   60.0|       Mkt&Fin|62.54|Placed|300000|\n",
      "|   20|     M| 60.0| Others| 67.0| Others|    Arts|    70.0|Comm&Mgmt|   Yes|  50.48|       Mkt&Fin|77.89|Placed|236000|\n",
      "|   21|     M| 62.0| Others| 65.0| Others|Commerce|    66.0|Comm&Mgmt|    No|   50.0|        Mkt&HR| 56.7|Placed|265000|\n",
      "|   22|     F| 79.0| Others| 76.0| Others|Commerce|    85.0|Comm&Mgmt|    No|   95.0|       Mkt&Fin|69.06|Placed|393000|\n",
      "|   23|     F| 69.8| Others| 60.8| Others| Science|   72.23| Sci&Tech|    No|  55.53|        Mkt&HR|68.81|Placed|360000|\n",
      "|   24|     F| 77.4| Others| 60.0| Others| Science|   64.74| Sci&Tech|   Yes|   92.0|       Mkt&Fin|63.62|Placed|300000|\n",
      "|   25|     M| 76.5| Others| 97.7| Others| Science|   78.86| Sci&Tech|    No|   97.4|       Mkt&Fin|74.01|Placed|360000|\n",
      "|   27|     M| 71.0| Others| 79.0| Others|Commerce|    66.0|Comm&Mgmt|   Yes|   94.0|       Mkt&Fin|57.55|Placed|240000|\n",
      "|   28|     M| 63.0| Others| 67.0| Others|Commerce|    66.0|Comm&Mgmt|    No|   68.0|        Mkt&HR|57.69|Placed|265000|\n",
      "|   29|     M|76.76| Others| 76.5| Others|Commerce|    67.5|Comm&Mgmt|   Yes|  73.35|       Mkt&Fin|64.15|Placed|350000|\n",
      "+-----+------+-----+-------+-----+-------+--------+--------+---------+------+-------+--------------+-----+------+------+\n",
      "only showing top 20 rows\n",
      "\n"
     ]
    }
   ],
   "source": [
    "df_pyspark.na.drop(how=\"all\",subset=['salary']).show()"
   ]
  },
  {
   "cell_type": "markdown",
   "metadata": {},
   "source": [
    "Filling the Missing Value"
   ]
  },
  {
   "cell_type": "code",
   "execution_count": 26,
   "metadata": {},
   "outputs": [
    {
     "name": "stdout",
     "output_type": "stream",
     "text": [
      "+-----+------+-----+-------+-----+-------+--------+--------+---------+------+-------+--------------+-----+----------+------+\n",
      "|sl_no|gender|ssc_p|  ssc_b|hsc_p|  hsc_b|   hsc_s|degree_p| degree_t|workex|etest_p|specialisation|mba_p|    status|salary|\n",
      "+-----+------+-----+-------+-----+-------+--------+--------+---------+------+-------+--------------+-----+----------+------+\n",
      "|    1|     M| 67.0| Others| 91.0| Others|Commerce|    58.0| Sci&Tech|    No|   55.0|        Mkt&HR| 58.8|    Placed|270000|\n",
      "|    2|     M|79.33|Central|78.33| Others| Science|   77.48| Sci&Tech|   Yes|   86.5|       Mkt&Fin|66.28|    Placed|200000|\n",
      "|    3|     M| 65.0|Central| 68.0|Central|    Arts|    64.0|Comm&Mgmt|    No|   75.0|       Mkt&Fin| 57.8|    Placed|250000|\n",
      "|    4|     M| 56.0|Central| 52.0|Central| Science|    52.0| Sci&Tech|    No|   66.0|        Mkt&HR|59.43|Not Placed|     1|\n",
      "|    5|     M| 85.8|Central| 73.6|Central|Commerce|    73.3|Comm&Mgmt|    No|   96.8|       Mkt&Fin| 55.5|    Placed|425000|\n",
      "|    6|     M| 55.0| Others| 49.8| Others| Science|   67.25| Sci&Tech|   Yes|   55.0|       Mkt&Fin|51.58|Not Placed|     1|\n",
      "|    7|     F| 46.0| Others| 49.2| Others|Commerce|    79.0|Comm&Mgmt|    No|  74.28|       Mkt&Fin|53.29|Not Placed|     1|\n",
      "|    8|     M| 82.0|Central| 64.0|Central| Science|    66.0| Sci&Tech|   Yes|   67.0|       Mkt&Fin|62.14|    Placed|252000|\n",
      "|    9|     M| 73.0|Central| 79.0|Central|Commerce|    72.0|Comm&Mgmt|    No|  91.34|       Mkt&Fin|61.29|    Placed|231000|\n",
      "|   10|     M| 58.0|Central| 70.0|Central|Commerce|    61.0|Comm&Mgmt|    No|   54.0|       Mkt&Fin|52.21|Not Placed|     1|\n",
      "|   11|     M| 58.0|Central| 61.0|Central|Commerce|    60.0|Comm&Mgmt|   Yes|   62.0|        Mkt&HR|60.85|    Placed|260000|\n",
      "|   12|     M| 69.6|Central| 68.4|Central|Commerce|    78.3|Comm&Mgmt|   Yes|   60.0|       Mkt&Fin| 63.7|    Placed|250000|\n",
      "|   13|     F| 47.0|Central| 55.0| Others| Science|    65.0|Comm&Mgmt|    No|   62.0|        Mkt&HR|65.04|Not Placed|     1|\n",
      "|   14|     F| 77.0|Central| 87.0|Central|Commerce|    59.0|Comm&Mgmt|    No|   68.0|       Mkt&Fin|68.63|    Placed|218000|\n",
      "|   15|     M| 62.0|Central| 47.0|Central|Commerce|    50.0|Comm&Mgmt|    No|   76.0|        Mkt&HR|54.96|Not Placed|     1|\n",
      "|   16|     F| 65.0|Central| 75.0|Central|Commerce|    69.0|Comm&Mgmt|   Yes|   72.0|       Mkt&Fin|64.66|    Placed|200000|\n",
      "|   17|     M| 63.0|Central| 66.2|Central|Commerce|    65.6|Comm&Mgmt|   Yes|   60.0|       Mkt&Fin|62.54|    Placed|300000|\n",
      "|   18|     F| 55.0|Central| 67.0|Central|Commerce|    64.0|Comm&Mgmt|    No|   60.0|       Mkt&Fin|67.28|Not Placed|     1|\n",
      "|   19|     F| 63.0|Central| 66.0|Central|Commerce|    64.0|Comm&Mgmt|    No|   68.0|        Mkt&HR|64.08|Not Placed|     1|\n",
      "|   20|     M| 60.0| Others| 67.0| Others|    Arts|    70.0|Comm&Mgmt|   Yes|  50.48|       Mkt&Fin|77.89|    Placed|236000|\n",
      "+-----+------+-----+-------+-----+-------+--------+--------+---------+------+-------+--------------+-----+----------+------+\n",
      "only showing top 20 rows\n",
      "\n"
     ]
    }
   ],
   "source": [
    "df_pyspark.na.fill(1).show()"
   ]
  },
  {
   "cell_type": "code",
   "execution_count": 27,
   "metadata": {},
   "outputs": [
    {
     "name": "stdout",
     "output_type": "stream",
     "text": [
      "+-----+------+-----+-------+-----+-------+--------+--------+---------+------+-------+--------------+-----+----------+------+\n",
      "|sl_no|gender|ssc_p|  ssc_b|hsc_p|  hsc_b|   hsc_s|degree_p| degree_t|workex|etest_p|specialisation|mba_p|    status|salary|\n",
      "+-----+------+-----+-------+-----+-------+--------+--------+---------+------+-------+--------------+-----+----------+------+\n",
      "|    1|     M| 67.0| Others| 91.0| Others|Commerce|    58.0| Sci&Tech|    No|   55.0|        Mkt&HR| 58.8|    Placed|270000|\n",
      "|    2|     M|79.33|Central|78.33| Others| Science|   77.48| Sci&Tech|   Yes|   86.5|       Mkt&Fin|66.28|    Placed|200000|\n",
      "|    3|     M| 65.0|Central| 68.0|Central|    Arts|    64.0|Comm&Mgmt|    No|   75.0|       Mkt&Fin| 57.8|    Placed|250000|\n",
      "|    4|     M| 56.0|Central| 52.0|Central| Science|    52.0| Sci&Tech|    No|   66.0|        Mkt&HR|59.43|Not Placed|  NULL|\n",
      "|    5|     M| 85.8|Central| 73.6|Central|Commerce|    73.3|Comm&Mgmt|    No|   96.8|       Mkt&Fin| 55.5|    Placed|425000|\n",
      "|    6|     M| 55.0| Others| 49.8| Others| Science|   67.25| Sci&Tech|   Yes|   55.0|       Mkt&Fin|51.58|Not Placed|  NULL|\n",
      "|    7|     F| 46.0| Others| 49.2| Others|Commerce|    79.0|Comm&Mgmt|    No|  74.28|       Mkt&Fin|53.29|Not Placed|  NULL|\n",
      "|    8|     M| 82.0|Central| 64.0|Central| Science|    66.0| Sci&Tech|   Yes|   67.0|       Mkt&Fin|62.14|    Placed|252000|\n",
      "|    9|     M| 73.0|Central| 79.0|Central|Commerce|    72.0|Comm&Mgmt|    No|  91.34|       Mkt&Fin|61.29|    Placed|231000|\n",
      "|   10|     M| 58.0|Central| 70.0|Central|Commerce|    61.0|Comm&Mgmt|    No|   54.0|       Mkt&Fin|52.21|Not Placed|  NULL|\n",
      "|   11|     M| 58.0|Central| 61.0|Central|Commerce|    60.0|Comm&Mgmt|   Yes|   62.0|        Mkt&HR|60.85|    Placed|260000|\n",
      "|   12|     M| 69.6|Central| 68.4|Central|Commerce|    78.3|Comm&Mgmt|   Yes|   60.0|       Mkt&Fin| 63.7|    Placed|250000|\n",
      "|   13|     F| 47.0|Central| 55.0| Others| Science|    65.0|Comm&Mgmt|    No|   62.0|        Mkt&HR|65.04|Not Placed|  NULL|\n",
      "|   14|     F| 77.0|Central| 87.0|Central|Commerce|    59.0|Comm&Mgmt|    No|   68.0|       Mkt&Fin|68.63|    Placed|218000|\n",
      "|   15|     M| 62.0|Central| 47.0|Central|Commerce|    50.0|Comm&Mgmt|    No|   76.0|        Mkt&HR|54.96|Not Placed|  NULL|\n",
      "|   16|     F| 65.0|Central| 75.0|Central|Commerce|    69.0|Comm&Mgmt|   Yes|   72.0|       Mkt&Fin|64.66|    Placed|200000|\n",
      "|   17|     M| 63.0|Central| 66.2|Central|Commerce|    65.6|Comm&Mgmt|   Yes|   60.0|       Mkt&Fin|62.54|    Placed|300000|\n",
      "|   18|     F| 55.0|Central| 67.0|Central|Commerce|    64.0|Comm&Mgmt|    No|   60.0|       Mkt&Fin|67.28|Not Placed|  NULL|\n",
      "|   19|     F| 63.0|Central| 66.0|Central|Commerce|    64.0|Comm&Mgmt|    No|   68.0|        Mkt&HR|64.08|Not Placed|  NULL|\n",
      "|   20|     M| 60.0| Others| 67.0| Others|    Arts|    70.0|Comm&Mgmt|   Yes|  50.48|       Mkt&Fin|77.89|    Placed|236000|\n",
      "+-----+------+-----+-------+-----+-------+--------+--------+---------+------+-------+--------------+-----+----------+------+\n",
      "only showing top 20 rows\n",
      "\n"
     ]
    }
   ],
   "source": [
    "df_pyspark.na.fill('missing_value',['gender','hsc_b']).show()"
   ]
  },
  {
   "cell_type": "markdown",
   "metadata": {},
   "source": [
    "Replacing the data with Mean Imputar "
   ]
  },
  {
   "cell_type": "code",
   "execution_count": 30,
   "metadata": {},
   "outputs": [],
   "source": [
    "from pyspark.ml.feature import Imputer\n",
    "\n",
    "imputer = Imputer(\n",
    "    inputCols=['salary','etest_p'],\n",
    "    outputCols=[\"{}_imputed\".format(c) for c in ['salary','etest_p']]\n",
    ").setStrategy(\"mean\")"
   ]
  },
  {
   "cell_type": "markdown",
   "metadata": {},
   "source": [
    "Add imputation cols to df "
   ]
  },
  {
   "cell_type": "code",
   "execution_count": 31,
   "metadata": {},
   "outputs": [
    {
     "name": "stdout",
     "output_type": "stream",
     "text": [
      "+-----+------+-----+-------+-----+-------+--------+--------+---------+------+-------+--------------+-----+----------+------+--------------+---------------+\n",
      "|sl_no|gender|ssc_p|  ssc_b|hsc_p|  hsc_b|   hsc_s|degree_p| degree_t|workex|etest_p|specialisation|mba_p|    status|salary|salary_imputed|etest_p_imputed|\n",
      "+-----+------+-----+-------+-----+-------+--------+--------+---------+------+-------+--------------+-----+----------+------+--------------+---------------+\n",
      "|    1|     M| 67.0| Others| 91.0| Others|Commerce|    58.0| Sci&Tech|    No|   55.0|        Mkt&HR| 58.8|    Placed|270000|        270000|           55.0|\n",
      "|    2|     M|79.33|Central|78.33| Others| Science|   77.48| Sci&Tech|   Yes|   86.5|       Mkt&Fin|66.28|    Placed|200000|        200000|           86.5|\n",
      "|    3|     M| 65.0|Central| 68.0|Central|    Arts|    64.0|Comm&Mgmt|    No|   75.0|       Mkt&Fin| 57.8|    Placed|250000|        250000|           75.0|\n",
      "|    4|     M| 56.0|Central| 52.0|Central| Science|    52.0| Sci&Tech|    No|   66.0|        Mkt&HR|59.43|Not Placed|  NULL|        288655|           66.0|\n",
      "|    5|     M| 85.8|Central| 73.6|Central|Commerce|    73.3|Comm&Mgmt|    No|   96.8|       Mkt&Fin| 55.5|    Placed|425000|        425000|           96.8|\n",
      "|    6|     M| 55.0| Others| 49.8| Others| Science|   67.25| Sci&Tech|   Yes|   55.0|       Mkt&Fin|51.58|Not Placed|  NULL|        288655|           55.0|\n",
      "|    7|     F| 46.0| Others| 49.2| Others|Commerce|    79.0|Comm&Mgmt|    No|  74.28|       Mkt&Fin|53.29|Not Placed|  NULL|        288655|          74.28|\n",
      "|    8|     M| 82.0|Central| 64.0|Central| Science|    66.0| Sci&Tech|   Yes|   67.0|       Mkt&Fin|62.14|    Placed|252000|        252000|           67.0|\n",
      "|    9|     M| 73.0|Central| 79.0|Central|Commerce|    72.0|Comm&Mgmt|    No|  91.34|       Mkt&Fin|61.29|    Placed|231000|        231000|          91.34|\n",
      "|   10|     M| 58.0|Central| 70.0|Central|Commerce|    61.0|Comm&Mgmt|    No|   54.0|       Mkt&Fin|52.21|Not Placed|  NULL|        288655|           54.0|\n",
      "|   11|     M| 58.0|Central| 61.0|Central|Commerce|    60.0|Comm&Mgmt|   Yes|   62.0|        Mkt&HR|60.85|    Placed|260000|        260000|           62.0|\n",
      "|   12|     M| 69.6|Central| 68.4|Central|Commerce|    78.3|Comm&Mgmt|   Yes|   60.0|       Mkt&Fin| 63.7|    Placed|250000|        250000|           60.0|\n",
      "|   13|     F| 47.0|Central| 55.0| Others| Science|    65.0|Comm&Mgmt|    No|   62.0|        Mkt&HR|65.04|Not Placed|  NULL|        288655|           62.0|\n",
      "|   14|     F| 77.0|Central| 87.0|Central|Commerce|    59.0|Comm&Mgmt|    No|   68.0|       Mkt&Fin|68.63|    Placed|218000|        218000|           68.0|\n",
      "|   15|     M| 62.0|Central| 47.0|Central|Commerce|    50.0|Comm&Mgmt|    No|   76.0|        Mkt&HR|54.96|Not Placed|  NULL|        288655|           76.0|\n",
      "|   16|     F| 65.0|Central| 75.0|Central|Commerce|    69.0|Comm&Mgmt|   Yes|   72.0|       Mkt&Fin|64.66|    Placed|200000|        200000|           72.0|\n",
      "|   17|     M| 63.0|Central| 66.2|Central|Commerce|    65.6|Comm&Mgmt|   Yes|   60.0|       Mkt&Fin|62.54|    Placed|300000|        300000|           60.0|\n",
      "|   18|     F| 55.0|Central| 67.0|Central|Commerce|    64.0|Comm&Mgmt|    No|   60.0|       Mkt&Fin|67.28|Not Placed|  NULL|        288655|           60.0|\n",
      "|   19|     F| 63.0|Central| 66.0|Central|Commerce|    64.0|Comm&Mgmt|    No|   68.0|        Mkt&HR|64.08|Not Placed|  NULL|        288655|           68.0|\n",
      "|   20|     M| 60.0| Others| 67.0| Others|    Arts|    70.0|Comm&Mgmt|   Yes|  50.48|       Mkt&Fin|77.89|    Placed|236000|        236000|          50.48|\n",
      "+-----+------+-----+-------+-----+-------+--------+--------+---------+------+-------+--------------+-----+----------+------+--------------+---------------+\n",
      "only showing top 20 rows\n",
      "\n"
     ]
    }
   ],
   "source": [
    "imputer.fit(df_pyspark).transform(df_pyspark).show()"
   ]
  },
  {
   "cell_type": "code",
   "execution_count": null,
   "metadata": {},
   "outputs": [],
   "source": []
  }
 ],
 "metadata": {
  "kernelspec": {
   "display_name": "spark",
   "language": "python",
   "name": "python3"
  },
  "language_info": {
   "codemirror_mode": {
    "name": "ipython",
    "version": 3
   },
   "file_extension": ".py",
   "mimetype": "text/x-python",
   "name": "python",
   "nbconvert_exporter": "python",
   "pygments_lexer": "ipython3",
   "version": "3.9.20"
  }
 },
 "nbformat": 4,
 "nbformat_minor": 2
}
