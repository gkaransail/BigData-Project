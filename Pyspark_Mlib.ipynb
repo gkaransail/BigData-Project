{
 "cells": [
  {
   "cell_type": "markdown",
   "metadata": {},
   "source": [
    "Setting up PySpark"
   ]
  },
  {
   "cell_type": "code",
   "execution_count": 1,
   "metadata": {},
   "outputs": [
    {
     "name": "stderr",
     "output_type": "stream",
     "text": [
      "your 131072x1 screen size is bogus. expect trouble\n",
      "24/10/15 16:52:07 WARN Utils: Your hostname, 590-mxl3363mnx resolves to a loopback address: 127.0.1.1; using 10.255.255.254 instead (on interface lo)\n",
      "24/10/15 16:52:07 WARN Utils: Set SPARK_LOCAL_IP if you need to bind to another address\n",
      "Setting default log level to \"WARN\".\n",
      "To adjust logging level use sc.setLogLevel(newLevel). For SparkR, use setLogLevel(newLevel).\n",
      "24/10/15 16:52:07 WARN NativeCodeLoader: Unable to load native-hadoop library for your platform... using builtin-java classes where applicable\n",
      "24/10/15 16:52:08 WARN Utils: Service 'SparkUI' could not bind on port 4040. Attempting port 4041.\n"
     ]
    },
    {
     "name": "stdout",
     "output_type": "stream",
     "text": [
      "<pyspark.sql.session.SparkSession object at 0x7f37080bc340>\n"
     ]
    }
   ],
   "source": [
    "from pyspark.sql import SparkSession\n",
    "\n",
    "# Create a Spark session\n",
    "spark = SparkSession.builder.appName(\"Practise\").getOrCreate()\n",
    "\n",
    "# Verify Spark session creation\n",
    "print(spark)"
   ]
  },
  {
   "cell_type": "markdown",
   "metadata": {},
   "source": [
    "Loading Data"
   ]
  },
  {
   "cell_type": "code",
   "execution_count": 38,
   "metadata": {},
   "outputs": [
    {
     "name": "stdout",
     "output_type": "stream",
     "text": [
      "+-----+------+-----+-------+-----+-------+--------+--------+---------+------+-------+--------------+-----+----------+------+\n",
      "|sl_no|gender|ssc_p|  ssc_b|hsc_p|  hsc_b|   hsc_s|degree_p| degree_t|workex|etest_p|specialisation|mba_p|    status|salary|\n",
      "+-----+------+-----+-------+-----+-------+--------+--------+---------+------+-------+--------------+-----+----------+------+\n",
      "|    1|     M| 67.0| Others| 91.0| Others|Commerce|    58.0| Sci&Tech|    No|   55.0|        Mkt&HR| 58.8|    Placed|270000|\n",
      "|    2|     M|79.33|Central|78.33| Others| Science|   77.48| Sci&Tech|   Yes|   86.5|       Mkt&Fin|66.28|    Placed|200000|\n",
      "|    3|     M| 65.0|Central| 68.0|Central|    Arts|    64.0|Comm&Mgmt|    No|   75.0|       Mkt&Fin| 57.8|    Placed|250000|\n",
      "|    4|     M| 56.0|Central| 52.0|Central| Science|    52.0| Sci&Tech|    No|   66.0|        Mkt&HR|59.43|Not Placed|  NULL|\n",
      "|    5|     M| 85.8|Central| 73.6|Central|Commerce|    73.3|Comm&Mgmt|    No|   96.8|       Mkt&Fin| 55.5|    Placed|425000|\n",
      "|    6|     M| 55.0| Others| 49.8| Others| Science|   67.25| Sci&Tech|   Yes|   55.0|       Mkt&Fin|51.58|Not Placed|  NULL|\n",
      "|    7|     F| 46.0| Others| 49.2| Others|Commerce|    79.0|Comm&Mgmt|    No|  74.28|       Mkt&Fin|53.29|Not Placed|  NULL|\n",
      "|    8|     M| 82.0|Central| 64.0|Central| Science|    66.0| Sci&Tech|   Yes|   67.0|       Mkt&Fin|62.14|    Placed|252000|\n",
      "|    9|     M| 73.0|Central| 79.0|Central|Commerce|    72.0|Comm&Mgmt|    No|  91.34|       Mkt&Fin|61.29|    Placed|231000|\n",
      "|   10|     M| 58.0|Central| 70.0|Central|Commerce|    61.0|Comm&Mgmt|    No|   54.0|       Mkt&Fin|52.21|Not Placed|  NULL|\n",
      "|   11|     M| 58.0|Central| 61.0|Central|Commerce|    60.0|Comm&Mgmt|   Yes|   62.0|        Mkt&HR|60.85|    Placed|260000|\n",
      "|   12|     M| 69.6|Central| 68.4|Central|Commerce|    78.3|Comm&Mgmt|   Yes|   60.0|       Mkt&Fin| 63.7|    Placed|250000|\n",
      "|   13|     F| 47.0|Central| 55.0| Others| Science|    65.0|Comm&Mgmt|    No|   62.0|        Mkt&HR|65.04|Not Placed|  NULL|\n",
      "|   14|     F| 77.0|Central| 87.0|Central|Commerce|    59.0|Comm&Mgmt|    No|   68.0|       Mkt&Fin|68.63|    Placed|218000|\n",
      "|   15|     M| 62.0|Central| 47.0|Central|Commerce|    50.0|Comm&Mgmt|    No|   76.0|        Mkt&HR|54.96|Not Placed|  NULL|\n",
      "|   16|     F| 65.0|Central| 75.0|Central|Commerce|    69.0|Comm&Mgmt|   Yes|   72.0|       Mkt&Fin|64.66|    Placed|200000|\n",
      "|   17|     M| 63.0|Central| 66.2|Central|Commerce|    65.6|Comm&Mgmt|   Yes|   60.0|       Mkt&Fin|62.54|    Placed|300000|\n",
      "|   18|     F| 55.0|Central| 67.0|Central|Commerce|    64.0|Comm&Mgmt|    No|   60.0|       Mkt&Fin|67.28|Not Placed|  NULL|\n",
      "|   19|     F| 63.0|Central| 66.0|Central|Commerce|    64.0|Comm&Mgmt|    No|   68.0|        Mkt&HR|64.08|Not Placed|  NULL|\n",
      "|   20|     M| 60.0| Others| 67.0| Others|    Arts|    70.0|Comm&Mgmt|   Yes|  50.48|       Mkt&Fin|77.89|    Placed|236000|\n",
      "+-----+------+-----+-------+-----+-------+--------+--------+---------+------+-------+--------------+-----+----------+------+\n",
      "only showing top 20 rows\n",
      "\n"
     ]
    }
   ],
   "source": [
    "df_pyspark =  spark.read.csv('Placement_Data_Full_Class.csv',header =True ,inferSchema = True)\n",
    "df_pyspark.show()"
   ]
  },
  {
   "cell_type": "markdown",
   "metadata": {},
   "source": [
    "Dropping Null Values"
   ]
  },
  {
   "cell_type": "code",
   "execution_count": 39,
   "metadata": {},
   "outputs": [],
   "source": [
    "df_pyspark = df_pyspark.na.drop()"
   ]
  },
  {
   "cell_type": "code",
   "execution_count": 40,
   "metadata": {},
   "outputs": [
    {
     "name": "stdout",
     "output_type": "stream",
     "text": [
      "root\n",
      " |-- sl_no: integer (nullable = true)\n",
      " |-- gender: string (nullable = true)\n",
      " |-- ssc_p: double (nullable = true)\n",
      " |-- ssc_b: string (nullable = true)\n",
      " |-- hsc_p: double (nullable = true)\n",
      " |-- hsc_b: string (nullable = true)\n",
      " |-- hsc_s: string (nullable = true)\n",
      " |-- degree_p: double (nullable = true)\n",
      " |-- degree_t: string (nullable = true)\n",
      " |-- workex: string (nullable = true)\n",
      " |-- etest_p: double (nullable = true)\n",
      " |-- specialisation: string (nullable = true)\n",
      " |-- mba_p: double (nullable = true)\n",
      " |-- status: string (nullable = true)\n",
      " |-- salary: integer (nullable = true)\n",
      "\n"
     ]
    }
   ],
   "source": [
    "df_pyspark.printSchema()"
   ]
  },
  {
   "cell_type": "markdown",
   "metadata": {},
   "source": [
    "### Data Preprocessing"
   ]
  },
  {
   "cell_type": "markdown",
   "metadata": {},
   "source": [
    "[gender,ssc_p,specilisation]------>new feature ------> independent feature"
   ]
  },
  {
   "cell_type": "code",
   "execution_count": 57,
   "metadata": {},
   "outputs": [],
   "source": [
    "from pyspark.ml.feature import VectorAssembler\n",
    "featureassembler = VectorAssembler(inputCols=[\"ssc_p\",\"hsc_p\",\"degree_p\",\n",
    "                                              \"etest_p\",\"mba_p\"],outputCol=\"Independent Features\")"
   ]
  },
  {
   "cell_type": "code",
   "execution_count": 42,
   "metadata": {},
   "outputs": [],
   "source": [
    "output = featureassembler.transform(df_pyspark)"
   ]
  },
  {
   "cell_type": "code",
   "execution_count": 43,
   "metadata": {},
   "outputs": [
    {
     "name": "stdout",
     "output_type": "stream",
     "text": [
      "+-----+------+-----+-------+-----+-------+--------+--------+---------+------+-------+--------------+-----+------+------+--------------------+\n",
      "|sl_no|gender|ssc_p|  ssc_b|hsc_p|  hsc_b|   hsc_s|degree_p| degree_t|workex|etest_p|specialisation|mba_p|status|salary|Independent Features|\n",
      "+-----+------+-----+-------+-----+-------+--------+--------+---------+------+-------+--------------+-----+------+------+--------------------+\n",
      "|    1|     M| 67.0| Others| 91.0| Others|Commerce|    58.0| Sci&Tech|    No|   55.0|        Mkt&HR| 58.8|Placed|270000|[67.0,91.0,58.0,5...|\n",
      "|    2|     M|79.33|Central|78.33| Others| Science|   77.48| Sci&Tech|   Yes|   86.5|       Mkt&Fin|66.28|Placed|200000|[79.33,78.33,77.4...|\n",
      "|    3|     M| 65.0|Central| 68.0|Central|    Arts|    64.0|Comm&Mgmt|    No|   75.0|       Mkt&Fin| 57.8|Placed|250000|[65.0,68.0,64.0,7...|\n",
      "|    5|     M| 85.8|Central| 73.6|Central|Commerce|    73.3|Comm&Mgmt|    No|   96.8|       Mkt&Fin| 55.5|Placed|425000|[85.8,73.6,73.3,9...|\n",
      "|    8|     M| 82.0|Central| 64.0|Central| Science|    66.0| Sci&Tech|   Yes|   67.0|       Mkt&Fin|62.14|Placed|252000|[82.0,64.0,66.0,6...|\n",
      "|    9|     M| 73.0|Central| 79.0|Central|Commerce|    72.0|Comm&Mgmt|    No|  91.34|       Mkt&Fin|61.29|Placed|231000|[73.0,79.0,72.0,9...|\n",
      "|   11|     M| 58.0|Central| 61.0|Central|Commerce|    60.0|Comm&Mgmt|   Yes|   62.0|        Mkt&HR|60.85|Placed|260000|[58.0,61.0,60.0,6...|\n",
      "|   12|     M| 69.6|Central| 68.4|Central|Commerce|    78.3|Comm&Mgmt|   Yes|   60.0|       Mkt&Fin| 63.7|Placed|250000|[69.6,68.4,78.3,6...|\n",
      "|   14|     F| 77.0|Central| 87.0|Central|Commerce|    59.0|Comm&Mgmt|    No|   68.0|       Mkt&Fin|68.63|Placed|218000|[77.0,87.0,59.0,6...|\n",
      "|   16|     F| 65.0|Central| 75.0|Central|Commerce|    69.0|Comm&Mgmt|   Yes|   72.0|       Mkt&Fin|64.66|Placed|200000|[65.0,75.0,69.0,7...|\n",
      "|   17|     M| 63.0|Central| 66.2|Central|Commerce|    65.6|Comm&Mgmt|   Yes|   60.0|       Mkt&Fin|62.54|Placed|300000|[63.0,66.2,65.6,6...|\n",
      "|   20|     M| 60.0| Others| 67.0| Others|    Arts|    70.0|Comm&Mgmt|   Yes|  50.48|       Mkt&Fin|77.89|Placed|236000|[60.0,67.0,70.0,5...|\n",
      "|   21|     M| 62.0| Others| 65.0| Others|Commerce|    66.0|Comm&Mgmt|    No|   50.0|        Mkt&HR| 56.7|Placed|265000|[62.0,65.0,66.0,5...|\n",
      "|   22|     F| 79.0| Others| 76.0| Others|Commerce|    85.0|Comm&Mgmt|    No|   95.0|       Mkt&Fin|69.06|Placed|393000|[79.0,76.0,85.0,9...|\n",
      "|   23|     F| 69.8| Others| 60.8| Others| Science|   72.23| Sci&Tech|    No|  55.53|        Mkt&HR|68.81|Placed|360000|[69.8,60.8,72.23,...|\n",
      "|   24|     F| 77.4| Others| 60.0| Others| Science|   64.74| Sci&Tech|   Yes|   92.0|       Mkt&Fin|63.62|Placed|300000|[77.4,60.0,64.74,...|\n",
      "|   25|     M| 76.5| Others| 97.7| Others| Science|   78.86| Sci&Tech|    No|   97.4|       Mkt&Fin|74.01|Placed|360000|[76.5,97.7,78.86,...|\n",
      "|   27|     M| 71.0| Others| 79.0| Others|Commerce|    66.0|Comm&Mgmt|   Yes|   94.0|       Mkt&Fin|57.55|Placed|240000|[71.0,79.0,66.0,9...|\n",
      "|   28|     M| 63.0| Others| 67.0| Others|Commerce|    66.0|Comm&Mgmt|    No|   68.0|        Mkt&HR|57.69|Placed|265000|[63.0,67.0,66.0,6...|\n",
      "|   29|     M|76.76| Others| 76.5| Others|Commerce|    67.5|Comm&Mgmt|   Yes|  73.35|       Mkt&Fin|64.15|Placed|350000|[76.76,76.5,67.5,...|\n",
      "+-----+------+-----+-------+-----+-------+--------+--------+---------+------+-------+--------------+-----+------+------+--------------------+\n",
      "only showing top 20 rows\n",
      "\n"
     ]
    }
   ],
   "source": [
    "output.show()"
   ]
  },
  {
   "cell_type": "code",
   "execution_count": 44,
   "metadata": {},
   "outputs": [
    {
     "data": {
      "text/plain": [
       "['sl_no',\n",
       " 'gender',\n",
       " 'ssc_p',\n",
       " 'ssc_b',\n",
       " 'hsc_p',\n",
       " 'hsc_b',\n",
       " 'hsc_s',\n",
       " 'degree_p',\n",
       " 'degree_t',\n",
       " 'workex',\n",
       " 'etest_p',\n",
       " 'specialisation',\n",
       " 'mba_p',\n",
       " 'status',\n",
       " 'salary',\n",
       " 'Independent Features']"
      ]
     },
     "execution_count": 44,
     "metadata": {},
     "output_type": "execute_result"
    }
   ],
   "source": [
    "output.columns"
   ]
  },
  {
   "cell_type": "code",
   "execution_count": 45,
   "metadata": {},
   "outputs": [],
   "source": [
    "finalized_data=output.select(\"Independent Features\",\"salary\")"
   ]
  },
  {
   "cell_type": "code",
   "execution_count": 46,
   "metadata": {},
   "outputs": [
    {
     "name": "stdout",
     "output_type": "stream",
     "text": [
      "+--------------------+------+\n",
      "|Independent Features|salary|\n",
      "+--------------------+------+\n",
      "|[67.0,91.0,58.0,5...|270000|\n",
      "|[79.33,78.33,77.4...|200000|\n",
      "|[65.0,68.0,64.0,7...|250000|\n",
      "|[85.8,73.6,73.3,9...|425000|\n",
      "|[82.0,64.0,66.0,6...|252000|\n",
      "|[73.0,79.0,72.0,9...|231000|\n",
      "|[58.0,61.0,60.0,6...|260000|\n",
      "|[69.6,68.4,78.3,6...|250000|\n",
      "|[77.0,87.0,59.0,6...|218000|\n",
      "|[65.0,75.0,69.0,7...|200000|\n",
      "|[63.0,66.2,65.6,6...|300000|\n",
      "|[60.0,67.0,70.0,5...|236000|\n",
      "|[62.0,65.0,66.0,5...|265000|\n",
      "|[79.0,76.0,85.0,9...|393000|\n",
      "|[69.8,60.8,72.23,...|360000|\n",
      "|[77.4,60.0,64.74,...|300000|\n",
      "|[76.5,97.7,78.86,...|360000|\n",
      "|[71.0,79.0,66.0,9...|240000|\n",
      "|[63.0,67.0,66.0,6...|265000|\n",
      "|[76.76,76.5,67.5,...|350000|\n",
      "+--------------------+------+\n",
      "only showing top 20 rows\n",
      "\n"
     ]
    }
   ],
   "source": [
    "finalized_data.show()"
   ]
  },
  {
   "cell_type": "markdown",
   "metadata": {},
   "source": [
    "Splitting Data"
   ]
  },
  {
   "cell_type": "code",
   "execution_count": 50,
   "metadata": {},
   "outputs": [
    {
     "name": "stderr",
     "output_type": "stream",
     "text": [
      "24/10/16 08:09:59 WARN Instrumentation: [d53d8768] regParam is zero, which might cause numerical instability and overfitting.\n"
     ]
    }
   ],
   "source": [
    "from pyspark.ml.regression import LinearRegression\n",
    "\n",
    "#train test split\n",
    "train_data,test_data = finalized_data.randomSplit([0.60,0.40])\n",
    "\n"
   ]
  },
  {
   "cell_type": "markdown",
   "metadata": {},
   "source": [
    "Building and Training the Model"
   ]
  },
  {
   "cell_type": "code",
   "execution_count": 59,
   "metadata": {},
   "outputs": [
    {
     "name": "stderr",
     "output_type": "stream",
     "text": [
      "24/10/16 08:17:55 WARN Instrumentation: [c5614fee] regParam is zero, which might cause numerical instability and overfitting.\n"
     ]
    }
   ],
   "source": [
    "regressor=LinearRegression(featuresCol='Independent Features', labelCol='salary')\n",
    "reg=regressor.fit(train_data)"
   ]
  },
  {
   "cell_type": "code",
   "execution_count": 51,
   "metadata": {},
   "outputs": [
    {
     "name": "stdout",
     "output_type": "stream",
     "text": [
      "+--------------------+------+\n",
      "|Independent Features|salary|\n",
      "+--------------------+------+\n",
      "|[49.0,59.0,65.0,8...|340000|\n",
      "|[53.0,63.0,60.0,7...|250000|\n",
      "|[55.68,61.33,56.8...|260000|\n",
      "|[58.0,61.0,60.0,6...|260000|\n",
      "|[58.0,61.0,61.0,5...|250000|\n",
      "|[58.0,62.0,64.0,5...|260000|\n",
      "|[60.23,69.0,66.0,...|230000|\n",
      "|[60.4,66.6,65.0,7...|220000|\n",
      "|[60.8,68.4,64.6,8...|940000|\n",
      "|[61.0,82.0,69.0,8...|300000|\n",
      "|[62.0,62.0,60.0,6...|240000|\n",
      "|[62.0,63.0,64.0,6...|220000|\n",
      "|[62.0,63.0,66.0,8...|233000|\n",
      "|[62.0,72.0,65.0,6...|216000|\n",
      "|[63.0,62.0,68.0,6...|250000|\n",
      "|[63.0,66.2,65.6,6...|300000|\n",
      "|[63.0,67.0,64.0,7...|500000|\n",
      "|[63.0,67.0,66.0,6...|265000|\n",
      "|[63.0,72.0,68.0,7...|380000|\n",
      "|[64.0,73.5,73.0,5...|250000|\n",
      "+--------------------+------+\n",
      "only showing top 20 rows\n",
      "\n"
     ]
    }
   ],
   "source": [
    "train_data.show()"
   ]
  },
  {
   "cell_type": "code",
   "execution_count": 53,
   "metadata": {},
   "outputs": [
    {
     "data": {
      "text/plain": [
       "DenseVector([-442.2366, -1667.2487, -2661.5742, 1148.646, 4469.8797])"
      ]
     },
     "execution_count": 53,
     "metadata": {},
     "output_type": "execute_result"
    }
   ],
   "source": [
    "##Coefficients \n",
    "\n",
    "reg.coefficients"
   ]
  },
  {
   "cell_type": "code",
   "execution_count": 54,
   "metadata": {},
   "outputs": [
    {
     "data": {
      "text/plain": [
       "251062.8294730167"
      ]
     },
     "execution_count": 54,
     "metadata": {},
     "output_type": "execute_result"
    }
   ],
   "source": [
    "##Intercepts\n",
    "\n",
    "reg.intercept"
   ]
  },
  {
   "cell_type": "code",
   "execution_count": 55,
   "metadata": {},
   "outputs": [],
   "source": [
    "##Predictions\n",
    "\n",
    "pred_results = reg.evaluate(test_data)"
   ]
  },
  {
   "cell_type": "code",
   "execution_count": 56,
   "metadata": {},
   "outputs": [
    {
     "name": "stdout",
     "output_type": "stream",
     "text": [
      "+--------------------+------+------------------+\n",
      "|Independent Features|salary|        prediction|\n",
      "+--------------------+------+------------------+\n",
      "|[52.6,65.58,72.11...|265000|245962.29959043805|\n",
      "|[56.6,64.8,70.2,8...|336000|328324.33526000456|\n",
      "|[58.0,60.0,72.0,7...|275000|258419.60323793034|\n",
      "|[59.0,60.0,56.0,5...|220000|  297869.364187403|\n",
      "|[60.0,63.0,56.0,8...|300000| 315464.7845681075|\n",
      "|[60.0,67.0,70.0,5...|236000|332655.36414322973|\n",
      "|[61.0,62.0,65.0,6...|250000| 272864.5794460012|\n",
      "|[61.0,81.0,66.4,5...|278000|248836.54379706466|\n",
      "|[62.0,65.0,66.0,5...|265000|  250483.583764381|\n",
      "|[63.0,60.0,57.0,7...|204000| 304883.6049677954|\n",
      "|[63.0,71.4,61.4,6...|240000|317793.20039828395|\n",
      "|[64.0,67.0,69.6,5...|250000| 309305.2901696431|\n",
      "|[64.0,80.0,65.0,6...|500000|253322.61436181236|\n",
      "|[65.0,68.0,69.0,5...|250000| 232866.2990523775|\n",
      "|[65.0,71.5,62.8,5...|265000|254430.32899338292|\n",
      "|[66.5,70.4,71.93,...|230000|  270179.337114915|\n",
      "|[67.0,63.0,72.0,5...|225000|259112.58319930016|\n",
      "|[67.0,67.0,73.0,5...|295000|294842.53246552206|\n",
      "|[67.0,68.0,64.0,7...|300000| 262272.4519579944|\n",
      "|[67.16,72.5,63.35...|250000|  285666.672409175|\n",
      "+--------------------+------+------------------+\n",
      "only showing top 20 rows\n",
      "\n"
     ]
    }
   ],
   "source": [
    "pred_results.predictions.show()"
   ]
  },
  {
   "cell_type": "markdown",
   "metadata": {},
   "source": [
    "Model Evaluation\n"
   ]
  },
  {
   "cell_type": "markdown",
   "metadata": {},
   "source": [
    "predictions = reg.transform(test_data)\n",
    "from pyspark.ml.evaluation import RegressionEvaluator\n",
    "eval = RegressionEvaluator(labelCol='Independent Features',predictionCol='salary',metricName='rmse')\n",
    "rmse = reg.evaluate(predictions)\n",
    "print(\"Root Mean Squared Error (RMSE) on test data\",rmse)"
   ]
  },
  {
   "cell_type": "markdown",
   "metadata": {},
   "source": [
    "new_data = spark.read.csv(\"path_to_new_data.csv\", header=True, inferSchema=True)\n",
    "new_data = assembler.transform(new_data)\n",
    "predictions = model.transform(new_data)"
   ]
  },
  {
   "cell_type": "code",
   "execution_count": null,
   "metadata": {},
   "outputs": [],
   "source": []
  },
  {
   "cell_type": "code",
   "execution_count": null,
   "metadata": {},
   "outputs": [],
   "source": []
  },
  {
   "cell_type": "code",
   "execution_count": null,
   "metadata": {},
   "outputs": [],
   "source": []
  }
 ],
 "metadata": {
  "kernelspec": {
   "display_name": "spark",
   "language": "python",
   "name": "python3"
  },
  "language_info": {
   "codemirror_mode": {
    "name": "ipython",
    "version": 3
   },
   "file_extension": ".py",
   "mimetype": "text/x-python",
   "name": "python",
   "nbconvert_exporter": "python",
   "pygments_lexer": "ipython3",
   "version": "3.9.20"
  }
 },
 "nbformat": 4,
 "nbformat_minor": 2
}
