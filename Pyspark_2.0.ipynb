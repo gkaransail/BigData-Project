{
 "cells": [
  {
   "cell_type": "markdown",
   "metadata": {},
   "source": [
    "Create SparkSession"
   ]
  },
  {
   "cell_type": "code",
   "execution_count": null,
   "metadata": {},
   "outputs": [],
   "source": [
    "from pyspark.sql import SparkSession\n",
    "\n",
    "# Create a Spark session\n",
    "spark = SparkSession.builder.appName(\"Practise\").getOrCreate()\n",
    "\n",
    "# Verify Spark session creation\n",
    "print(spark)"
   ]
  },
  {
   "cell_type": "markdown",
   "metadata": {},
   "source": [
    "Read data from CSV "
   ]
  },
  {
   "cell_type": "code",
   "execution_count": 6,
   "metadata": {},
   "outputs": [],
   "source": [
    "df = spark.read.option('header','true').csv('Placement_Data_Full_Class.csv',inferSchema=True)"
   ]
  },
  {
   "cell_type": "code",
   "execution_count": 7,
   "metadata": {},
   "outputs": [
    {
     "name": "stdout",
     "output_type": "stream",
     "text": [
      "root\n",
      " |-- sl_no: integer (nullable = true)\n",
      " |-- gender: string (nullable = true)\n",
      " |-- ssc_p: double (nullable = true)\n",
      " |-- ssc_b: string (nullable = true)\n",
      " |-- hsc_p: double (nullable = true)\n",
      " |-- hsc_b: string (nullable = true)\n",
      " |-- hsc_s: string (nullable = true)\n",
      " |-- degree_p: double (nullable = true)\n",
      " |-- degree_t: string (nullable = true)\n",
      " |-- workex: string (nullable = true)\n",
      " |-- etest_p: double (nullable = true)\n",
      " |-- specialisation: string (nullable = true)\n",
      " |-- mba_p: double (nullable = true)\n",
      " |-- status: string (nullable = true)\n",
      " |-- salary: integer (nullable = true)\n",
      "\n"
     ]
    }
   ],
   "source": [
    "df.printSchema()"
   ]
  },
  {
   "cell_type": "code",
   "execution_count": 8,
   "metadata": {},
   "outputs": [
    {
     "name": "stdout",
     "output_type": "stream",
     "text": [
      "+-----+------+-----+-------+-----+-------+--------+--------+---------+------+-------+--------------+-----+----------+------+\n",
      "|sl_no|gender|ssc_p|  ssc_b|hsc_p|  hsc_b|   hsc_s|degree_p| degree_t|workex|etest_p|specialisation|mba_p|    status|salary|\n",
      "+-----+------+-----+-------+-----+-------+--------+--------+---------+------+-------+--------------+-----+----------+------+\n",
      "|    1|     M| 67.0| Others| 91.0| Others|Commerce|    58.0| Sci&Tech|    No|   55.0|        Mkt&HR| 58.8|    Placed|270000|\n",
      "|    2|     M|79.33|Central|78.33| Others| Science|   77.48| Sci&Tech|   Yes|   86.5|       Mkt&Fin|66.28|    Placed|200000|\n",
      "|    3|     M| 65.0|Central| 68.0|Central|    Arts|    64.0|Comm&Mgmt|    No|   75.0|       Mkt&Fin| 57.8|    Placed|250000|\n",
      "|    4|     M| 56.0|Central| 52.0|Central| Science|    52.0| Sci&Tech|    No|   66.0|        Mkt&HR|59.43|Not Placed|  NULL|\n",
      "|    5|     M| 85.8|Central| 73.6|Central|Commerce|    73.3|Comm&Mgmt|    No|   96.8|       Mkt&Fin| 55.5|    Placed|425000|\n",
      "|    6|     M| 55.0| Others| 49.8| Others| Science|   67.25| Sci&Tech|   Yes|   55.0|       Mkt&Fin|51.58|Not Placed|  NULL|\n",
      "|    7|     F| 46.0| Others| 49.2| Others|Commerce|    79.0|Comm&Mgmt|    No|  74.28|       Mkt&Fin|53.29|Not Placed|  NULL|\n",
      "|    8|     M| 82.0|Central| 64.0|Central| Science|    66.0| Sci&Tech|   Yes|   67.0|       Mkt&Fin|62.14|    Placed|252000|\n",
      "|    9|     M| 73.0|Central| 79.0|Central|Commerce|    72.0|Comm&Mgmt|    No|  91.34|       Mkt&Fin|61.29|    Placed|231000|\n",
      "|   10|     M| 58.0|Central| 70.0|Central|Commerce|    61.0|Comm&Mgmt|    No|   54.0|       Mkt&Fin|52.21|Not Placed|  NULL|\n",
      "|   11|     M| 58.0|Central| 61.0|Central|Commerce|    60.0|Comm&Mgmt|   Yes|   62.0|        Mkt&HR|60.85|    Placed|260000|\n",
      "|   12|     M| 69.6|Central| 68.4|Central|Commerce|    78.3|Comm&Mgmt|   Yes|   60.0|       Mkt&Fin| 63.7|    Placed|250000|\n",
      "|   13|     F| 47.0|Central| 55.0| Others| Science|    65.0|Comm&Mgmt|    No|   62.0|        Mkt&HR|65.04|Not Placed|  NULL|\n",
      "|   14|     F| 77.0|Central| 87.0|Central|Commerce|    59.0|Comm&Mgmt|    No|   68.0|       Mkt&Fin|68.63|    Placed|218000|\n",
      "|   15|     M| 62.0|Central| 47.0|Central|Commerce|    50.0|Comm&Mgmt|    No|   76.0|        Mkt&HR|54.96|Not Placed|  NULL|\n",
      "|   16|     F| 65.0|Central| 75.0|Central|Commerce|    69.0|Comm&Mgmt|   Yes|   72.0|       Mkt&Fin|64.66|    Placed|200000|\n",
      "|   17|     M| 63.0|Central| 66.2|Central|Commerce|    65.6|Comm&Mgmt|   Yes|   60.0|       Mkt&Fin|62.54|    Placed|300000|\n",
      "|   18|     F| 55.0|Central| 67.0|Central|Commerce|    64.0|Comm&Mgmt|    No|   60.0|       Mkt&Fin|67.28|Not Placed|  NULL|\n",
      "|   19|     F| 63.0|Central| 66.0|Central|Commerce|    64.0|Comm&Mgmt|    No|   68.0|        Mkt&HR|64.08|Not Placed|  NULL|\n",
      "|   20|     M| 60.0| Others| 67.0| Others|    Arts|    70.0|Comm&Mgmt|   Yes|  50.48|       Mkt&Fin|77.89|    Placed|236000|\n",
      "+-----+------+-----+-------+-----+-------+--------+--------+---------+------+-------+--------------+-----+----------+------+\n",
      "only showing top 20 rows\n",
      "\n"
     ]
    }
   ],
   "source": [
    "df1 = spark.read.option('header','true').csv('Placement_Data_Full_Class.csv',inferSchema=True).show()"
   ]
  },
  {
   "cell_type": "markdown",
   "metadata": {},
   "source": [
    "header = True and inferSchema =True (show the datatypes)"
   ]
  },
  {
   "cell_type": "code",
   "execution_count": 11,
   "metadata": {},
   "outputs": [
    {
     "name": "stdout",
     "output_type": "stream",
     "text": [
      "+-----+------+-----+-------+-----+-------+--------+--------+---------+------+-------+--------------+-----+----------+------+\n",
      "|sl_no|gender|ssc_p|  ssc_b|hsc_p|  hsc_b|   hsc_s|degree_p| degree_t|workex|etest_p|specialisation|mba_p|    status|salary|\n",
      "+-----+------+-----+-------+-----+-------+--------+--------+---------+------+-------+--------------+-----+----------+------+\n",
      "|    1|     M| 67.0| Others| 91.0| Others|Commerce|    58.0| Sci&Tech|    No|   55.0|        Mkt&HR| 58.8|    Placed|270000|\n",
      "|    2|     M|79.33|Central|78.33| Others| Science|   77.48| Sci&Tech|   Yes|   86.5|       Mkt&Fin|66.28|    Placed|200000|\n",
      "|    3|     M| 65.0|Central| 68.0|Central|    Arts|    64.0|Comm&Mgmt|    No|   75.0|       Mkt&Fin| 57.8|    Placed|250000|\n",
      "|    4|     M| 56.0|Central| 52.0|Central| Science|    52.0| Sci&Tech|    No|   66.0|        Mkt&HR|59.43|Not Placed|  NULL|\n",
      "|    5|     M| 85.8|Central| 73.6|Central|Commerce|    73.3|Comm&Mgmt|    No|   96.8|       Mkt&Fin| 55.5|    Placed|425000|\n",
      "|    6|     M| 55.0| Others| 49.8| Others| Science|   67.25| Sci&Tech|   Yes|   55.0|       Mkt&Fin|51.58|Not Placed|  NULL|\n",
      "|    7|     F| 46.0| Others| 49.2| Others|Commerce|    79.0|Comm&Mgmt|    No|  74.28|       Mkt&Fin|53.29|Not Placed|  NULL|\n",
      "|    8|     M| 82.0|Central| 64.0|Central| Science|    66.0| Sci&Tech|   Yes|   67.0|       Mkt&Fin|62.14|    Placed|252000|\n",
      "|    9|     M| 73.0|Central| 79.0|Central|Commerce|    72.0|Comm&Mgmt|    No|  91.34|       Mkt&Fin|61.29|    Placed|231000|\n",
      "|   10|     M| 58.0|Central| 70.0|Central|Commerce|    61.0|Comm&Mgmt|    No|   54.0|       Mkt&Fin|52.21|Not Placed|  NULL|\n",
      "|   11|     M| 58.0|Central| 61.0|Central|Commerce|    60.0|Comm&Mgmt|   Yes|   62.0|        Mkt&HR|60.85|    Placed|260000|\n",
      "|   12|     M| 69.6|Central| 68.4|Central|Commerce|    78.3|Comm&Mgmt|   Yes|   60.0|       Mkt&Fin| 63.7|    Placed|250000|\n",
      "|   13|     F| 47.0|Central| 55.0| Others| Science|    65.0|Comm&Mgmt|    No|   62.0|        Mkt&HR|65.04|Not Placed|  NULL|\n",
      "|   14|     F| 77.0|Central| 87.0|Central|Commerce|    59.0|Comm&Mgmt|    No|   68.0|       Mkt&Fin|68.63|    Placed|218000|\n",
      "|   15|     M| 62.0|Central| 47.0|Central|Commerce|    50.0|Comm&Mgmt|    No|   76.0|        Mkt&HR|54.96|Not Placed|  NULL|\n",
      "|   16|     F| 65.0|Central| 75.0|Central|Commerce|    69.0|Comm&Mgmt|   Yes|   72.0|       Mkt&Fin|64.66|    Placed|200000|\n",
      "|   17|     M| 63.0|Central| 66.2|Central|Commerce|    65.6|Comm&Mgmt|   Yes|   60.0|       Mkt&Fin|62.54|    Placed|300000|\n",
      "|   18|     F| 55.0|Central| 67.0|Central|Commerce|    64.0|Comm&Mgmt|    No|   60.0|       Mkt&Fin|67.28|Not Placed|  NULL|\n",
      "|   19|     F| 63.0|Central| 66.0|Central|Commerce|    64.0|Comm&Mgmt|    No|   68.0|        Mkt&HR|64.08|Not Placed|  NULL|\n",
      "|   20|     M| 60.0| Others| 67.0| Others|    Arts|    70.0|Comm&Mgmt|   Yes|  50.48|       Mkt&Fin|77.89|    Placed|236000|\n",
      "+-----+------+-----+-------+-----+-------+--------+--------+---------+------+-------+--------------+-----+----------+------+\n",
      "only showing top 20 rows\n",
      "\n"
     ]
    }
   ],
   "source": [
    "df_pyspark =  spark.read.csv('Placement_Data_Full_Class.csv',header =True ,inferSchema = True)\n",
    "df_pyspark.show()"
   ]
  },
  {
   "cell_type": "markdown",
   "metadata": {},
   "source": [
    "Check Schema "
   ]
  },
  {
   "cell_type": "code",
   "execution_count": 12,
   "metadata": {},
   "outputs": [
    {
     "name": "stdout",
     "output_type": "stream",
     "text": [
      "root\n",
      " |-- sl_no: integer (nullable = true)\n",
      " |-- gender: string (nullable = true)\n",
      " |-- ssc_p: double (nullable = true)\n",
      " |-- ssc_b: string (nullable = true)\n",
      " |-- hsc_p: double (nullable = true)\n",
      " |-- hsc_b: string (nullable = true)\n",
      " |-- hsc_s: string (nullable = true)\n",
      " |-- degree_p: double (nullable = true)\n",
      " |-- degree_t: string (nullable = true)\n",
      " |-- workex: string (nullable = true)\n",
      " |-- etest_p: double (nullable = true)\n",
      " |-- specialisation: string (nullable = true)\n",
      " |-- mba_p: double (nullable = true)\n",
      " |-- status: string (nullable = true)\n",
      " |-- salary: integer (nullable = true)\n",
      "\n"
     ]
    }
   ],
   "source": [
    "df_pyspark.printSchema()"
   ]
  },
  {
   "cell_type": "markdown",
   "metadata": {},
   "source": [
    "Checking the Type (equivalent to .info)"
   ]
  },
  {
   "cell_type": "code",
   "execution_count": 13,
   "metadata": {},
   "outputs": [
    {
     "data": {
      "text/plain": [
       "pyspark.sql.dataframe.DataFrame"
      ]
     },
     "execution_count": 13,
     "metadata": {},
     "output_type": "execute_result"
    }
   ],
   "source": [
    "type(df_pyspark)"
   ]
  },
  {
   "cell_type": "code",
   "execution_count": 14,
   "metadata": {},
   "outputs": [
    {
     "data": {
      "text/plain": [
       "['sl_no',\n",
       " 'gender',\n",
       " 'ssc_p',\n",
       " 'ssc_b',\n",
       " 'hsc_p',\n",
       " 'hsc_b',\n",
       " 'hsc_s',\n",
       " 'degree_p',\n",
       " 'degree_t',\n",
       " 'workex',\n",
       " 'etest_p',\n",
       " 'specialisation',\n",
       " 'mba_p',\n",
       " 'status',\n",
       " 'salary']"
      ]
     },
     "execution_count": 14,
     "metadata": {},
     "output_type": "execute_result"
    }
   ],
   "source": [
    "df_pyspark.columns"
   ]
  },
  {
   "cell_type": "code",
   "execution_count": 15,
   "metadata": {},
   "outputs": [
    {
     "data": {
      "text/plain": [
       "[Row(sl_no=1, gender='M', ssc_p=67.0, ssc_b='Others', hsc_p=91.0, hsc_b='Others', hsc_s='Commerce', degree_p=58.0, degree_t='Sci&Tech', workex='No', etest_p=55.0, specialisation='Mkt&HR', mba_p=58.8, status='Placed', salary=270000),\n",
       " Row(sl_no=2, gender='M', ssc_p=79.33, ssc_b='Central', hsc_p=78.33, hsc_b='Others', hsc_s='Science', degree_p=77.48, degree_t='Sci&Tech', workex='Yes', etest_p=86.5, specialisation='Mkt&Fin', mba_p=66.28, status='Placed', salary=200000),\n",
       " Row(sl_no=3, gender='M', ssc_p=65.0, ssc_b='Central', hsc_p=68.0, hsc_b='Central', hsc_s='Arts', degree_p=64.0, degree_t='Comm&Mgmt', workex='No', etest_p=75.0, specialisation='Mkt&Fin', mba_p=57.8, status='Placed', salary=250000)]"
      ]
     },
     "execution_count": 15,
     "metadata": {},
     "output_type": "execute_result"
    }
   ],
   "source": [
    "df_pyspark.head(3)"
   ]
  },
  {
   "cell_type": "markdown",
   "metadata": {},
   "source": [
    "Select a single column"
   ]
  },
  {
   "cell_type": "code",
   "execution_count": 26,
   "metadata": {},
   "outputs": [
    {
     "name": "stdout",
     "output_type": "stream",
     "text": [
      "+-----+\n",
      "|hsc_p|\n",
      "+-----+\n",
      "| 91.0|\n",
      "|78.33|\n",
      "+-----+\n",
      "only showing top 2 rows\n",
      "\n"
     ]
    }
   ],
   "source": [
    "df_pyspark.select('hsc_p').show(2)"
   ]
  },
  {
   "cell_type": "markdown",
   "metadata": {},
   "source": [
    "Multiple columns "
   ]
  },
  {
   "cell_type": "code",
   "execution_count": 22,
   "metadata": {},
   "outputs": [
    {
     "name": "stdout",
     "output_type": "stream",
     "text": [
      "+-----+------+\n",
      "|hsc_p|gender|\n",
      "+-----+------+\n",
      "| 91.0|     M|\n",
      "|78.33|     M|\n",
      "| 68.0|     M|\n",
      "+-----+------+\n",
      "only showing top 3 rows\n",
      "\n"
     ]
    }
   ],
   "source": [
    "df_pyspark.select(['hsc_p','gender']).show(3)"
   ]
  },
  {
   "cell_type": "code",
   "execution_count": 23,
   "metadata": {},
   "outputs": [
    {
     "data": {
      "text/plain": [
       "[('sl_no', 'int'),\n",
       " ('gender', 'string'),\n",
       " ('ssc_p', 'double'),\n",
       " ('ssc_b', 'string'),\n",
       " ('hsc_p', 'double'),\n",
       " ('hsc_b', 'string'),\n",
       " ('hsc_s', 'string'),\n",
       " ('degree_p', 'double'),\n",
       " ('degree_t', 'string'),\n",
       " ('workex', 'string'),\n",
       " ('etest_p', 'double'),\n",
       " ('specialisation', 'string'),\n",
       " ('mba_p', 'double'),\n",
       " ('status', 'string'),\n",
       " ('salary', 'int')]"
      ]
     },
     "execution_count": 23,
     "metadata": {},
     "output_type": "execute_result"
    }
   ],
   "source": [
    "df_pyspark.dtypes"
   ]
  },
  {
   "cell_type": "markdown",
   "metadata": {},
   "source": [
    "Describe similar to Pandas "
   ]
  },
  {
   "cell_type": "code",
   "execution_count": 25,
   "metadata": {},
   "outputs": [
    {
     "name": "stderr",
     "output_type": "stream",
     "text": [
      "24/10/14 11:07:24 WARN SparkStringUtils: Truncated the string representation of a plan since it was too large. This behavior can be adjusted by setting 'spark.sql.debug.maxToStringFields'.\n"
     ]
    },
    {
     "name": "stdout",
     "output_type": "stream",
     "text": [
      "+-------+-----------------+------+------------------+-----+------------------+-----+-----+-----------------+--------+------+------------------+--------------+------------------+------+-----------------+\n",
      "|summary|            sl_no|gender|             ssc_p|ssc_b|             hsc_p|hsc_b|hsc_s|         degree_p|degree_t|workex|           etest_p|specialisation|             mba_p|status|           salary|\n",
      "+-------+-----------------+------+------------------+-----+------------------+-----+-----+-----------------+--------+------+------------------+--------------+------------------+------+-----------------+\n",
      "|  count|              215|   215|               215|  215|               215|  215|  215|              215|     215|   215|               215|           215|               215|   215|              148|\n",
      "|   mean|            108.0|  NULL|  67.3033953488372| NULL| 66.33316279069766| NULL| NULL|66.37018604651163|    NULL|  NULL| 72.10055813953488|          NULL|62.278186046511586|  NULL|288655.4054054054|\n",
      "| stddev|62.20932405998316|  NULL|10.827205398231456| NULL|10.897509157502983| NULL| NULL|7.358743287339444|    NULL|  NULL|13.275956401653826|          NULL| 5.833384580683803|  NULL|93457.45241958876|\n",
      "+-------+-----------------+------+------------------+-----+------------------+-----+-----+-----------------+--------+------+------------------+--------------+------------------+------+-----------------+\n",
      "only showing top 3 rows\n",
      "\n"
     ]
    }
   ],
   "source": [
    "df_pyspark.describe().show(3)"
   ]
  },
  {
   "cell_type": "markdown",
   "metadata": {},
   "source": [
    "Adding Columns "
   ]
  },
  {
   "cell_type": "code",
   "execution_count": 28,
   "metadata": {},
   "outputs": [
    {
     "name": "stdout",
     "output_type": "stream",
     "text": [
      "+-----+------+-----+-------+-----+-------+--------+--------+---------+------+-------+--------------+-----+------+------+------------------------+\n",
      "|sl_no|gender|ssc_p|  ssc_b|hsc_p|  hsc_b|   hsc_s|degree_p| degree_t|workex|etest_p|specialisation|mba_p|status|salary|Experience After 2 Years|\n",
      "+-----+------+-----+-------+-----+-------+--------+--------+---------+------+-------+--------------+-----+------+------+------------------------+\n",
      "|    1|     M| 67.0| Others| 91.0| Others|Commerce|    58.0| Sci&Tech|    No|   55.0|        Mkt&HR| 58.8|Placed|270000|                    93.0|\n",
      "|    2|     M|79.33|Central|78.33| Others| Science|   77.48| Sci&Tech|   Yes|   86.5|       Mkt&Fin|66.28|Placed|200000|                   80.33|\n",
      "|    3|     M| 65.0|Central| 68.0|Central|    Arts|    64.0|Comm&Mgmt|    No|   75.0|       Mkt&Fin| 57.8|Placed|250000|                    70.0|\n",
      "+-----+------+-----+-------+-----+-------+--------+--------+---------+------+-------+--------------+-----+------+------+------------------------+\n",
      "only showing top 3 rows\n",
      "\n"
     ]
    }
   ],
   "source": [
    "df_pyspark.withColumn('Experience After 2 Years',df_pyspark['hsc_p']+2).show(3)"
   ]
  },
  {
   "cell_type": "markdown",
   "metadata": {},
   "source": [
    "Adding Multiple Columns "
   ]
  },
  {
   "cell_type": "code",
   "execution_count": 42,
   "metadata": {},
   "outputs": [
    {
     "name": "stdout",
     "output_type": "stream",
     "text": [
      "+-----+------+-----+-------+-----+-------+--------+--------+---------+------+-------+--------------+-----+------+------+------------------------+------------------------+\n",
      "|sl_no|gender|ssc_p|  ssc_b|hsc_p|  hsc_b|   hsc_s|degree_p| degree_t|workex|etest_p|specialisation|mba_p|status|salary|Experience After 2 Years|Experience After 3 Years|\n",
      "+-----+------+-----+-------+-----+-------+--------+--------+---------+------+-------+--------------+-----+------+------+------------------------+------------------------+\n",
      "|    1|     M| 67.0| Others| 91.0| Others|Commerce|    58.0| Sci&Tech|    No|   55.0|        Mkt&HR| 58.8|Placed|270000|                    93.0|                    94.0|\n",
      "|    2|     M|79.33|Central|78.33| Others| Science|   77.48| Sci&Tech|   Yes|   86.5|       Mkt&Fin|66.28|Placed|200000|                   80.33|                   81.33|\n",
      "|    3|     M| 65.0|Central| 68.0|Central|    Arts|    64.0|Comm&Mgmt|    No|   75.0|       Mkt&Fin| 57.8|Placed|250000|                    70.0|                    71.0|\n",
      "+-----+------+-----+-------+-----+-------+--------+--------+---------+------+-------+--------------+-----+------+------+------------------------+------------------------+\n",
      "only showing top 3 rows\n",
      "\n"
     ]
    }
   ],
   "source": [
    "a = df_pyspark.withColumn('Experience After 2 Years',df_pyspark['hsc_p']+2)\\\n",
    "    .withColumn('Experience After 3 Years',df_pyspark['hsc_p']+3)\n",
    "    \n",
    "a.show(3)"
   ]
  },
  {
   "cell_type": "markdown",
   "metadata": {},
   "source": [
    "Drop Columns "
   ]
  },
  {
   "cell_type": "code",
   "execution_count": 34,
   "metadata": {},
   "outputs": [
    {
     "name": "stdout",
     "output_type": "stream",
     "text": [
      "+-----+------+-----+-------+-----+-------+--------+--------+---------+------+-------+--------------+-----+------+------+\n",
      "|sl_no|gender|ssc_p|  ssc_b|hsc_p|  hsc_b|   hsc_s|degree_p| degree_t|workex|etest_p|specialisation|mba_p|status|salary|\n",
      "+-----+------+-----+-------+-----+-------+--------+--------+---------+------+-------+--------------+-----+------+------+\n",
      "|    1|     M| 67.0| Others| 91.0| Others|Commerce|    58.0| Sci&Tech|    No|   55.0|        Mkt&HR| 58.8|Placed|270000|\n",
      "|    2|     M|79.33|Central|78.33| Others| Science|   77.48| Sci&Tech|   Yes|   86.5|       Mkt&Fin|66.28|Placed|200000|\n",
      "|    3|     M| 65.0|Central| 68.0|Central|    Arts|    64.0|Comm&Mgmt|    No|   75.0|       Mkt&Fin| 57.8|Placed|250000|\n",
      "+-----+------+-----+-------+-----+-------+--------+--------+---------+------+-------+--------------+-----+------+------+\n",
      "only showing top 3 rows\n",
      "\n"
     ]
    }
   ],
   "source": [
    "df_pyspark.drop('Experience After 2 Years').show(3)"
   ]
  },
  {
   "cell_type": "markdown",
   "metadata": {},
   "source": [
    "* for multiple columns "
   ]
  },
  {
   "cell_type": "code",
   "execution_count": 37,
   "metadata": {},
   "outputs": [
    {
     "name": "stdout",
     "output_type": "stream",
     "text": [
      "+-----+------+-----+-------+-----+-------+--------+--------+---------+------+-------+--------------+-----+------+\n",
      "|sl_no|gender|ssc_p|  ssc_b|hsc_p|  hsc_b|   hsc_s|degree_p| degree_t|workex|etest_p|specialisation|mba_p|status|\n",
      "+-----+------+-----+-------+-----+-------+--------+--------+---------+------+-------+--------------+-----+------+\n",
      "|    1|     M| 67.0| Others| 91.0| Others|Commerce|    58.0| Sci&Tech|    No|   55.0|        Mkt&HR| 58.8|Placed|\n",
      "|    2|     M|79.33|Central|78.33| Others| Science|   77.48| Sci&Tech|   Yes|   86.5|       Mkt&Fin|66.28|Placed|\n",
      "|    3|     M| 65.0|Central| 68.0|Central|    Arts|    64.0|Comm&Mgmt|    No|   75.0|       Mkt&Fin| 57.8|Placed|\n",
      "+-----+------+-----+-------+-----+-------+--------+--------+---------+------+-------+--------------+-----+------+\n",
      "only showing top 3 rows\n",
      "\n"
     ]
    }
   ],
   "source": [
    "df_pyspark.drop(*['Experience After 2 Years','salary']).show(3)"
   ]
  },
  {
   "cell_type": "code",
   "execution_count": 44,
   "metadata": {},
   "outputs": [
    {
     "name": "stdout",
     "output_type": "stream",
     "text": [
      "+-----+------+-----+-------+-----+-------+--------+--------+---------+------+-------+--------------+-----+------+\n",
      "|sl_no|gender|ssc_p|  ssc_b|hsc_p|  hsc_b|   hsc_s|degree_p| degree_t|workex|etest_p|specialisation|mba_p|status|\n",
      "+-----+------+-----+-------+-----+-------+--------+--------+---------+------+-------+--------------+-----+------+\n",
      "|    1|     M| 67.0| Others| 91.0| Others|Commerce|    58.0| Sci&Tech|    No|   55.0|        Mkt&HR| 58.8|Placed|\n",
      "|    2|     M|79.33|Central|78.33| Others| Science|   77.48| Sci&Tech|   Yes|   86.5|       Mkt&Fin|66.28|Placed|\n",
      "|    3|     M| 65.0|Central| 68.0|Central|    Arts|    64.0|Comm&Mgmt|    No|   75.0|       Mkt&Fin| 57.8|Placed|\n",
      "+-----+------+-----+-------+-----+-------+--------+--------+---------+------+-------+--------------+-----+------+\n",
      "only showing top 3 rows\n",
      "\n"
     ]
    }
   ],
   "source": [
    "df_pyspark.drop('Experience After 2 Years')\\\n",
    "    .drop('salary').show(3)"
   ]
  },
  {
   "cell_type": "markdown",
   "metadata": {},
   "source": [
    "Rename the columns "
   ]
  },
  {
   "cell_type": "code",
   "execution_count": 36,
   "metadata": {},
   "outputs": [
    {
     "name": "stdout",
     "output_type": "stream",
     "text": [
      "+-----+------+-----+-------+-----+-------+--------+--------+---------+------+-------+--------------+-----+------+------+\n",
      "|sl_no|Gender|ssc_p|  ssc_b|hsc_p|  hsc_b|   hsc_s|degree_p| degree_t|workex|etest_p|specialisation|mba_p|status|salary|\n",
      "+-----+------+-----+-------+-----+-------+--------+--------+---------+------+-------+--------------+-----+------+------+\n",
      "|    1|     M| 67.0| Others| 91.0| Others|Commerce|    58.0| Sci&Tech|    No|   55.0|        Mkt&HR| 58.8|Placed|270000|\n",
      "|    2|     M|79.33|Central|78.33| Others| Science|   77.48| Sci&Tech|   Yes|   86.5|       Mkt&Fin|66.28|Placed|200000|\n",
      "|    3|     M| 65.0|Central| 68.0|Central|    Arts|    64.0|Comm&Mgmt|    No|   75.0|       Mkt&Fin| 57.8|Placed|250000|\n",
      "+-----+------+-----+-------+-----+-------+--------+--------+---------+------+-------+--------------+-----+------+------+\n",
      "only showing top 3 rows\n",
      "\n"
     ]
    }
   ],
   "source": [
    "df_pyspark.withColumnRenamed('gender','Gender').show(3)"
   ]
  },
  {
   "cell_type": "code",
   "execution_count": null,
   "metadata": {},
   "outputs": [],
   "source": []
  },
  {
   "cell_type": "markdown",
   "metadata": {},
   "source": []
  }
 ],
 "metadata": {
  "kernelspec": {
   "display_name": "spark",
   "language": "python",
   "name": "python3"
  },
  "language_info": {
   "codemirror_mode": {
    "name": "ipython",
    "version": 3
   },
   "file_extension": ".py",
   "mimetype": "text/x-python",
   "name": "python",
   "nbconvert_exporter": "python",
   "pygments_lexer": "ipython3",
   "version": "3.9.20"
  }
 },
 "nbformat": 4,
 "nbformat_minor": 2
}
