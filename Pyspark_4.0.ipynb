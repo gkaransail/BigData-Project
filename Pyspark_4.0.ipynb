{
 "cells": [
  {
   "cell_type": "code",
   "execution_count": 1,
   "metadata": {},
   "outputs": [
    {
     "name": "stderr",
     "output_type": "stream",
     "text": [
      "your 131072x1 screen size is bogus. expect trouble\n",
      "24/10/15 15:03:50 WARN Utils: Your hostname, 590-mxl3363mnx resolves to a loopback address: 127.0.1.1; using 10.255.255.254 instead (on interface lo)\n",
      "24/10/15 15:03:50 WARN Utils: Set SPARK_LOCAL_IP if you need to bind to another address\n",
      "Setting default log level to \"WARN\".\n",
      "To adjust logging level use sc.setLogLevel(newLevel). For SparkR, use setLogLevel(newLevel).\n",
      "24/10/15 15:03:51 WARN NativeCodeLoader: Unable to load native-hadoop library for your platform... using builtin-java classes where applicable\n"
     ]
    },
    {
     "name": "stdout",
     "output_type": "stream",
     "text": [
      "<pyspark.sql.session.SparkSession object at 0x7f84381a9310>\n"
     ]
    }
   ],
   "source": [
    "from pyspark.sql import SparkSession\n",
    "\n",
    "# Create a Spark session\n",
    "spark = SparkSession.builder.appName(\"Practise\").getOrCreate()\n",
    "\n",
    "# Verify Spark session creation\n",
    "print(spark)"
   ]
  },
  {
   "cell_type": "code",
   "execution_count": 2,
   "metadata": {},
   "outputs": [
    {
     "name": "stdout",
     "output_type": "stream",
     "text": [
      "+-----+------+-----+-------+-----+-------+--------+--------+---------+------+-------+--------------+-----+----------+------+\n",
      "|sl_no|gender|ssc_p|  ssc_b|hsc_p|  hsc_b|   hsc_s|degree_p| degree_t|workex|etest_p|specialisation|mba_p|    status|salary|\n",
      "+-----+------+-----+-------+-----+-------+--------+--------+---------+------+-------+--------------+-----+----------+------+\n",
      "|    1|     M| 67.0| Others| 91.0| Others|Commerce|    58.0| Sci&Tech|    No|   55.0|        Mkt&HR| 58.8|    Placed|270000|\n",
      "|    2|     M|79.33|Central|78.33| Others| Science|   77.48| Sci&Tech|   Yes|   86.5|       Mkt&Fin|66.28|    Placed|200000|\n",
      "|    3|     M| 65.0|Central| 68.0|Central|    Arts|    64.0|Comm&Mgmt|    No|   75.0|       Mkt&Fin| 57.8|    Placed|250000|\n",
      "|    4|     M| 56.0|Central| 52.0|Central| Science|    52.0| Sci&Tech|    No|   66.0|        Mkt&HR|59.43|Not Placed|  NULL|\n",
      "|    5|     M| 85.8|Central| 73.6|Central|Commerce|    73.3|Comm&Mgmt|    No|   96.8|       Mkt&Fin| 55.5|    Placed|425000|\n",
      "|    6|     M| 55.0| Others| 49.8| Others| Science|   67.25| Sci&Tech|   Yes|   55.0|       Mkt&Fin|51.58|Not Placed|  NULL|\n",
      "|    7|     F| 46.0| Others| 49.2| Others|Commerce|    79.0|Comm&Mgmt|    No|  74.28|       Mkt&Fin|53.29|Not Placed|  NULL|\n",
      "|    8|     M| 82.0|Central| 64.0|Central| Science|    66.0| Sci&Tech|   Yes|   67.0|       Mkt&Fin|62.14|    Placed|252000|\n",
      "|    9|     M| 73.0|Central| 79.0|Central|Commerce|    72.0|Comm&Mgmt|    No|  91.34|       Mkt&Fin|61.29|    Placed|231000|\n",
      "|   10|     M| 58.0|Central| 70.0|Central|Commerce|    61.0|Comm&Mgmt|    No|   54.0|       Mkt&Fin|52.21|Not Placed|  NULL|\n",
      "|   11|     M| 58.0|Central| 61.0|Central|Commerce|    60.0|Comm&Mgmt|   Yes|   62.0|        Mkt&HR|60.85|    Placed|260000|\n",
      "|   12|     M| 69.6|Central| 68.4|Central|Commerce|    78.3|Comm&Mgmt|   Yes|   60.0|       Mkt&Fin| 63.7|    Placed|250000|\n",
      "|   13|     F| 47.0|Central| 55.0| Others| Science|    65.0|Comm&Mgmt|    No|   62.0|        Mkt&HR|65.04|Not Placed|  NULL|\n",
      "|   14|     F| 77.0|Central| 87.0|Central|Commerce|    59.0|Comm&Mgmt|    No|   68.0|       Mkt&Fin|68.63|    Placed|218000|\n",
      "|   15|     M| 62.0|Central| 47.0|Central|Commerce|    50.0|Comm&Mgmt|    No|   76.0|        Mkt&HR|54.96|Not Placed|  NULL|\n",
      "|   16|     F| 65.0|Central| 75.0|Central|Commerce|    69.0|Comm&Mgmt|   Yes|   72.0|       Mkt&Fin|64.66|    Placed|200000|\n",
      "|   17|     M| 63.0|Central| 66.2|Central|Commerce|    65.6|Comm&Mgmt|   Yes|   60.0|       Mkt&Fin|62.54|    Placed|300000|\n",
      "|   18|     F| 55.0|Central| 67.0|Central|Commerce|    64.0|Comm&Mgmt|    No|   60.0|       Mkt&Fin|67.28|Not Placed|  NULL|\n",
      "|   19|     F| 63.0|Central| 66.0|Central|Commerce|    64.0|Comm&Mgmt|    No|   68.0|        Mkt&HR|64.08|Not Placed|  NULL|\n",
      "|   20|     M| 60.0| Others| 67.0| Others|    Arts|    70.0|Comm&Mgmt|   Yes|  50.48|       Mkt&Fin|77.89|    Placed|236000|\n",
      "+-----+------+-----+-------+-----+-------+--------+--------+---------+------+-------+--------------+-----+----------+------+\n",
      "only showing top 20 rows\n",
      "\n"
     ]
    }
   ],
   "source": [
    "df_pyspark =  spark.read.csv('Placement_Data_Full_Class.csv',header =True ,inferSchema = True)\n",
    "df_pyspark.show()"
   ]
  },
  {
   "cell_type": "markdown",
   "metadata": {},
   "source": [
    "Filter Operations"
   ]
  },
  {
   "cell_type": "code",
   "execution_count": 3,
   "metadata": {},
   "outputs": [
    {
     "name": "stdout",
     "output_type": "stream",
     "text": [
      "+-----+------+-----+-------+-----+-------+--------+--------+---------+------+-------+--------------+-----+------+------+\n",
      "|sl_no|gender|ssc_p|  ssc_b|hsc_p|  hsc_b|   hsc_s|degree_p| degree_t|workex|etest_p|specialisation|mba_p|status|salary|\n",
      "+-----+------+-----+-------+-----+-------+--------+--------+---------+------+-------+--------------+-----+------+------+\n",
      "|    2|     M|79.33|Central|78.33| Others| Science|   77.48| Sci&Tech|   Yes|   86.5|       Mkt&Fin|66.28|Placed|200000|\n",
      "|    3|     M| 65.0|Central| 68.0|Central|    Arts|    64.0|Comm&Mgmt|    No|   75.0|       Mkt&Fin| 57.8|Placed|250000|\n",
      "|    9|     M| 73.0|Central| 79.0|Central|Commerce|    72.0|Comm&Mgmt|    No|  91.34|       Mkt&Fin|61.29|Placed|231000|\n",
      "|   12|     M| 69.6|Central| 68.4|Central|Commerce|    78.3|Comm&Mgmt|   Yes|   60.0|       Mkt&Fin| 63.7|Placed|250000|\n",
      "|   14|     F| 77.0|Central| 87.0|Central|Commerce|    59.0|Comm&Mgmt|    No|   68.0|       Mkt&Fin|68.63|Placed|218000|\n",
      "|   16|     F| 65.0|Central| 75.0|Central|Commerce|    69.0|Comm&Mgmt|   Yes|   72.0|       Mkt&Fin|64.66|Placed|200000|\n",
      "|   20|     M| 60.0| Others| 67.0| Others|    Arts|    70.0|Comm&Mgmt|   Yes|  50.48|       Mkt&Fin|77.89|Placed|236000|\n",
      "|   27|     M| 71.0| Others| 79.0| Others|Commerce|    66.0|Comm&Mgmt|   Yes|   94.0|       Mkt&Fin|57.55|Placed|240000|\n",
      "|   31|     F| 64.0|Central| 73.5|Central|Commerce|    73.0|Comm&Mgmt|    No|   52.0|        Mkt&HR| 56.7|Placed|250000|\n",
      "|   39|     F| 73.0| Others| 58.0| Others| Science|    66.0|Comm&Mgmt|    No|   53.7|        Mkt&HR|56.86|Placed|240000|\n",
      "|   45|     F| 77.0| Others| 73.0| Others|Commerce|    81.0|Comm&Mgmt|   Yes|   89.0|       Mkt&Fin| 69.7|Placed|200000|\n",
      "|   48|     M| 63.0|Central| 60.0|Central|Commerce|    57.0|Comm&Mgmt|   Yes|   78.0|       Mkt&Fin|54.55|Placed|204000|\n",
      "|   49|     M| 63.0| Others| 62.0| Others|Commerce|    68.0|Comm&Mgmt|    No|   64.0|       Mkt&Fin|62.46|Placed|250000|\n",
      "|   51|     F| 75.2|Central| 73.2|Central| Science|    68.4|Comm&Mgmt|    No|   65.0|        Mkt&HR|62.98|Placed|200000|\n",
      "|   55|     F| 74.0|Central| 60.0| Others| Science|    69.0|Comm&Mgmt|    No|   78.0|        Mkt&HR|65.56|Placed|216000|\n",
      "|   56|     M| 60.4|Central| 66.6| Others| Science|    65.0|Comm&Mgmt|    No|   71.0|        Mkt&HR|52.71|Placed|220000|\n",
      "|   57|     M| 63.0| Others| 71.4| Others|Commerce|    61.4|Comm&Mgmt|    No|   68.0|       Mkt&Fin|66.88|Placed|240000|\n",
      "|   63|     F| 86.5| Others| 64.2| Others| Science|    67.4| Sci&Tech|    No|   59.0|       Mkt&Fin|59.69|Placed|240000|\n",
      "|   65|     M| 80.0| Others| 73.0| Others|Commerce|    75.0|Comm&Mgmt|    No|   61.0|       Mkt&Fin|58.78|Placed|240000|\n",
      "|   72|     M| 75.0| Others|70.29| Others|Commerce|    71.0|Comm&Mgmt|    No|   95.0|       Mkt&Fin|66.94|Placed|240000|\n",
      "+-----+------+-----+-------+-----+-------+--------+--------+---------+------+-------+--------------+-----+------+------+\n",
      "only showing top 20 rows\n",
      "\n"
     ]
    }
   ],
   "source": [
    "df_pyspark.filter(\"salary<=250000\").show()"
   ]
  },
  {
   "cell_type": "code",
   "execution_count": 5,
   "metadata": {},
   "outputs": [
    {
     "name": "stdout",
     "output_type": "stream",
     "text": [
      "+-----+------+\n",
      "|sl_no|gender|\n",
      "+-----+------+\n",
      "|    2|     M|\n",
      "|    3|     M|\n",
      "|    9|     M|\n",
      "|   12|     M|\n",
      "|   14|     F|\n",
      "|   16|     F|\n",
      "|   20|     M|\n",
      "|   27|     M|\n",
      "|   31|     F|\n",
      "|   39|     F|\n",
      "|   45|     F|\n",
      "|   48|     M|\n",
      "|   49|     M|\n",
      "|   51|     F|\n",
      "|   55|     F|\n",
      "|   56|     M|\n",
      "|   57|     M|\n",
      "|   63|     F|\n",
      "|   65|     M|\n",
      "|   72|     M|\n",
      "+-----+------+\n",
      "only showing top 20 rows\n",
      "\n"
     ]
    }
   ],
   "source": [
    "df_pyspark.filter(\"salary<=250000\").select(['sl_no','gender']).show()"
   ]
  },
  {
   "cell_type": "code",
   "execution_count": 7,
   "metadata": {},
   "outputs": [
    {
     "name": "stdout",
     "output_type": "stream",
     "text": [
      "+-----+------+-----+-------+-----+-------+--------+--------+---------+------+-------+--------------+-----+------+------+\n",
      "|sl_no|gender|ssc_p|  ssc_b|hsc_p|  hsc_b|   hsc_s|degree_p| degree_t|workex|etest_p|specialisation|mba_p|status|salary|\n",
      "+-----+------+-----+-------+-----+-------+--------+--------+---------+------+-------+--------------+-----+------+------+\n",
      "|    2|     M|79.33|Central|78.33| Others| Science|   77.48| Sci&Tech|   Yes|   86.5|       Mkt&Fin|66.28|Placed|200000|\n",
      "|    3|     M| 65.0|Central| 68.0|Central|    Arts|    64.0|Comm&Mgmt|    No|   75.0|       Mkt&Fin| 57.8|Placed|250000|\n",
      "|    9|     M| 73.0|Central| 79.0|Central|Commerce|    72.0|Comm&Mgmt|    No|  91.34|       Mkt&Fin|61.29|Placed|231000|\n",
      "|   12|     M| 69.6|Central| 68.4|Central|Commerce|    78.3|Comm&Mgmt|   Yes|   60.0|       Mkt&Fin| 63.7|Placed|250000|\n",
      "|   14|     F| 77.0|Central| 87.0|Central|Commerce|    59.0|Comm&Mgmt|    No|   68.0|       Mkt&Fin|68.63|Placed|218000|\n",
      "|   16|     F| 65.0|Central| 75.0|Central|Commerce|    69.0|Comm&Mgmt|   Yes|   72.0|       Mkt&Fin|64.66|Placed|200000|\n",
      "|   20|     M| 60.0| Others| 67.0| Others|    Arts|    70.0|Comm&Mgmt|   Yes|  50.48|       Mkt&Fin|77.89|Placed|236000|\n",
      "|   27|     M| 71.0| Others| 79.0| Others|Commerce|    66.0|Comm&Mgmt|   Yes|   94.0|       Mkt&Fin|57.55|Placed|240000|\n",
      "|   31|     F| 64.0|Central| 73.5|Central|Commerce|    73.0|Comm&Mgmt|    No|   52.0|        Mkt&HR| 56.7|Placed|250000|\n",
      "|   39|     F| 73.0| Others| 58.0| Others| Science|    66.0|Comm&Mgmt|    No|   53.7|        Mkt&HR|56.86|Placed|240000|\n",
      "|   45|     F| 77.0| Others| 73.0| Others|Commerce|    81.0|Comm&Mgmt|   Yes|   89.0|       Mkt&Fin| 69.7|Placed|200000|\n",
      "|   48|     M| 63.0|Central| 60.0|Central|Commerce|    57.0|Comm&Mgmt|   Yes|   78.0|       Mkt&Fin|54.55|Placed|204000|\n",
      "|   49|     M| 63.0| Others| 62.0| Others|Commerce|    68.0|Comm&Mgmt|    No|   64.0|       Mkt&Fin|62.46|Placed|250000|\n",
      "|   51|     F| 75.2|Central| 73.2|Central| Science|    68.4|Comm&Mgmt|    No|   65.0|        Mkt&HR|62.98|Placed|200000|\n",
      "|   55|     F| 74.0|Central| 60.0| Others| Science|    69.0|Comm&Mgmt|    No|   78.0|        Mkt&HR|65.56|Placed|216000|\n",
      "|   56|     M| 60.4|Central| 66.6| Others| Science|    65.0|Comm&Mgmt|    No|   71.0|        Mkt&HR|52.71|Placed|220000|\n",
      "|   57|     M| 63.0| Others| 71.4| Others|Commerce|    61.4|Comm&Mgmt|    No|   68.0|       Mkt&Fin|66.88|Placed|240000|\n",
      "|   63|     F| 86.5| Others| 64.2| Others| Science|    67.4| Sci&Tech|    No|   59.0|       Mkt&Fin|59.69|Placed|240000|\n",
      "|   65|     M| 80.0| Others| 73.0| Others|Commerce|    75.0|Comm&Mgmt|    No|   61.0|       Mkt&Fin|58.78|Placed|240000|\n",
      "|   72|     M| 75.0| Others|70.29| Others|Commerce|    71.0|Comm&Mgmt|    No|   95.0|       Mkt&Fin|66.94|Placed|240000|\n",
      "+-----+------+-----+-------+-----+-------+--------+--------+---------+------+-------+--------------+-----+------+------+\n",
      "only showing top 20 rows\n",
      "\n"
     ]
    }
   ],
   "source": [
    "df_pyspark.filter((df_pyspark['salary']<=250000) & \n",
    "                  (df_pyspark['salary'] >= 200000)).show()"
   ]
  },
  {
   "cell_type": "code",
   "execution_count": 9,
   "metadata": {},
   "outputs": [
    {
     "name": "stdout",
     "output_type": "stream",
     "text": [
      "+-----+------+-----+-------+-----+-------+--------+--------+---------+------+-------+--------------+-----+------+------+\n",
      "|sl_no|gender|ssc_p|  ssc_b|hsc_p|  hsc_b|   hsc_s|degree_p| degree_t|workex|etest_p|specialisation|mba_p|status|salary|\n",
      "+-----+------+-----+-------+-----+-------+--------+--------+---------+------+-------+--------------+-----+------+------+\n",
      "|    1|     M| 67.0| Others| 91.0| Others|Commerce|    58.0| Sci&Tech|    No|   55.0|        Mkt&HR| 58.8|Placed|270000|\n",
      "|    5|     M| 85.8|Central| 73.6|Central|Commerce|    73.3|Comm&Mgmt|    No|   96.8|       Mkt&Fin| 55.5|Placed|425000|\n",
      "|    8|     M| 82.0|Central| 64.0|Central| Science|    66.0| Sci&Tech|   Yes|   67.0|       Mkt&Fin|62.14|Placed|252000|\n",
      "|   11|     M| 58.0|Central| 61.0|Central|Commerce|    60.0|Comm&Mgmt|   Yes|   62.0|        Mkt&HR|60.85|Placed|260000|\n",
      "|   17|     M| 63.0|Central| 66.2|Central|Commerce|    65.6|Comm&Mgmt|   Yes|   60.0|       Mkt&Fin|62.54|Placed|300000|\n",
      "|   21|     M| 62.0| Others| 65.0| Others|Commerce|    66.0|Comm&Mgmt|    No|   50.0|        Mkt&HR| 56.7|Placed|265000|\n",
      "|   22|     F| 79.0| Others| 76.0| Others|Commerce|    85.0|Comm&Mgmt|    No|   95.0|       Mkt&Fin|69.06|Placed|393000|\n",
      "|   23|     F| 69.8| Others| 60.8| Others| Science|   72.23| Sci&Tech|    No|  55.53|        Mkt&HR|68.81|Placed|360000|\n",
      "|   24|     F| 77.4| Others| 60.0| Others| Science|   64.74| Sci&Tech|   Yes|   92.0|       Mkt&Fin|63.62|Placed|300000|\n",
      "|   25|     M| 76.5| Others| 97.7| Others| Science|   78.86| Sci&Tech|    No|   97.4|       Mkt&Fin|74.01|Placed|360000|\n",
      "|   28|     M| 63.0| Others| 67.0| Others|Commerce|    66.0|Comm&Mgmt|    No|   68.0|        Mkt&HR|57.69|Placed|265000|\n",
      "|   29|     M|76.76| Others| 76.5| Others|Commerce|    67.5|Comm&Mgmt|   Yes|  73.35|       Mkt&Fin|64.15|Placed|350000|\n",
      "|   33|     F| 61.0|Central| 81.0|Central|Commerce|    66.4|Comm&Mgmt|    No|  50.89|        Mkt&HR|62.21|Placed|278000|\n",
      "|   34|     F| 87.0| Others| 65.0| Others| Science|    81.0|Comm&Mgmt|   Yes|   88.0|       Mkt&Fin|72.78|Placed|260000|\n",
      "|   36|     F| 69.0|Central| 78.0|Central|Commerce|    72.0|Comm&Mgmt|    No|   71.0|        Mkt&HR|62.74|Placed|300000|\n",
      "|   38|     F| 79.0|Central| 76.0|Central| Science|    65.6| Sci&Tech|    No|   58.0|        Mkt&HR|55.47|Placed|320000|\n",
      "|   40|     M| 81.0| Others| 68.0| Others| Science|    64.0| Sci&Tech|    No|   93.0|       Mkt&Fin|62.56|Placed|411000|\n",
      "|   41|     F| 78.0|Central| 77.0| Others|Commerce|    80.0|Comm&Mgmt|    No|   60.0|       Mkt&Fin|66.72|Placed|287000|\n",
      "|   44|     M| 87.0| Others| 87.0| Others|Commerce|    68.0|Comm&Mgmt|    No|   95.0|        Mkt&HR| 62.9|Placed|300000|\n",
      "|   54|     M| 80.0| Others| 70.0| Others| Science|    72.0| Sci&Tech|    No|   87.0|        Mkt&HR|71.04|Placed|450000|\n",
      "+-----+------+-----+-------+-----+-------+--------+--------+---------+------+-------+--------------+-----+------+------+\n",
      "only showing top 20 rows\n",
      "\n"
     ]
    }
   ],
   "source": [
    "df_pyspark.filter(~(df_pyspark['salary']<=250000)).show()"
   ]
  },
  {
   "cell_type": "code",
   "execution_count": 10,
   "metadata": {},
   "outputs": [
    {
     "name": "stdout",
     "output_type": "stream",
     "text": [
      "+------+----------+-----------------+----------+-----------------+------------------+-----------------+-----------+\n",
      "|gender|sum(sl_no)|       sum(ssc_p)|sum(hsc_p)|    sum(degree_p)|      sum(etest_p)|       sum(mba_p)|sum(salary)|\n",
      "+------+----------+-----------------+----------+-----------------+------------------+-----------------+-----------+\n",
      "|     F|      7734|          5191.63|   5065.16|5174.839999999999|5364.8899999999985|4912.910000000001|   12830000|\n",
      "|     M|     15486|9278.599999999999|   9196.47|9094.750000000004|10136.729999999998|           8476.9|   29891000|\n",
      "+------+----------+-----------------+----------+-----------------+------------------+-----------------+-----------+\n",
      "\n"
     ]
    }
   ],
   "source": [
    "df_pyspark.groupBy('gender').sum().show()"
   ]
  },
  {
   "cell_type": "markdown",
   "metadata": {},
   "source": [
    "SQL Queries "
   ]
  },
  {
   "cell_type": "code",
   "execution_count": 21,
   "metadata": {},
   "outputs": [
    {
     "name": "stderr",
     "output_type": "stream",
     "text": [
      "/home/karan/miniconda3/envs/spark/lib/python3.9/site-packages/pyspark/sql/dataframe.py:329: FutureWarning: Deprecated in 2.0, use createOrReplaceTempView instead.\n",
      "  warnings.warn(\"Deprecated in 2.0, use createOrReplaceTempView instead.\", FutureWarning)\n"
     ]
    }
   ],
   "source": [
    "df_pyspark.registerTempTable('table_1')"
   ]
  },
  {
   "cell_type": "code",
   "execution_count": 26,
   "metadata": {},
   "outputs": [],
   "source": [
    "df_pyspark.createTempView('example')"
   ]
  },
  {
   "cell_type": "code",
   "execution_count": 18,
   "metadata": {},
   "outputs": [],
   "source": [
    "from pyspark.sql import SQLContext\n",
    "from pyspark.sql.functions import *\n",
    "from pyspark.sql.types import *"
   ]
  },
  {
   "cell_type": "code",
   "execution_count": 28,
   "metadata": {},
   "outputs": [],
   "source": [
    "query = \"\"\" select * from table_1\"\"\""
   ]
  },
  {
   "cell_type": "code",
   "execution_count": 30,
   "metadata": {},
   "outputs": [],
   "source": [
    "query = \"\"\" select * from example\"\"\""
   ]
  },
  {
   "cell_type": "code",
   "execution_count": 31,
   "metadata": {},
   "outputs": [
    {
     "data": {
      "text/plain": [
       "[Row(sl_no=1, gender='M', ssc_p=67.0, ssc_b='Others', hsc_p=91.0, hsc_b='Others', hsc_s='Commerce', degree_p=58.0, degree_t='Sci&Tech', workex='No', etest_p=55.0, specialisation='Mkt&HR', mba_p=58.8, status='Placed', salary=270000),\n",
       " Row(sl_no=2, gender='M', ssc_p=79.33, ssc_b='Central', hsc_p=78.33, hsc_b='Others', hsc_s='Science', degree_p=77.48, degree_t='Sci&Tech', workex='Yes', etest_p=86.5, specialisation='Mkt&Fin', mba_p=66.28, status='Placed', salary=200000),\n",
       " Row(sl_no=3, gender='M', ssc_p=65.0, ssc_b='Central', hsc_p=68.0, hsc_b='Central', hsc_s='Arts', degree_p=64.0, degree_t='Comm&Mgmt', workex='No', etest_p=75.0, specialisation='Mkt&Fin', mba_p=57.8, status='Placed', salary=250000),\n",
       " Row(sl_no=4, gender='M', ssc_p=56.0, ssc_b='Central', hsc_p=52.0, hsc_b='Central', hsc_s='Science', degree_p=52.0, degree_t='Sci&Tech', workex='No', etest_p=66.0, specialisation='Mkt&HR', mba_p=59.43, status='Not Placed', salary=None),\n",
       " Row(sl_no=5, gender='M', ssc_p=85.8, ssc_b='Central', hsc_p=73.6, hsc_b='Central', hsc_s='Commerce', degree_p=73.3, degree_t='Comm&Mgmt', workex='No', etest_p=96.8, specialisation='Mkt&Fin', mba_p=55.5, status='Placed', salary=425000),\n",
       " Row(sl_no=6, gender='M', ssc_p=55.0, ssc_b='Others', hsc_p=49.8, hsc_b='Others', hsc_s='Science', degree_p=67.25, degree_t='Sci&Tech', workex='Yes', etest_p=55.0, specialisation='Mkt&Fin', mba_p=51.58, status='Not Placed', salary=None),\n",
       " Row(sl_no=7, gender='F', ssc_p=46.0, ssc_b='Others', hsc_p=49.2, hsc_b='Others', hsc_s='Commerce', degree_p=79.0, degree_t='Comm&Mgmt', workex='No', etest_p=74.28, specialisation='Mkt&Fin', mba_p=53.29, status='Not Placed', salary=None),\n",
       " Row(sl_no=8, gender='M', ssc_p=82.0, ssc_b='Central', hsc_p=64.0, hsc_b='Central', hsc_s='Science', degree_p=66.0, degree_t='Sci&Tech', workex='Yes', etest_p=67.0, specialisation='Mkt&Fin', mba_p=62.14, status='Placed', salary=252000),\n",
       " Row(sl_no=9, gender='M', ssc_p=73.0, ssc_b='Central', hsc_p=79.0, hsc_b='Central', hsc_s='Commerce', degree_p=72.0, degree_t='Comm&Mgmt', workex='No', etest_p=91.34, specialisation='Mkt&Fin', mba_p=61.29, status='Placed', salary=231000),\n",
       " Row(sl_no=10, gender='M', ssc_p=58.0, ssc_b='Central', hsc_p=70.0, hsc_b='Central', hsc_s='Commerce', degree_p=61.0, degree_t='Comm&Mgmt', workex='No', etest_p=54.0, specialisation='Mkt&Fin', mba_p=52.21, status='Not Placed', salary=None),\n",
       " Row(sl_no=11, gender='M', ssc_p=58.0, ssc_b='Central', hsc_p=61.0, hsc_b='Central', hsc_s='Commerce', degree_p=60.0, degree_t='Comm&Mgmt', workex='Yes', etest_p=62.0, specialisation='Mkt&HR', mba_p=60.85, status='Placed', salary=260000),\n",
       " Row(sl_no=12, gender='M', ssc_p=69.6, ssc_b='Central', hsc_p=68.4, hsc_b='Central', hsc_s='Commerce', degree_p=78.3, degree_t='Comm&Mgmt', workex='Yes', etest_p=60.0, specialisation='Mkt&Fin', mba_p=63.7, status='Placed', salary=250000),\n",
       " Row(sl_no=13, gender='F', ssc_p=47.0, ssc_b='Central', hsc_p=55.0, hsc_b='Others', hsc_s='Science', degree_p=65.0, degree_t='Comm&Mgmt', workex='No', etest_p=62.0, specialisation='Mkt&HR', mba_p=65.04, status='Not Placed', salary=None),\n",
       " Row(sl_no=14, gender='F', ssc_p=77.0, ssc_b='Central', hsc_p=87.0, hsc_b='Central', hsc_s='Commerce', degree_p=59.0, degree_t='Comm&Mgmt', workex='No', etest_p=68.0, specialisation='Mkt&Fin', mba_p=68.63, status='Placed', salary=218000),\n",
       " Row(sl_no=15, gender='M', ssc_p=62.0, ssc_b='Central', hsc_p=47.0, hsc_b='Central', hsc_s='Commerce', degree_p=50.0, degree_t='Comm&Mgmt', workex='No', etest_p=76.0, specialisation='Mkt&HR', mba_p=54.96, status='Not Placed', salary=None),\n",
       " Row(sl_no=16, gender='F', ssc_p=65.0, ssc_b='Central', hsc_p=75.0, hsc_b='Central', hsc_s='Commerce', degree_p=69.0, degree_t='Comm&Mgmt', workex='Yes', etest_p=72.0, specialisation='Mkt&Fin', mba_p=64.66, status='Placed', salary=200000),\n",
       " Row(sl_no=17, gender='M', ssc_p=63.0, ssc_b='Central', hsc_p=66.2, hsc_b='Central', hsc_s='Commerce', degree_p=65.6, degree_t='Comm&Mgmt', workex='Yes', etest_p=60.0, specialisation='Mkt&Fin', mba_p=62.54, status='Placed', salary=300000),\n",
       " Row(sl_no=18, gender='F', ssc_p=55.0, ssc_b='Central', hsc_p=67.0, hsc_b='Central', hsc_s='Commerce', degree_p=64.0, degree_t='Comm&Mgmt', workex='No', etest_p=60.0, specialisation='Mkt&Fin', mba_p=67.28, status='Not Placed', salary=None),\n",
       " Row(sl_no=19, gender='F', ssc_p=63.0, ssc_b='Central', hsc_p=66.0, hsc_b='Central', hsc_s='Commerce', degree_p=64.0, degree_t='Comm&Mgmt', workex='No', etest_p=68.0, specialisation='Mkt&HR', mba_p=64.08, status='Not Placed', salary=None),\n",
       " Row(sl_no=20, gender='M', ssc_p=60.0, ssc_b='Others', hsc_p=67.0, hsc_b='Others', hsc_s='Arts', degree_p=70.0, degree_t='Comm&Mgmt', workex='Yes', etest_p=50.48, specialisation='Mkt&Fin', mba_p=77.89, status='Placed', salary=236000),\n",
       " Row(sl_no=21, gender='M', ssc_p=62.0, ssc_b='Others', hsc_p=65.0, hsc_b='Others', hsc_s='Commerce', degree_p=66.0, degree_t='Comm&Mgmt', workex='No', etest_p=50.0, specialisation='Mkt&HR', mba_p=56.7, status='Placed', salary=265000),\n",
       " Row(sl_no=22, gender='F', ssc_p=79.0, ssc_b='Others', hsc_p=76.0, hsc_b='Others', hsc_s='Commerce', degree_p=85.0, degree_t='Comm&Mgmt', workex='No', etest_p=95.0, specialisation='Mkt&Fin', mba_p=69.06, status='Placed', salary=393000),\n",
       " Row(sl_no=23, gender='F', ssc_p=69.8, ssc_b='Others', hsc_p=60.8, hsc_b='Others', hsc_s='Science', degree_p=72.23, degree_t='Sci&Tech', workex='No', etest_p=55.53, specialisation='Mkt&HR', mba_p=68.81, status='Placed', salary=360000),\n",
       " Row(sl_no=24, gender='F', ssc_p=77.4, ssc_b='Others', hsc_p=60.0, hsc_b='Others', hsc_s='Science', degree_p=64.74, degree_t='Sci&Tech', workex='Yes', etest_p=92.0, specialisation='Mkt&Fin', mba_p=63.62, status='Placed', salary=300000),\n",
       " Row(sl_no=25, gender='M', ssc_p=76.5, ssc_b='Others', hsc_p=97.7, hsc_b='Others', hsc_s='Science', degree_p=78.86, degree_t='Sci&Tech', workex='No', etest_p=97.4, specialisation='Mkt&Fin', mba_p=74.01, status='Placed', salary=360000),\n",
       " Row(sl_no=26, gender='F', ssc_p=52.58, ssc_b='Others', hsc_p=54.6, hsc_b='Central', hsc_s='Commerce', degree_p=50.2, degree_t='Comm&Mgmt', workex='Yes', etest_p=76.0, specialisation='Mkt&Fin', mba_p=65.33, status='Not Placed', salary=None),\n",
       " Row(sl_no=27, gender='M', ssc_p=71.0, ssc_b='Others', hsc_p=79.0, hsc_b='Others', hsc_s='Commerce', degree_p=66.0, degree_t='Comm&Mgmt', workex='Yes', etest_p=94.0, specialisation='Mkt&Fin', mba_p=57.55, status='Placed', salary=240000),\n",
       " Row(sl_no=28, gender='M', ssc_p=63.0, ssc_b='Others', hsc_p=67.0, hsc_b='Others', hsc_s='Commerce', degree_p=66.0, degree_t='Comm&Mgmt', workex='No', etest_p=68.0, specialisation='Mkt&HR', mba_p=57.69, status='Placed', salary=265000),\n",
       " Row(sl_no=29, gender='M', ssc_p=76.76, ssc_b='Others', hsc_p=76.5, hsc_b='Others', hsc_s='Commerce', degree_p=67.5, degree_t='Comm&Mgmt', workex='Yes', etest_p=73.35, specialisation='Mkt&Fin', mba_p=64.15, status='Placed', salary=350000),\n",
       " Row(sl_no=30, gender='M', ssc_p=62.0, ssc_b='Central', hsc_p=67.0, hsc_b='Central', hsc_s='Commerce', degree_p=58.0, degree_t='Comm&Mgmt', workex='No', etest_p=77.0, specialisation='Mkt&Fin', mba_p=51.29, status='Not Placed', salary=None),\n",
       " Row(sl_no=31, gender='F', ssc_p=64.0, ssc_b='Central', hsc_p=73.5, hsc_b='Central', hsc_s='Commerce', degree_p=73.0, degree_t='Comm&Mgmt', workex='No', etest_p=52.0, specialisation='Mkt&HR', mba_p=56.7, status='Placed', salary=250000),\n",
       " Row(sl_no=32, gender='F', ssc_p=67.0, ssc_b='Central', hsc_p=53.0, hsc_b='Central', hsc_s='Science', degree_p=65.0, degree_t='Sci&Tech', workex='No', etest_p=64.0, specialisation='Mkt&HR', mba_p=58.32, status='Not Placed', salary=None),\n",
       " Row(sl_no=33, gender='F', ssc_p=61.0, ssc_b='Central', hsc_p=81.0, hsc_b='Central', hsc_s='Commerce', degree_p=66.4, degree_t='Comm&Mgmt', workex='No', etest_p=50.89, specialisation='Mkt&HR', mba_p=62.21, status='Placed', salary=278000),\n",
       " Row(sl_no=34, gender='F', ssc_p=87.0, ssc_b='Others', hsc_p=65.0, hsc_b='Others', hsc_s='Science', degree_p=81.0, degree_t='Comm&Mgmt', workex='Yes', etest_p=88.0, specialisation='Mkt&Fin', mba_p=72.78, status='Placed', salary=260000),\n",
       " Row(sl_no=35, gender='M', ssc_p=62.0, ssc_b='Others', hsc_p=51.0, hsc_b='Others', hsc_s='Science', degree_p=52.0, degree_t='Others', workex='No', etest_p=68.44, specialisation='Mkt&HR', mba_p=62.77, status='Not Placed', salary=None),\n",
       " Row(sl_no=36, gender='F', ssc_p=69.0, ssc_b='Central', hsc_p=78.0, hsc_b='Central', hsc_s='Commerce', degree_p=72.0, degree_t='Comm&Mgmt', workex='No', etest_p=71.0, specialisation='Mkt&HR', mba_p=62.74, status='Placed', salary=300000),\n",
       " Row(sl_no=37, gender='M', ssc_p=51.0, ssc_b='Central', hsc_p=44.0, hsc_b='Central', hsc_s='Commerce', degree_p=57.0, degree_t='Comm&Mgmt', workex='No', etest_p=64.0, specialisation='Mkt&Fin', mba_p=51.45, status='Not Placed', salary=None),\n",
       " Row(sl_no=38, gender='F', ssc_p=79.0, ssc_b='Central', hsc_p=76.0, hsc_b='Central', hsc_s='Science', degree_p=65.6, degree_t='Sci&Tech', workex='No', etest_p=58.0, specialisation='Mkt&HR', mba_p=55.47, status='Placed', salary=320000),\n",
       " Row(sl_no=39, gender='F', ssc_p=73.0, ssc_b='Others', hsc_p=58.0, hsc_b='Others', hsc_s='Science', degree_p=66.0, degree_t='Comm&Mgmt', workex='No', etest_p=53.7, specialisation='Mkt&HR', mba_p=56.86, status='Placed', salary=240000),\n",
       " Row(sl_no=40, gender='M', ssc_p=81.0, ssc_b='Others', hsc_p=68.0, hsc_b='Others', hsc_s='Science', degree_p=64.0, degree_t='Sci&Tech', workex='No', etest_p=93.0, specialisation='Mkt&Fin', mba_p=62.56, status='Placed', salary=411000),\n",
       " Row(sl_no=41, gender='F', ssc_p=78.0, ssc_b='Central', hsc_p=77.0, hsc_b='Others', hsc_s='Commerce', degree_p=80.0, degree_t='Comm&Mgmt', workex='No', etest_p=60.0, specialisation='Mkt&Fin', mba_p=66.72, status='Placed', salary=287000),\n",
       " Row(sl_no=42, gender='F', ssc_p=74.0, ssc_b='Others', hsc_p=63.16, hsc_b='Others', hsc_s='Commerce', degree_p=65.0, degree_t='Comm&Mgmt', workex='Yes', etest_p=65.0, specialisation='Mkt&HR', mba_p=69.76, status='Not Placed', salary=None),\n",
       " Row(sl_no=43, gender='M', ssc_p=49.0, ssc_b='Others', hsc_p=39.0, hsc_b='Central', hsc_s='Science', degree_p=65.0, degree_t='Others', workex='No', etest_p=63.0, specialisation='Mkt&Fin', mba_p=51.21, status='Not Placed', salary=None),\n",
       " Row(sl_no=44, gender='M', ssc_p=87.0, ssc_b='Others', hsc_p=87.0, hsc_b='Others', hsc_s='Commerce', degree_p=68.0, degree_t='Comm&Mgmt', workex='No', etest_p=95.0, specialisation='Mkt&HR', mba_p=62.9, status='Placed', salary=300000),\n",
       " Row(sl_no=45, gender='F', ssc_p=77.0, ssc_b='Others', hsc_p=73.0, hsc_b='Others', hsc_s='Commerce', degree_p=81.0, degree_t='Comm&Mgmt', workex='Yes', etest_p=89.0, specialisation='Mkt&Fin', mba_p=69.7, status='Placed', salary=200000),\n",
       " Row(sl_no=46, gender='F', ssc_p=76.0, ssc_b='Central', hsc_p=64.0, hsc_b='Central', hsc_s='Science', degree_p=72.0, degree_t='Sci&Tech', workex='No', etest_p=58.0, specialisation='Mkt&HR', mba_p=66.53, status='Not Placed', salary=None),\n",
       " Row(sl_no=47, gender='F', ssc_p=70.89, ssc_b='Others', hsc_p=71.98, hsc_b='Others', hsc_s='Science', degree_p=65.6, degree_t='Comm&Mgmt', workex='No', etest_p=68.0, specialisation='Mkt&HR', mba_p=71.63, status='Not Placed', salary=None),\n",
       " Row(sl_no=48, gender='M', ssc_p=63.0, ssc_b='Central', hsc_p=60.0, hsc_b='Central', hsc_s='Commerce', degree_p=57.0, degree_t='Comm&Mgmt', workex='Yes', etest_p=78.0, specialisation='Mkt&Fin', mba_p=54.55, status='Placed', salary=204000),\n",
       " Row(sl_no=49, gender='M', ssc_p=63.0, ssc_b='Others', hsc_p=62.0, hsc_b='Others', hsc_s='Commerce', degree_p=68.0, degree_t='Comm&Mgmt', workex='No', etest_p=64.0, specialisation='Mkt&Fin', mba_p=62.46, status='Placed', salary=250000),\n",
       " Row(sl_no=50, gender='F', ssc_p=50.0, ssc_b='Others', hsc_p=37.0, hsc_b='Others', hsc_s='Arts', degree_p=52.0, degree_t='Others', workex='No', etest_p=65.0, specialisation='Mkt&HR', mba_p=56.11, status='Not Placed', salary=None),\n",
       " Row(sl_no=51, gender='F', ssc_p=75.2, ssc_b='Central', hsc_p=73.2, hsc_b='Central', hsc_s='Science', degree_p=68.4, degree_t='Comm&Mgmt', workex='No', etest_p=65.0, specialisation='Mkt&HR', mba_p=62.98, status='Placed', salary=200000),\n",
       " Row(sl_no=52, gender='M', ssc_p=54.4, ssc_b='Central', hsc_p=61.12, hsc_b='Central', hsc_s='Commerce', degree_p=56.2, degree_t='Comm&Mgmt', workex='No', etest_p=67.0, specialisation='Mkt&HR', mba_p=62.65, status='Not Placed', salary=None),\n",
       " Row(sl_no=53, gender='F', ssc_p=40.89, ssc_b='Others', hsc_p=45.83, hsc_b='Others', hsc_s='Commerce', degree_p=53.0, degree_t='Comm&Mgmt', workex='No', etest_p=71.2, specialisation='Mkt&HR', mba_p=65.49, status='Not Placed', salary=None),\n",
       " Row(sl_no=54, gender='M', ssc_p=80.0, ssc_b='Others', hsc_p=70.0, hsc_b='Others', hsc_s='Science', degree_p=72.0, degree_t='Sci&Tech', workex='No', etest_p=87.0, specialisation='Mkt&HR', mba_p=71.04, status='Placed', salary=450000),\n",
       " Row(sl_no=55, gender='F', ssc_p=74.0, ssc_b='Central', hsc_p=60.0, hsc_b='Others', hsc_s='Science', degree_p=69.0, degree_t='Comm&Mgmt', workex='No', etest_p=78.0, specialisation='Mkt&HR', mba_p=65.56, status='Placed', salary=216000),\n",
       " Row(sl_no=56, gender='M', ssc_p=60.4, ssc_b='Central', hsc_p=66.6, hsc_b='Others', hsc_s='Science', degree_p=65.0, degree_t='Comm&Mgmt', workex='No', etest_p=71.0, specialisation='Mkt&HR', mba_p=52.71, status='Placed', salary=220000),\n",
       " Row(sl_no=57, gender='M', ssc_p=63.0, ssc_b='Others', hsc_p=71.4, hsc_b='Others', hsc_s='Commerce', degree_p=61.4, degree_t='Comm&Mgmt', workex='No', etest_p=68.0, specialisation='Mkt&Fin', mba_p=66.88, status='Placed', salary=240000),\n",
       " Row(sl_no=58, gender='M', ssc_p=68.0, ssc_b='Central', hsc_p=76.0, hsc_b='Central', hsc_s='Commerce', degree_p=74.0, degree_t='Comm&Mgmt', workex='No', etest_p=80.0, specialisation='Mkt&Fin', mba_p=63.59, status='Placed', salary=360000),\n",
       " Row(sl_no=59, gender='M', ssc_p=74.0, ssc_b='Central', hsc_p=62.0, hsc_b='Others', hsc_s='Science', degree_p=68.0, degree_t='Comm&Mgmt', workex='No', etest_p=74.0, specialisation='Mkt&Fin', mba_p=57.99, status='Placed', salary=268000),\n",
       " Row(sl_no=60, gender='M', ssc_p=52.6, ssc_b='Central', hsc_p=65.58, hsc_b='Others', hsc_s='Science', degree_p=72.11, degree_t='Sci&Tech', workex='No', etest_p=57.6, specialisation='Mkt&Fin', mba_p=56.66, status='Placed', salary=265000),\n",
       " Row(sl_no=61, gender='M', ssc_p=74.0, ssc_b='Central', hsc_p=70.0, hsc_b='Central', hsc_s='Science', degree_p=72.0, degree_t='Comm&Mgmt', workex='Yes', etest_p=60.0, specialisation='Mkt&Fin', mba_p=57.24, status='Placed', salary=260000),\n",
       " Row(sl_no=62, gender='M', ssc_p=84.2, ssc_b='Central', hsc_p=73.4, hsc_b='Central', hsc_s='Commerce', degree_p=66.89, degree_t='Comm&Mgmt', workex='No', etest_p=61.6, specialisation='Mkt&Fin', mba_p=62.48, status='Placed', salary=300000),\n",
       " Row(sl_no=63, gender='F', ssc_p=86.5, ssc_b='Others', hsc_p=64.2, hsc_b='Others', hsc_s='Science', degree_p=67.4, degree_t='Sci&Tech', workex='No', etest_p=59.0, specialisation='Mkt&Fin', mba_p=59.69, status='Placed', salary=240000),\n",
       " Row(sl_no=64, gender='M', ssc_p=61.0, ssc_b='Others', hsc_p=70.0, hsc_b='Others', hsc_s='Commerce', degree_p=64.0, degree_t='Comm&Mgmt', workex='No', etest_p=68.5, specialisation='Mkt&HR', mba_p=59.5, status='Not Placed', salary=None),\n",
       " Row(sl_no=65, gender='M', ssc_p=80.0, ssc_b='Others', hsc_p=73.0, hsc_b='Others', hsc_s='Commerce', degree_p=75.0, degree_t='Comm&Mgmt', workex='No', etest_p=61.0, specialisation='Mkt&Fin', mba_p=58.78, status='Placed', salary=240000),\n",
       " Row(sl_no=66, gender='M', ssc_p=54.0, ssc_b='Others', hsc_p=47.0, hsc_b='Others', hsc_s='Science', degree_p=57.0, degree_t='Comm&Mgmt', workex='No', etest_p=89.69, specialisation='Mkt&HR', mba_p=57.1, status='Not Placed', salary=None),\n",
       " Row(sl_no=67, gender='M', ssc_p=83.0, ssc_b='Others', hsc_p=74.0, hsc_b='Others', hsc_s='Science', degree_p=66.0, degree_t='Comm&Mgmt', workex='No', etest_p=68.92, specialisation='Mkt&HR', mba_p=58.46, status='Placed', salary=275000),\n",
       " Row(sl_no=68, gender='M', ssc_p=80.92, ssc_b='Others', hsc_p=78.5, hsc_b='Others', hsc_s='Commerce', degree_p=67.0, degree_t='Comm&Mgmt', workex='No', etest_p=68.71, specialisation='Mkt&Fin', mba_p=60.99, status='Placed', salary=275000),\n",
       " Row(sl_no=69, gender='F', ssc_p=69.7, ssc_b='Central', hsc_p=47.0, hsc_b='Central', hsc_s='Commerce', degree_p=72.7, degree_t='Sci&Tech', workex='No', etest_p=79.0, specialisation='Mkt&HR', mba_p=59.24, status='Not Placed', salary=None),\n",
       " Row(sl_no=70, gender='M', ssc_p=73.0, ssc_b='Central', hsc_p=73.0, hsc_b='Central', hsc_s='Science', degree_p=66.0, degree_t='Sci&Tech', workex='Yes', etest_p=70.0, specialisation='Mkt&Fin', mba_p=68.07, status='Placed', salary=275000),\n",
       " Row(sl_no=71, gender='M', ssc_p=82.0, ssc_b='Others', hsc_p=61.0, hsc_b='Others', hsc_s='Science', degree_p=62.0, degree_t='Sci&Tech', workex='No', etest_p=89.0, specialisation='Mkt&Fin', mba_p=65.45, status='Placed', salary=360000),\n",
       " Row(sl_no=72, gender='M', ssc_p=75.0, ssc_b='Others', hsc_p=70.29, hsc_b='Others', hsc_s='Commerce', degree_p=71.0, degree_t='Comm&Mgmt', workex='No', etest_p=95.0, specialisation='Mkt&Fin', mba_p=66.94, status='Placed', salary=240000),\n",
       " Row(sl_no=73, gender='M', ssc_p=84.86, ssc_b='Others', hsc_p=67.0, hsc_b='Others', hsc_s='Science', degree_p=78.0, degree_t='Comm&Mgmt', workex='No', etest_p=95.5, specialisation='Mkt&Fin', mba_p=68.53, status='Placed', salary=240000),\n",
       " Row(sl_no=74, gender='M', ssc_p=64.6, ssc_b='Central', hsc_p=83.83, hsc_b='Others', hsc_s='Commerce', degree_p=71.72, degree_t='Comm&Mgmt', workex='No', etest_p=86.0, specialisation='Mkt&Fin', mba_p=59.75, status='Placed', salary=218000),\n",
       " Row(sl_no=75, gender='M', ssc_p=56.6, ssc_b='Central', hsc_p=64.8, hsc_b='Central', hsc_s='Commerce', degree_p=70.2, degree_t='Comm&Mgmt', workex='No', etest_p=84.27, specialisation='Mkt&Fin', mba_p=67.2, status='Placed', salary=336000),\n",
       " Row(sl_no=76, gender='F', ssc_p=59.0, ssc_b='Central', hsc_p=62.0, hsc_b='Others', hsc_s='Commerce', degree_p=77.5, degree_t='Comm&Mgmt', workex='No', etest_p=74.0, specialisation='Mkt&HR', mba_p=67.0, status='Not Placed', salary=None),\n",
       " Row(sl_no=77, gender='F', ssc_p=66.5, ssc_b='Others', hsc_p=70.4, hsc_b='Central', hsc_s='Arts', degree_p=71.93, degree_t='Comm&Mgmt', workex='No', etest_p=61.0, specialisation='Mkt&Fin', mba_p=64.27, status='Placed', salary=230000),\n",
       " Row(sl_no=78, gender='M', ssc_p=64.0, ssc_b='Others', hsc_p=80.0, hsc_b='Others', hsc_s='Science', degree_p=65.0, degree_t='Sci&Tech', workex='Yes', etest_p=69.0, specialisation='Mkt&Fin', mba_p=57.65, status='Placed', salary=500000),\n",
       " Row(sl_no=79, gender='M', ssc_p=84.0, ssc_b='Others', hsc_p=90.9, hsc_b='Others', hsc_s='Science', degree_p=64.5, degree_t='Sci&Tech', workex='No', etest_p=86.04, specialisation='Mkt&Fin', mba_p=59.42, status='Placed', salary=270000),\n",
       " Row(sl_no=80, gender='F', ssc_p=69.0, ssc_b='Central', hsc_p=62.0, hsc_b='Central', hsc_s='Science', degree_p=66.0, degree_t='Sci&Tech', workex='No', etest_p=75.0, specialisation='Mkt&HR', mba_p=67.99, status='Not Placed', salary=None),\n",
       " Row(sl_no=81, gender='F', ssc_p=69.0, ssc_b='Others', hsc_p=62.0, hsc_b='Others', hsc_s='Commerce', degree_p=69.0, degree_t='Comm&Mgmt', workex='Yes', etest_p=67.0, specialisation='Mkt&HR', mba_p=62.35, status='Placed', salary=240000),\n",
       " Row(sl_no=82, gender='M', ssc_p=81.7, ssc_b='Others', hsc_p=63.0, hsc_b='Others', hsc_s='Science', degree_p=67.0, degree_t='Comm&Mgmt', workex='Yes', etest_p=86.0, specialisation='Mkt&Fin', mba_p=70.2, status='Placed', salary=300000),\n",
       " Row(sl_no=83, gender='M', ssc_p=63.0, ssc_b='Central', hsc_p=67.0, hsc_b='Central', hsc_s='Commerce', degree_p=74.0, degree_t='Comm&Mgmt', workex='No', etest_p=82.0, specialisation='Mkt&Fin', mba_p=60.44, status='Not Placed', salary=None),\n",
       " Row(sl_no=84, gender='M', ssc_p=84.0, ssc_b='Others', hsc_p=79.0, hsc_b='Others', hsc_s='Science', degree_p=68.0, degree_t='Sci&Tech', workex='Yes', etest_p=84.0, specialisation='Mkt&Fin', mba_p=66.69, status='Placed', salary=300000),\n",
       " Row(sl_no=85, gender='M', ssc_p=70.0, ssc_b='Central', hsc_p=63.0, hsc_b='Others', hsc_s='Science', degree_p=70.0, degree_t='Sci&Tech', workex='Yes', etest_p=55.0, specialisation='Mkt&Fin', mba_p=62.0, status='Placed', salary=300000),\n",
       " Row(sl_no=86, gender='F', ssc_p=83.84, ssc_b='Others', hsc_p=89.83, hsc_b='Others', hsc_s='Commerce', degree_p=77.2, degree_t='Comm&Mgmt', workex='Yes', etest_p=78.74, specialisation='Mkt&Fin', mba_p=76.18, status='Placed', salary=400000),\n",
       " Row(sl_no=87, gender='M', ssc_p=62.0, ssc_b='Others', hsc_p=63.0, hsc_b='Others', hsc_s='Commerce', degree_p=64.0, degree_t='Comm&Mgmt', workex='No', etest_p=67.0, specialisation='Mkt&Fin', mba_p=57.03, status='Placed', salary=220000),\n",
       " Row(sl_no=88, gender='M', ssc_p=59.6, ssc_b='Central', hsc_p=51.0, hsc_b='Central', hsc_s='Science', degree_p=60.0, degree_t='Others', workex='No', etest_p=75.0, specialisation='Mkt&HR', mba_p=59.08, status='Not Placed', salary=None),\n",
       " Row(sl_no=89, gender='F', ssc_p=66.0, ssc_b='Central', hsc_p=62.0, hsc_b='Central', hsc_s='Commerce', degree_p=73.0, degree_t='Comm&Mgmt', workex='No', etest_p=58.0, specialisation='Mkt&HR', mba_p=64.36, status='Placed', salary=210000),\n",
       " Row(sl_no=90, gender='F', ssc_p=84.0, ssc_b='Others', hsc_p=75.0, hsc_b='Others', hsc_s='Science', degree_p=69.0, degree_t='Sci&Tech', workex='Yes', etest_p=62.0, specialisation='Mkt&HR', mba_p=62.36, status='Placed', salary=210000),\n",
       " Row(sl_no=91, gender='F', ssc_p=85.0, ssc_b='Others', hsc_p=90.0, hsc_b='Others', hsc_s='Commerce', degree_p=82.0, degree_t='Comm&Mgmt', workex='No', etest_p=92.0, specialisation='Mkt&Fin', mba_p=68.03, status='Placed', salary=300000),\n",
       " Row(sl_no=92, gender='M', ssc_p=52.0, ssc_b='Central', hsc_p=57.0, hsc_b='Central', hsc_s='Commerce', degree_p=50.8, degree_t='Comm&Mgmt', workex='No', etest_p=67.0, specialisation='Mkt&HR', mba_p=62.79, status='Not Placed', salary=None),\n",
       " Row(sl_no=93, gender='F', ssc_p=60.23, ssc_b='Central', hsc_p=69.0, hsc_b='Central', hsc_s='Science', degree_p=66.0, degree_t='Comm&Mgmt', workex='No', etest_p=72.0, specialisation='Mkt&Fin', mba_p=59.47, status='Placed', salary=230000),\n",
       " Row(sl_no=94, gender='M', ssc_p=52.0, ssc_b='Central', hsc_p=62.0, hsc_b='Central', hsc_s='Commerce', degree_p=54.0, degree_t='Comm&Mgmt', workex='No', etest_p=72.0, specialisation='Mkt&HR', mba_p=55.41, status='Not Placed', salary=None),\n",
       " Row(sl_no=95, gender='M', ssc_p=58.0, ssc_b='Central', hsc_p=62.0, hsc_b='Central', hsc_s='Commerce', degree_p=64.0, degree_t='Comm&Mgmt', workex='No', etest_p=53.88, specialisation='Mkt&Fin', mba_p=54.97, status='Placed', salary=260000),\n",
       " Row(sl_no=96, gender='M', ssc_p=73.0, ssc_b='Central', hsc_p=78.0, hsc_b='Others', hsc_s='Commerce', degree_p=65.0, degree_t='Comm&Mgmt', workex='Yes', etest_p=95.46, specialisation='Mkt&Fin', mba_p=62.16, status='Placed', salary=420000),\n",
       " Row(sl_no=97, gender='F', ssc_p=76.0, ssc_b='Central', hsc_p=70.0, hsc_b='Central', hsc_s='Science', degree_p=76.0, degree_t='Comm&Mgmt', workex='Yes', etest_p=66.0, specialisation='Mkt&Fin', mba_p=64.44, status='Placed', salary=300000),\n",
       " Row(sl_no=98, gender='F', ssc_p=70.5, ssc_b='Central', hsc_p=62.5, hsc_b='Others', hsc_s='Commerce', degree_p=61.0, degree_t='Comm&Mgmt', workex='No', etest_p=93.91, specialisation='Mkt&Fin', mba_p=69.03, status='Not Placed', salary=None),\n",
       " Row(sl_no=99, gender='F', ssc_p=69.0, ssc_b='Central', hsc_p=73.0, hsc_b='Central', hsc_s='Commerce', degree_p=65.0, degree_t='Comm&Mgmt', workex='No', etest_p=70.0, specialisation='Mkt&Fin', mba_p=57.31, status='Placed', salary=220000),\n",
       " Row(sl_no=100, gender='M', ssc_p=54.0, ssc_b='Central', hsc_p=82.0, hsc_b='Others', hsc_s='Commerce', degree_p=63.0, degree_t='Sci&Tech', workex='No', etest_p=50.0, specialisation='Mkt&Fin', mba_p=59.47, status='Not Placed', salary=None),\n",
       " Row(sl_no=101, gender='F', ssc_p=45.0, ssc_b='Others', hsc_p=57.0, hsc_b='Others', hsc_s='Commerce', degree_p=58.0, degree_t='Comm&Mgmt', workex='Yes', etest_p=56.39, specialisation='Mkt&HR', mba_p=64.95, status='Not Placed', salary=None),\n",
       " Row(sl_no=102, gender='M', ssc_p=63.0, ssc_b='Central', hsc_p=72.0, hsc_b='Central', hsc_s='Commerce', degree_p=68.0, degree_t='Comm&Mgmt', workex='No', etest_p=78.0, specialisation='Mkt&HR', mba_p=60.44, status='Placed', salary=380000),\n",
       " Row(sl_no=103, gender='F', ssc_p=77.0, ssc_b='Others', hsc_p=61.0, hsc_b='Others', hsc_s='Commerce', degree_p=68.0, degree_t='Comm&Mgmt', workex='Yes', etest_p=57.5, specialisation='Mkt&Fin', mba_p=61.31, status='Placed', salary=300000),\n",
       " Row(sl_no=104, gender='M', ssc_p=73.0, ssc_b='Central', hsc_p=78.0, hsc_b='Central', hsc_s='Science', degree_p=73.0, degree_t='Sci&Tech', workex='Yes', etest_p=85.0, specialisation='Mkt&HR', mba_p=65.83, status='Placed', salary=240000),\n",
       " Row(sl_no=105, gender='M', ssc_p=69.0, ssc_b='Central', hsc_p=63.0, hsc_b='Others', hsc_s='Science', degree_p=65.0, degree_t='Comm&Mgmt', workex='Yes', etest_p=55.0, specialisation='Mkt&HR', mba_p=58.23, status='Placed', salary=360000),\n",
       " Row(sl_no=106, gender='M', ssc_p=59.0, ssc_b='Central', hsc_p=64.0, hsc_b='Others', hsc_s='Science', degree_p=58.0, degree_t='Sci&Tech', workex='No', etest_p=85.0, specialisation='Mkt&HR', mba_p=55.3, status='Not Placed', salary=None),\n",
       " Row(sl_no=107, gender='M', ssc_p=61.08, ssc_b='Others', hsc_p=50.0, hsc_b='Others', hsc_s='Science', degree_p=54.0, degree_t='Sci&Tech', workex='No', etest_p=71.0, specialisation='Mkt&Fin', mba_p=65.69, status='Not Placed', salary=None),\n",
       " Row(sl_no=108, gender='M', ssc_p=82.0, ssc_b='Others', hsc_p=90.0, hsc_b='Others', hsc_s='Commerce', degree_p=83.0, degree_t='Comm&Mgmt', workex='No', etest_p=80.0, specialisation='Mkt&HR', mba_p=73.52, status='Placed', salary=200000),\n",
       " Row(sl_no=109, gender='M', ssc_p=61.0, ssc_b='Central', hsc_p=82.0, hsc_b='Central', hsc_s='Commerce', degree_p=69.0, degree_t='Comm&Mgmt', workex='No', etest_p=84.0, specialisation='Mkt&Fin', mba_p=58.31, status='Placed', salary=300000),\n",
       " Row(sl_no=110, gender='M', ssc_p=52.0, ssc_b='Central', hsc_p=63.0, hsc_b='Others', hsc_s='Science', degree_p=65.0, degree_t='Sci&Tech', workex='Yes', etest_p=86.0, specialisation='Mkt&HR', mba_p=56.09, status='Not Placed', salary=None),\n",
       " Row(sl_no=111, gender='F', ssc_p=69.5, ssc_b='Central', hsc_p=70.0, hsc_b='Central', hsc_s='Science', degree_p=72.0, degree_t='Sci&Tech', workex='No', etest_p=57.2, specialisation='Mkt&HR', mba_p=54.8, status='Placed', salary=250000),\n",
       " Row(sl_no=112, gender='M', ssc_p=51.0, ssc_b='Others', hsc_p=54.0, hsc_b='Others', hsc_s='Science', degree_p=61.0, degree_t='Sci&Tech', workex='No', etest_p=60.0, specialisation='Mkt&HR', mba_p=60.64, status='Not Placed', salary=None),\n",
       " Row(sl_no=113, gender='M', ssc_p=58.0, ssc_b='Others', hsc_p=61.0, hsc_b='Others', hsc_s='Commerce', degree_p=61.0, degree_t='Comm&Mgmt', workex='No', etest_p=58.0, specialisation='Mkt&HR', mba_p=53.94, status='Placed', salary=250000),\n",
       " Row(sl_no=114, gender='F', ssc_p=73.96, ssc_b='Others', hsc_p=79.0, hsc_b='Others', hsc_s='Commerce', degree_p=67.0, degree_t='Comm&Mgmt', workex='No', etest_p=72.15, specialisation='Mkt&Fin', mba_p=63.08, status='Placed', salary=280000),\n",
       " Row(sl_no=115, gender='M', ssc_p=65.0, ssc_b='Central', hsc_p=68.0, hsc_b='Others', hsc_s='Science', degree_p=69.0, degree_t='Comm&Mgmt', workex='No', etest_p=53.7, specialisation='Mkt&HR', mba_p=55.01, status='Placed', salary=250000),\n",
       " Row(sl_no=116, gender='F', ssc_p=73.0, ssc_b='Others', hsc_p=63.0, hsc_b='Others', hsc_s='Science', degree_p=66.0, degree_t='Comm&Mgmt', workex='No', etest_p=89.0, specialisation='Mkt&Fin', mba_p=60.5, status='Placed', salary=216000),\n",
       " Row(sl_no=117, gender='M', ssc_p=68.2, ssc_b='Central', hsc_p=72.8, hsc_b='Central', hsc_s='Commerce', degree_p=66.6, degree_t='Comm&Mgmt', workex='Yes', etest_p=96.0, specialisation='Mkt&Fin', mba_p=70.85, status='Placed', salary=300000),\n",
       " Row(sl_no=118, gender='M', ssc_p=77.0, ssc_b='Others', hsc_p=75.0, hsc_b='Others', hsc_s='Science', degree_p=73.0, degree_t='Sci&Tech', workex='No', etest_p=80.0, specialisation='Mkt&Fin', mba_p=67.05, status='Placed', salary=240000),\n",
       " Row(sl_no=119, gender='M', ssc_p=76.0, ssc_b='Central', hsc_p=80.0, hsc_b='Central', hsc_s='Science', degree_p=78.0, degree_t='Sci&Tech', workex='Yes', etest_p=97.0, specialisation='Mkt&HR', mba_p=70.48, status='Placed', salary=276000),\n",
       " Row(sl_no=120, gender='M', ssc_p=60.8, ssc_b='Central', hsc_p=68.4, hsc_b='Central', hsc_s='Commerce', degree_p=64.6, degree_t='Comm&Mgmt', workex='Yes', etest_p=82.66, specialisation='Mkt&Fin', mba_p=64.34, status='Placed', salary=940000),\n",
       " Row(sl_no=121, gender='M', ssc_p=58.0, ssc_b='Others', hsc_p=40.0, hsc_b='Others', hsc_s='Science', degree_p=59.0, degree_t='Comm&Mgmt', workex='No', etest_p=73.0, specialisation='Mkt&HR', mba_p=58.81, status='Not Placed', salary=None),\n",
       " Row(sl_no=122, gender='F', ssc_p=64.0, ssc_b='Central', hsc_p=67.0, hsc_b='Others', hsc_s='Science', degree_p=69.6, degree_t='Sci&Tech', workex='Yes', etest_p=55.67, specialisation='Mkt&HR', mba_p=71.49, status='Placed', salary=250000),\n",
       " Row(sl_no=123, gender='F', ssc_p=66.5, ssc_b='Central', hsc_p=66.8, hsc_b='Central', hsc_s='Arts', degree_p=69.3, degree_t='Comm&Mgmt', workex='Yes', etest_p=80.4, specialisation='Mkt&Fin', mba_p=71.0, status='Placed', salary=236000),\n",
       " Row(sl_no=124, gender='M', ssc_p=74.0, ssc_b='Others', hsc_p=59.0, hsc_b='Others', hsc_s='Commerce', degree_p=73.0, degree_t='Comm&Mgmt', workex='Yes', etest_p=60.0, specialisation='Mkt&HR', mba_p=56.7, status='Placed', salary=240000),\n",
       " Row(sl_no=125, gender='M', ssc_p=67.0, ssc_b='Central', hsc_p=71.0, hsc_b='Central', hsc_s='Science', degree_p=64.33, degree_t='Others', workex='Yes', etest_p=64.0, specialisation='Mkt&HR', mba_p=61.26, status='Placed', salary=250000),\n",
       " Row(sl_no=126, gender='F', ssc_p=84.0, ssc_b='Central', hsc_p=73.0, hsc_b='Central', hsc_s='Commerce', degree_p=73.0, degree_t='Comm&Mgmt', workex='No', etest_p=75.0, specialisation='Mkt&Fin', mba_p=73.33, status='Placed', salary=350000),\n",
       " Row(sl_no=127, gender='F', ssc_p=79.0, ssc_b='Others', hsc_p=61.0, hsc_b='Others', hsc_s='Science', degree_p=75.5, degree_t='Sci&Tech', workex='Yes', etest_p=70.0, specialisation='Mkt&Fin', mba_p=68.2, status='Placed', salary=210000),\n",
       " Row(sl_no=128, gender='F', ssc_p=72.0, ssc_b='Others', hsc_p=60.0, hsc_b='Others', hsc_s='Science', degree_p=69.0, degree_t='Comm&Mgmt', workex='No', etest_p=55.5, specialisation='Mkt&HR', mba_p=58.4, status='Placed', salary=250000),\n",
       " Row(sl_no=129, gender='M', ssc_p=80.4, ssc_b='Central', hsc_p=73.4, hsc_b='Central', hsc_s='Science', degree_p=77.72, degree_t='Sci&Tech', workex='Yes', etest_p=81.2, specialisation='Mkt&HR', mba_p=76.26, status='Placed', salary=400000),\n",
       " Row(sl_no=130, gender='M', ssc_p=76.7, ssc_b='Central', hsc_p=89.7, hsc_b='Others', hsc_s='Commerce', degree_p=66.0, degree_t='Comm&Mgmt', workex='Yes', etest_p=90.0, specialisation='Mkt&Fin', mba_p=68.55, status='Placed', salary=250000),\n",
       " Row(sl_no=131, gender='M', ssc_p=62.0, ssc_b='Central', hsc_p=65.0, hsc_b='Others', hsc_s='Commerce', degree_p=60.0, degree_t='Comm&Mgmt', workex='No', etest_p=84.0, specialisation='Mkt&Fin', mba_p=64.15, status='Not Placed', salary=None),\n",
       " Row(sl_no=132, gender='F', ssc_p=74.9, ssc_b='Others', hsc_p=57.0, hsc_b='Others', hsc_s='Science', degree_p=62.0, degree_t='Others', workex='Yes', etest_p=80.0, specialisation='Mkt&Fin', mba_p=60.78, status='Placed', salary=360000),\n",
       " Row(sl_no=133, gender='M', ssc_p=67.0, ssc_b='Others', hsc_p=68.0, hsc_b='Others', hsc_s='Commerce', degree_p=64.0, degree_t='Comm&Mgmt', workex='Yes', etest_p=74.4, specialisation='Mkt&HR', mba_p=53.49, status='Placed', salary=300000),\n",
       " Row(sl_no=134, gender='M', ssc_p=73.0, ssc_b='Central', hsc_p=64.0, hsc_b='Others', hsc_s='Commerce', degree_p=77.0, degree_t='Comm&Mgmt', workex='Yes', etest_p=65.0, specialisation='Mkt&HR', mba_p=60.98, status='Placed', salary=250000),\n",
       " Row(sl_no=135, gender='F', ssc_p=77.44, ssc_b='Central', hsc_p=92.0, hsc_b='Others', hsc_s='Commerce', degree_p=72.0, degree_t='Comm&Mgmt', workex='Yes', etest_p=94.0, specialisation='Mkt&Fin', mba_p=67.13, status='Placed', salary=250000),\n",
       " Row(sl_no=136, gender='F', ssc_p=72.0, ssc_b='Central', hsc_p=56.0, hsc_b='Others', hsc_s='Science', degree_p=69.0, degree_t='Comm&Mgmt', workex='No', etest_p=55.6, specialisation='Mkt&HR', mba_p=65.63, status='Placed', salary=200000),\n",
       " Row(sl_no=137, gender='F', ssc_p=47.0, ssc_b='Central', hsc_p=59.0, hsc_b='Central', hsc_s='Arts', degree_p=64.0, degree_t='Comm&Mgmt', workex='No', etest_p=78.0, specialisation='Mkt&Fin', mba_p=61.58, status='Not Placed', salary=None),\n",
       " Row(sl_no=138, gender='M', ssc_p=67.0, ssc_b='Others', hsc_p=63.0, hsc_b='Central', hsc_s='Commerce', degree_p=72.0, degree_t='Comm&Mgmt', workex='No', etest_p=56.0, specialisation='Mkt&HR', mba_p=60.41, status='Placed', salary=225000),\n",
       " Row(sl_no=139, gender='F', ssc_p=82.0, ssc_b='Others', hsc_p=64.0, hsc_b='Others', hsc_s='Science', degree_p=73.0, degree_t='Sci&Tech', workex='Yes', etest_p=96.0, specialisation='Mkt&Fin', mba_p=71.77, status='Placed', salary=250000),\n",
       " Row(sl_no=140, gender='M', ssc_p=77.0, ssc_b='Central', hsc_p=70.0, hsc_b='Central', hsc_s='Commerce', degree_p=59.0, degree_t='Comm&Mgmt', workex='Yes', etest_p=58.0, specialisation='Mkt&Fin', mba_p=54.43, status='Placed', salary=220000),\n",
       " Row(sl_no=141, gender='M', ssc_p=65.0, ssc_b='Central', hsc_p=64.8, hsc_b='Others', hsc_s='Commerce', degree_p=69.5, degree_t='Comm&Mgmt', workex='Yes', etest_p=56.0, specialisation='Mkt&Fin', mba_p=56.94, status='Placed', salary=265000),\n",
       " Row(sl_no=142, gender='M', ssc_p=66.0, ssc_b='Central', hsc_p=64.0, hsc_b='Central', hsc_s='Science', degree_p=60.0, degree_t='Comm&Mgmt', workex='No', etest_p=60.0, specialisation='Mkt&HR', mba_p=61.9, status='Not Placed', salary=None),\n",
       " Row(sl_no=143, gender='M', ssc_p=85.0, ssc_b='Central', hsc_p=60.0, hsc_b='Others', hsc_s='Science', degree_p=73.43, degree_t='Sci&Tech', workex='Yes', etest_p=60.0, specialisation='Mkt&Fin', mba_p=61.29, status='Placed', salary=260000),\n",
       " Row(sl_no=144, gender='M', ssc_p=77.67, ssc_b='Others', hsc_p=64.89, hsc_b='Others', hsc_s='Commerce', degree_p=70.67, degree_t='Comm&Mgmt', workex='No', etest_p=89.0, specialisation='Mkt&Fin', mba_p=60.39, status='Placed', salary=300000),\n",
       " Row(sl_no=145, gender='M', ssc_p=52.0, ssc_b='Others', hsc_p=50.0, hsc_b='Others', hsc_s='Arts', degree_p=61.0, degree_t='Comm&Mgmt', workex='No', etest_p=60.0, specialisation='Mkt&Fin', mba_p=58.52, status='Not Placed', salary=None),\n",
       " Row(sl_no=146, gender='M', ssc_p=89.4, ssc_b='Others', hsc_p=65.66, hsc_b='Others', hsc_s='Science', degree_p=71.25, degree_t='Sci&Tech', workex='No', etest_p=72.0, specialisation='Mkt&HR', mba_p=63.23, status='Placed', salary=400000),\n",
       " Row(sl_no=147, gender='M', ssc_p=62.0, ssc_b='Central', hsc_p=63.0, hsc_b='Others', hsc_s='Science', degree_p=66.0, degree_t='Comm&Mgmt', workex='No', etest_p=85.0, specialisation='Mkt&HR', mba_p=55.14, status='Placed', salary=233000),\n",
       " Row(sl_no=148, gender='M', ssc_p=70.0, ssc_b='Central', hsc_p=74.0, hsc_b='Central', hsc_s='Commerce', degree_p=65.0, degree_t='Comm&Mgmt', workex='No', etest_p=83.0, specialisation='Mkt&Fin', mba_p=62.28, status='Placed', salary=300000),\n",
       " Row(sl_no=149, gender='F', ssc_p=77.0, ssc_b='Central', hsc_p=86.0, hsc_b='Central', hsc_s='Arts', degree_p=56.0, degree_t='Others', workex='No', etest_p=57.0, specialisation='Mkt&Fin', mba_p=64.08, status='Placed', salary=240000),\n",
       " Row(sl_no=150, gender='M', ssc_p=44.0, ssc_b='Central', hsc_p=58.0, hsc_b='Central', hsc_s='Arts', degree_p=55.0, degree_t='Comm&Mgmt', workex='Yes', etest_p=64.25, specialisation='Mkt&HR', mba_p=58.54, status='Not Placed', salary=None),\n",
       " Row(sl_no=151, gender='M', ssc_p=71.0, ssc_b='Central', hsc_p=58.66, hsc_b='Central', hsc_s='Science', degree_p=58.0, degree_t='Sci&Tech', workex='Yes', etest_p=56.0, specialisation='Mkt&Fin', mba_p=61.3, status='Placed', salary=690000),\n",
       " Row(sl_no=152, gender='M', ssc_p=65.0, ssc_b='Central', hsc_p=65.0, hsc_b='Central', hsc_s='Commerce', degree_p=75.0, degree_t='Comm&Mgmt', workex='No', etest_p=83.0, specialisation='Mkt&Fin', mba_p=58.87, status='Placed', salary=270000),\n",
       " Row(sl_no=153, gender='F', ssc_p=75.4, ssc_b='Others', hsc_p=60.5, hsc_b='Central', hsc_s='Science', degree_p=84.0, degree_t='Sci&Tech', workex='No', etest_p=98.0, specialisation='Mkt&Fin', mba_p=65.25, status='Placed', salary=240000),\n",
       " Row(sl_no=154, gender='M', ssc_p=49.0, ssc_b='Others', hsc_p=59.0, hsc_b='Others', hsc_s='Science', degree_p=65.0, degree_t='Sci&Tech', workex='Yes', etest_p=86.0, specialisation='Mkt&Fin', mba_p=62.48, status='Placed', salary=340000),\n",
       " Row(sl_no=155, gender='M', ssc_p=53.0, ssc_b='Central', hsc_p=63.0, hsc_b='Others', hsc_s='Science', degree_p=60.0, degree_t='Comm&Mgmt', workex='Yes', etest_p=70.0, specialisation='Mkt&Fin', mba_p=53.2, status='Placed', salary=250000),\n",
       " Row(sl_no=156, gender='M', ssc_p=51.57, ssc_b='Others', hsc_p=74.66, hsc_b='Others', hsc_s='Commerce', degree_p=59.9, degree_t='Comm&Mgmt', workex='Yes', etest_p=56.15, specialisation='Mkt&HR', mba_p=65.99, status='Not Placed', salary=None),\n",
       " Row(sl_no=157, gender='M', ssc_p=84.2, ssc_b='Central', hsc_p=69.4, hsc_b='Central', hsc_s='Science', degree_p=65.0, degree_t='Sci&Tech', workex='Yes', etest_p=80.0, specialisation='Mkt&HR', mba_p=52.72, status='Placed', salary=255000),\n",
       " Row(sl_no=158, gender='M', ssc_p=66.5, ssc_b='Central', hsc_p=62.5, hsc_b='Central', hsc_s='Commerce', degree_p=60.9, degree_t='Comm&Mgmt', workex='No', etest_p=93.4, specialisation='Mkt&Fin', mba_p=55.03, status='Placed', salary=300000),\n",
       " Row(sl_no=159, gender='M', ssc_p=67.0, ssc_b='Others', hsc_p=63.0, hsc_b='Others', hsc_s='Science', degree_p=64.0, degree_t='Sci&Tech', workex='No', etest_p=60.0, specialisation='Mkt&Fin', mba_p=61.87, status='Not Placed', salary=None),\n",
       " Row(sl_no=160, gender='M', ssc_p=52.0, ssc_b='Central', hsc_p=49.0, hsc_b='Others', hsc_s='Commerce', degree_p=58.0, degree_t='Comm&Mgmt', workex='No', etest_p=62.0, specialisation='Mkt&HR', mba_p=60.59, status='Not Placed', salary=None),\n",
       " Row(sl_no=161, gender='M', ssc_p=87.0, ssc_b='Central', hsc_p=74.0, hsc_b='Central', hsc_s='Science', degree_p=65.0, degree_t='Sci&Tech', workex='Yes', etest_p=75.0, specialisation='Mkt&HR', mba_p=72.29, status='Placed', salary=300000),\n",
       " Row(sl_no=162, gender='M', ssc_p=55.6, ssc_b='Others', hsc_p=51.0, hsc_b='Others', hsc_s='Commerce', degree_p=57.5, degree_t='Comm&Mgmt', workex='No', etest_p=57.63, specialisation='Mkt&HR', mba_p=62.72, status='Not Placed', salary=None),\n",
       " Row(sl_no=163, gender='M', ssc_p=74.2, ssc_b='Central', hsc_p=87.6, hsc_b='Others', hsc_s='Commerce', degree_p=77.25, degree_t='Comm&Mgmt', workex='Yes', etest_p=75.2, specialisation='Mkt&Fin', mba_p=66.06, status='Placed', salary=285000),\n",
       " Row(sl_no=164, gender='M', ssc_p=63.0, ssc_b='Others', hsc_p=67.0, hsc_b='Others', hsc_s='Science', degree_p=64.0, degree_t='Sci&Tech', workex='No', etest_p=75.0, specialisation='Mkt&Fin', mba_p=66.46, status='Placed', salary=500000),\n",
       " Row(sl_no=165, gender='F', ssc_p=67.16, ssc_b='Central', hsc_p=72.5, hsc_b='Central', hsc_s='Commerce', degree_p=63.35, degree_t='Comm&Mgmt', workex='No', etest_p=53.04, specialisation='Mkt&Fin', mba_p=65.52, status='Placed', salary=250000),\n",
       " Row(sl_no=166, gender='F', ssc_p=63.3, ssc_b='Central', hsc_p=78.33, hsc_b='Others', hsc_s='Commerce', degree_p=74.0, degree_t='Comm&Mgmt', workex='No', etest_p=80.0, specialisation='Mkt&Fin', mba_p=74.56, status='Not Placed', salary=None),\n",
       " Row(sl_no=167, gender='M', ssc_p=62.0, ssc_b='Others', hsc_p=62.0, hsc_b='Others', hsc_s='Commerce', degree_p=60.0, degree_t='Comm&Mgmt', workex='Yes', etest_p=63.0, specialisation='Mkt&HR', mba_p=52.38, status='Placed', salary=240000),\n",
       " Row(sl_no=168, gender='M', ssc_p=67.9, ssc_b='Others', hsc_p=62.0, hsc_b='Others', hsc_s='Science', degree_p=67.0, degree_t='Sci&Tech', workex='Yes', etest_p=58.1, specialisation='Mkt&Fin', mba_p=75.71, status='Not Placed', salary=None),\n",
       " Row(sl_no=169, gender='F', ssc_p=48.0, ssc_b='Central', hsc_p=51.0, hsc_b='Central', hsc_s='Commerce', degree_p=58.0, degree_t='Comm&Mgmt', workex='Yes', etest_p=60.0, specialisation='Mkt&HR', mba_p=58.79, status='Not Placed', salary=None),\n",
       " Row(sl_no=170, gender='M', ssc_p=59.96, ssc_b='Others', hsc_p=42.16, hsc_b='Others', hsc_s='Science', degree_p=61.26, degree_t='Sci&Tech', workex='No', etest_p=54.48, specialisation='Mkt&HR', mba_p=65.48, status='Not Placed', salary=None),\n",
       " Row(sl_no=171, gender='F', ssc_p=63.4, ssc_b='Others', hsc_p=67.2, hsc_b='Others', hsc_s='Commerce', degree_p=60.0, degree_t='Comm&Mgmt', workex='No', etest_p=58.06, specialisation='Mkt&HR', mba_p=69.28, status='Not Placed', salary=None),\n",
       " Row(sl_no=172, gender='M', ssc_p=80.0, ssc_b='Others', hsc_p=80.0, hsc_b='Others', hsc_s='Commerce', degree_p=72.0, degree_t='Comm&Mgmt', workex='Yes', etest_p=63.79, specialisation='Mkt&Fin', mba_p=66.04, status='Placed', salary=290000),\n",
       " Row(sl_no=173, gender='M', ssc_p=73.0, ssc_b='Others', hsc_p=58.0, hsc_b='Others', hsc_s='Commerce', degree_p=56.0, degree_t='Comm&Mgmt', workex='No', etest_p=84.0, specialisation='Mkt&HR', mba_p=52.64, status='Placed', salary=300000),\n",
       " Row(sl_no=174, gender='F', ssc_p=52.0, ssc_b='Others', hsc_p=52.0, hsc_b='Others', hsc_s='Science', degree_p=55.0, degree_t='Sci&Tech', workex='No', etest_p=67.0, specialisation='Mkt&HR', mba_p=59.32, status='Not Placed', salary=None),\n",
       " Row(sl_no=175, gender='M', ssc_p=73.24, ssc_b='Others', hsc_p=50.83, hsc_b='Others', hsc_s='Science', degree_p=64.27, degree_t='Sci&Tech', workex='Yes', etest_p=64.0, specialisation='Mkt&Fin', mba_p=66.23, status='Placed', salary=500000),\n",
       " Row(sl_no=176, gender='M', ssc_p=63.0, ssc_b='Others', hsc_p=62.0, hsc_b='Others', hsc_s='Science', degree_p=65.0, degree_t='Sci&Tech', workex='No', etest_p=87.5, specialisation='Mkt&HR', mba_p=60.69, status='Not Placed', salary=None),\n",
       " Row(sl_no=177, gender='F', ssc_p=59.0, ssc_b='Central', hsc_p=60.0, hsc_b='Others', hsc_s='Commerce', degree_p=56.0, degree_t='Comm&Mgmt', workex='No', etest_p=55.0, specialisation='Mkt&HR', mba_p=57.9, status='Placed', salary=220000),\n",
       " Row(sl_no=178, gender='F', ssc_p=73.0, ssc_b='Central', hsc_p=97.0, hsc_b='Others', hsc_s='Commerce', degree_p=79.0, degree_t='Comm&Mgmt', workex='Yes', etest_p=89.0, specialisation='Mkt&Fin', mba_p=70.81, status='Placed', salary=650000),\n",
       " Row(sl_no=179, gender='M', ssc_p=68.0, ssc_b='Others', hsc_p=56.0, hsc_b='Others', hsc_s='Science', degree_p=68.0, degree_t='Sci&Tech', workex='No', etest_p=73.0, specialisation='Mkt&HR', mba_p=68.07, status='Placed', salary=350000),\n",
       " Row(sl_no=180, gender='F', ssc_p=77.8, ssc_b='Central', hsc_p=64.0, hsc_b='Central', hsc_s='Science', degree_p=64.2, degree_t='Sci&Tech', workex='No', etest_p=75.5, specialisation='Mkt&HR', mba_p=72.14, status='Not Placed', salary=None),\n",
       " Row(sl_no=181, gender='M', ssc_p=65.0, ssc_b='Central', hsc_p=71.5, hsc_b='Others', hsc_s='Commerce', degree_p=62.8, degree_t='Comm&Mgmt', workex='Yes', etest_p=57.0, specialisation='Mkt&Fin', mba_p=56.6, status='Placed', salary=265000),\n",
       " Row(sl_no=182, gender='M', ssc_p=62.0, ssc_b='Central', hsc_p=60.33, hsc_b='Others', hsc_s='Science', degree_p=64.21, degree_t='Sci&Tech', workex='No', etest_p=63.0, specialisation='Mkt&HR', mba_p=60.02, status='Not Placed', salary=None),\n",
       " Row(sl_no=183, gender='M', ssc_p=52.0, ssc_b='Others', hsc_p=65.0, hsc_b='Others', hsc_s='Arts', degree_p=57.0, degree_t='Others', workex='Yes', etest_p=75.0, specialisation='Mkt&Fin', mba_p=59.81, status='Not Placed', salary=None),\n",
       " Row(sl_no=184, gender='M', ssc_p=65.0, ssc_b='Central', hsc_p=77.0, hsc_b='Central', hsc_s='Commerce', degree_p=69.0, degree_t='Comm&Mgmt', workex='No', etest_p=60.0, specialisation='Mkt&HR', mba_p=61.82, status='Placed', salary=276000),\n",
       " Row(sl_no=185, gender='F', ssc_p=56.28, ssc_b='Others', hsc_p=62.83, hsc_b='Others', hsc_s='Commerce', degree_p=59.79, degree_t='Comm&Mgmt', workex='No', etest_p=60.0, specialisation='Mkt&HR', mba_p=57.29, status='Not Placed', salary=None),\n",
       " Row(sl_no=186, gender='F', ssc_p=88.0, ssc_b='Central', hsc_p=72.0, hsc_b='Central', hsc_s='Science', degree_p=78.0, degree_t='Others', workex='No', etest_p=82.0, specialisation='Mkt&HR', mba_p=71.43, status='Placed', salary=252000),\n",
       " Row(sl_no=187, gender='F', ssc_p=52.0, ssc_b='Central', hsc_p=64.0, hsc_b='Central', hsc_s='Commerce', degree_p=61.0, degree_t='Comm&Mgmt', workex='No', etest_p=55.0, specialisation='Mkt&Fin', mba_p=62.93, status='Not Placed', salary=None),\n",
       " Row(sl_no=188, gender='M', ssc_p=78.5, ssc_b='Central', hsc_p=65.5, hsc_b='Central', hsc_s='Science', degree_p=67.0, degree_t='Sci&Tech', workex='Yes', etest_p=95.0, specialisation='Mkt&Fin', mba_p=64.86, status='Placed', salary=280000),\n",
       " Row(sl_no=189, gender='M', ssc_p=61.8, ssc_b='Others', hsc_p=47.0, hsc_b='Others', hsc_s='Commerce', degree_p=54.38, degree_t='Comm&Mgmt', workex='No', etest_p=57.0, specialisation='Mkt&Fin', mba_p=56.13, status='Not Placed', salary=None),\n",
       " Row(sl_no=190, gender='F', ssc_p=54.0, ssc_b='Central', hsc_p=77.6, hsc_b='Others', hsc_s='Commerce', degree_p=69.2, degree_t='Comm&Mgmt', workex='No', etest_p=95.65, specialisation='Mkt&Fin', mba_p=66.94, status='Not Placed', salary=None),\n",
       " Row(sl_no=191, gender='F', ssc_p=64.0, ssc_b='Others', hsc_p=70.2, hsc_b='Central', hsc_s='Commerce', degree_p=61.0, degree_t='Comm&Mgmt', workex='No', etest_p=50.0, specialisation='Mkt&Fin', mba_p=62.5, status='Not Placed', salary=None),\n",
       " Row(sl_no=192, gender='M', ssc_p=67.0, ssc_b='Others', hsc_p=61.0, hsc_b='Central', hsc_s='Science', degree_p=72.0, degree_t='Comm&Mgmt', workex='No', etest_p=72.0, specialisation='Mkt&Fin', mba_p=61.01, status='Placed', salary=264000),\n",
       " Row(sl_no=193, gender='M', ssc_p=65.2, ssc_b='Central', hsc_p=61.4, hsc_b='Central', hsc_s='Commerce', degree_p=64.8, degree_t='Comm&Mgmt', workex='Yes', etest_p=93.4, specialisation='Mkt&Fin', mba_p=57.34, status='Placed', salary=270000),\n",
       " Row(sl_no=194, gender='F', ssc_p=60.0, ssc_b='Central', hsc_p=63.0, hsc_b='Central', hsc_s='Arts', degree_p=56.0, degree_t='Others', workex='Yes', etest_p=80.0, specialisation='Mkt&HR', mba_p=56.63, status='Placed', salary=300000),\n",
       " Row(sl_no=195, gender='M', ssc_p=52.0, ssc_b='Others', hsc_p=55.0, hsc_b='Others', hsc_s='Commerce', degree_p=56.3, degree_t='Comm&Mgmt', workex='No', etest_p=59.0, specialisation='Mkt&Fin', mba_p=64.74, status='Not Placed', salary=None),\n",
       " Row(sl_no=196, gender='M', ssc_p=66.0, ssc_b='Central', hsc_p=76.0, hsc_b='Central', hsc_s='Commerce', degree_p=72.0, degree_t='Comm&Mgmt', workex='Yes', etest_p=84.0, specialisation='Mkt&HR', mba_p=58.95, status='Placed', salary=275000),\n",
       " Row(sl_no=197, gender='M', ssc_p=72.0, ssc_b='Others', hsc_p=63.0, hsc_b='Others', hsc_s='Science', degree_p=77.5, degree_t='Sci&Tech', workex='Yes', etest_p=78.0, specialisation='Mkt&Fin', mba_p=54.48, status='Placed', salary=250000),\n",
       " Row(sl_no=198, gender='F', ssc_p=83.96, ssc_b='Others', hsc_p=53.0, hsc_b='Others', hsc_s='Science', degree_p=91.0, degree_t='Sci&Tech', workex='No', etest_p=59.32, specialisation='Mkt&HR', mba_p=69.71, status='Placed', salary=260000),\n",
       " Row(sl_no=199, gender='F', ssc_p=67.0, ssc_b='Central', hsc_p=70.0, hsc_b='Central', hsc_s='Commerce', degree_p=65.0, degree_t='Others', workex='No', etest_p=88.0, specialisation='Mkt&HR', mba_p=71.96, status='Not Placed', salary=None),\n",
       " Row(sl_no=200, gender='M', ssc_p=69.0, ssc_b='Others', hsc_p=65.0, hsc_b='Others', hsc_s='Commerce', degree_p=57.0, degree_t='Comm&Mgmt', workex='No', etest_p=73.0, specialisation='Mkt&HR', mba_p=55.8, status='Placed', salary=265000),\n",
       " Row(sl_no=201, gender='M', ssc_p=69.0, ssc_b='Others', hsc_p=60.0, hsc_b='Others', hsc_s='Commerce', degree_p=65.0, degree_t='Comm&Mgmt', workex='No', etest_p=87.55, specialisation='Mkt&Fin', mba_p=52.81, status='Placed', salary=300000),\n",
       " Row(sl_no=202, gender='M', ssc_p=54.2, ssc_b='Central', hsc_p=63.0, hsc_b='Others', hsc_s='Science', degree_p=58.0, degree_t='Comm&Mgmt', workex='No', etest_p=79.0, specialisation='Mkt&HR', mba_p=58.44, status='Not Placed', salary=None),\n",
       " Row(sl_no=203, gender='M', ssc_p=70.0, ssc_b='Central', hsc_p=63.0, hsc_b='Central', hsc_s='Science', degree_p=66.0, degree_t='Sci&Tech', workex='No', etest_p=61.28, specialisation='Mkt&HR', mba_p=60.11, status='Placed', salary=240000),\n",
       " Row(sl_no=204, gender='M', ssc_p=55.68, ssc_b='Others', hsc_p=61.33, hsc_b='Others', hsc_s='Commerce', degree_p=56.87, degree_t='Comm&Mgmt', workex='No', etest_p=66.0, specialisation='Mkt&HR', mba_p=58.3, status='Placed', salary=260000),\n",
       " Row(sl_no=205, gender='F', ssc_p=74.0, ssc_b='Others', hsc_p=73.0, hsc_b='Others', hsc_s='Commerce', degree_p=73.0, degree_t='Comm&Mgmt', workex='Yes', etest_p=80.0, specialisation='Mkt&Fin', mba_p=67.69, status='Placed', salary=210000),\n",
       " Row(sl_no=206, gender='M', ssc_p=61.0, ssc_b='Others', hsc_p=62.0, hsc_b='Others', hsc_s='Commerce', degree_p=65.0, degree_t='Comm&Mgmt', workex='No', etest_p=62.0, specialisation='Mkt&Fin', mba_p=56.81, status='Placed', salary=250000),\n",
       " Row(sl_no=207, gender='M', ssc_p=41.0, ssc_b='Central', hsc_p=42.0, hsc_b='Central', hsc_s='Science', degree_p=60.0, degree_t='Comm&Mgmt', workex='No', etest_p=97.0, specialisation='Mkt&Fin', mba_p=53.39, status='Not Placed', salary=None),\n",
       " Row(sl_no=208, gender='M', ssc_p=83.33, ssc_b='Central', hsc_p=78.0, hsc_b='Others', hsc_s='Commerce', degree_p=61.0, degree_t='Comm&Mgmt', workex='Yes', etest_p=88.56, specialisation='Mkt&Fin', mba_p=71.55, status='Placed', salary=300000),\n",
       " Row(sl_no=209, gender='F', ssc_p=43.0, ssc_b='Central', hsc_p=60.0, hsc_b='Others', hsc_s='Science', degree_p=65.0, degree_t='Comm&Mgmt', workex='No', etest_p=92.66, specialisation='Mkt&HR', mba_p=62.92, status='Not Placed', salary=None),\n",
       " Row(sl_no=210, gender='M', ssc_p=62.0, ssc_b='Central', hsc_p=72.0, hsc_b='Central', hsc_s='Commerce', degree_p=65.0, degree_t='Comm&Mgmt', workex='No', etest_p=67.0, specialisation='Mkt&Fin', mba_p=56.49, status='Placed', salary=216000),\n",
       " Row(sl_no=211, gender='M', ssc_p=80.6, ssc_b='Others', hsc_p=82.0, hsc_b='Others', hsc_s='Commerce', degree_p=77.6, degree_t='Comm&Mgmt', workex='No', etest_p=91.0, specialisation='Mkt&Fin', mba_p=74.49, status='Placed', salary=400000),\n",
       " Row(sl_no=212, gender='M', ssc_p=58.0, ssc_b='Others', hsc_p=60.0, hsc_b='Others', hsc_s='Science', degree_p=72.0, degree_t='Sci&Tech', workex='No', etest_p=74.0, specialisation='Mkt&Fin', mba_p=53.62, status='Placed', salary=275000),\n",
       " Row(sl_no=213, gender='M', ssc_p=67.0, ssc_b='Others', hsc_p=67.0, hsc_b='Others', hsc_s='Commerce', degree_p=73.0, degree_t='Comm&Mgmt', workex='Yes', etest_p=59.0, specialisation='Mkt&Fin', mba_p=69.72, status='Placed', salary=295000),\n",
       " Row(sl_no=214, gender='F', ssc_p=74.0, ssc_b='Others', hsc_p=66.0, hsc_b='Others', hsc_s='Commerce', degree_p=58.0, degree_t='Comm&Mgmt', workex='No', etest_p=70.0, specialisation='Mkt&HR', mba_p=60.23, status='Placed', salary=204000),\n",
       " Row(sl_no=215, gender='M', ssc_p=62.0, ssc_b='Central', hsc_p=58.0, hsc_b='Others', hsc_s='Science', degree_p=53.0, degree_t='Comm&Mgmt', workex='No', etest_p=89.0, specialisation='Mkt&HR', mba_p=60.22, status='Not Placed', salary=None)]"
      ]
     },
     "execution_count": 31,
     "metadata": {},
     "output_type": "execute_result"
    }
   ],
   "source": [
    "sqlContext = SQLContext(spark)\n",
    "df2 = sqlContext.sql(query)\n",
    "df2.collect()"
   ]
  },
  {
   "cell_type": "code",
   "execution_count": null,
   "metadata": {},
   "outputs": [],
   "source": []
  },
  {
   "cell_type": "code",
   "execution_count": null,
   "metadata": {},
   "outputs": [],
   "source": []
  },
  {
   "cell_type": "code",
   "execution_count": null,
   "metadata": {},
   "outputs": [],
   "source": []
  },
  {
   "cell_type": "code",
   "execution_count": null,
   "metadata": {},
   "outputs": [],
   "source": []
  },
  {
   "cell_type": "code",
   "execution_count": null,
   "metadata": {},
   "outputs": [],
   "source": []
  },
  {
   "cell_type": "code",
   "execution_count": null,
   "metadata": {},
   "outputs": [],
   "source": []
  },
  {
   "cell_type": "markdown",
   "metadata": {},
   "source": []
  }
 ],
 "metadata": {
  "kernelspec": {
   "display_name": "spark",
   "language": "python",
   "name": "python3"
  },
  "language_info": {
   "codemirror_mode": {
    "name": "ipython",
    "version": 3
   },
   "file_extension": ".py",
   "mimetype": "text/x-python",
   "name": "python",
   "nbconvert_exporter": "python",
   "pygments_lexer": "ipython3",
   "version": "3.9.20"
  }
 },
 "nbformat": 4,
 "nbformat_minor": 2
}
