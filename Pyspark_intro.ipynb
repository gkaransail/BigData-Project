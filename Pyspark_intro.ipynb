{
 "cells": [
  {
   "cell_type": "code",
   "execution_count": 20,
   "metadata": {},
   "outputs": [
    {
     "name": "stdout",
     "output_type": "stream",
     "text": [
      "<pyspark.sql.session.SparkSession object at 0x7f5d4be90370>\n"
     ]
    }
   ],
   "source": [
    "from pyspark.sql import SparkSession\n",
    "\n",
    "# Create a Spark session\n",
    "spark = SparkSession.builder.appName(\"Practise\").getOrCreate()\n",
    "\n",
    "# Verify Spark session creation\n",
    "print(spark)"
   ]
  },
  {
   "cell_type": "code",
   "execution_count": 21,
   "metadata": {},
   "outputs": [
    {
     "data": {
      "text/html": [
       "\n",
       "            <div>\n",
       "                <p><b>SparkSession - in-memory</b></p>\n",
       "                \n",
       "        <div>\n",
       "            <p><b>SparkContext</b></p>\n",
       "\n",
       "            <p><a href=\"http://10.255.255.254:4040\">Spark UI</a></p>\n",
       "\n",
       "            <dl>\n",
       "              <dt>Version</dt>\n",
       "                <dd><code>v3.5.1</code></dd>\n",
       "              <dt>Master</dt>\n",
       "                <dd><code>local[*]</code></dd>\n",
       "              <dt>AppName</dt>\n",
       "                <dd><code>MyApp</code></dd>\n",
       "            </dl>\n",
       "        </div>\n",
       "        \n",
       "            </div>\n",
       "        "
      ],
      "text/plain": [
       "<pyspark.sql.session.SparkSession at 0x7f5d4be90370>"
      ]
     },
     "execution_count": 21,
     "metadata": {},
     "output_type": "execute_result"
    }
   ],
   "source": [
    "spark"
   ]
  },
  {
   "cell_type": "code",
   "execution_count": 22,
   "metadata": {},
   "outputs": [],
   "source": [
    "df_pyspark = spark.read.csv(\"Placement_Data_Full_Class.csv\")"
   ]
  },
  {
   "cell_type": "code",
   "execution_count": 23,
   "metadata": {},
   "outputs": [
    {
     "name": "stdout",
     "output_type": "stream",
     "text": [
      "+-----+------+-----+-------+-----+-------+--------+--------+---------+------+-------+--------------+-----+----------+------+\n",
      "|  _c0|   _c1|  _c2|    _c3|  _c4|    _c5|     _c6|     _c7|      _c8|   _c9|   _c10|          _c11| _c12|      _c13|  _c14|\n",
      "+-----+------+-----+-------+-----+-------+--------+--------+---------+------+-------+--------------+-----+----------+------+\n",
      "|sl_no|gender|ssc_p|  ssc_b|hsc_p|  hsc_b|   hsc_s|degree_p| degree_t|workex|etest_p|specialisation|mba_p|    status|salary|\n",
      "|    1|     M|67.00| Others|91.00| Others|Commerce|   58.00| Sci&Tech|    No|     55|        Mkt&HR| 58.8|    Placed|270000|\n",
      "|    2|     M|79.33|Central|78.33| Others| Science|   77.48| Sci&Tech|   Yes|   86.5|       Mkt&Fin|66.28|    Placed|200000|\n",
      "|    3|     M|65.00|Central|68.00|Central|    Arts|   64.00|Comm&Mgmt|    No|     75|       Mkt&Fin| 57.8|    Placed|250000|\n",
      "|    4|     M|56.00|Central|52.00|Central| Science|   52.00| Sci&Tech|    No|     66|        Mkt&HR|59.43|Not Placed|  NULL|\n",
      "|    5|     M|85.80|Central|73.60|Central|Commerce|   73.30|Comm&Mgmt|    No|   96.8|       Mkt&Fin| 55.5|    Placed|425000|\n",
      "|    6|     M|55.00| Others|49.80| Others| Science|   67.25| Sci&Tech|   Yes|     55|       Mkt&Fin|51.58|Not Placed|  NULL|\n",
      "|    7|     F|46.00| Others|49.20| Others|Commerce|   79.00|Comm&Mgmt|    No|  74.28|       Mkt&Fin|53.29|Not Placed|  NULL|\n",
      "|    8|     M|82.00|Central|64.00|Central| Science|   66.00| Sci&Tech|   Yes|     67|       Mkt&Fin|62.14|    Placed|252000|\n",
      "|    9|     M|73.00|Central|79.00|Central|Commerce|   72.00|Comm&Mgmt|    No|  91.34|       Mkt&Fin|61.29|    Placed|231000|\n",
      "|   10|     M|58.00|Central|70.00|Central|Commerce|   61.00|Comm&Mgmt|    No|     54|       Mkt&Fin|52.21|Not Placed|  NULL|\n",
      "|   11|     M|58.00|Central|61.00|Central|Commerce|   60.00|Comm&Mgmt|   Yes|     62|        Mkt&HR|60.85|    Placed|260000|\n",
      "|   12|     M|69.60|Central|68.40|Central|Commerce|   78.30|Comm&Mgmt|   Yes|     60|       Mkt&Fin| 63.7|    Placed|250000|\n",
      "|   13|     F|47.00|Central|55.00| Others| Science|   65.00|Comm&Mgmt|    No|     62|        Mkt&HR|65.04|Not Placed|  NULL|\n",
      "|   14|     F|77.00|Central|87.00|Central|Commerce|   59.00|Comm&Mgmt|    No|     68|       Mkt&Fin|68.63|    Placed|218000|\n",
      "|   15|     M|62.00|Central|47.00|Central|Commerce|   50.00|Comm&Mgmt|    No|     76|        Mkt&HR|54.96|Not Placed|  NULL|\n",
      "|   16|     F|65.00|Central|75.00|Central|Commerce|   69.00|Comm&Mgmt|   Yes|     72|       Mkt&Fin|64.66|    Placed|200000|\n",
      "|   17|     M|63.00|Central|66.20|Central|Commerce|   65.60|Comm&Mgmt|   Yes|     60|       Mkt&Fin|62.54|    Placed|300000|\n",
      "|   18|     F|55.00|Central|67.00|Central|Commerce|   64.00|Comm&Mgmt|    No|     60|       Mkt&Fin|67.28|Not Placed|  NULL|\n",
      "|   19|     F|63.00|Central|66.00|Central|Commerce|   64.00|Comm&Mgmt|    No|     68|        Mkt&HR|64.08|Not Placed|  NULL|\n",
      "+-----+------+-----+-------+-----+-------+--------+--------+---------+------+-------+--------------+-----+----------+------+\n",
      "only showing top 20 rows\n",
      "\n"
     ]
    }
   ],
   "source": [
    "df_pyspark.show()"
   ]
  },
  {
   "cell_type": "code",
   "execution_count": 24,
   "metadata": {},
   "outputs": [
    {
     "name": "stdout",
     "output_type": "stream",
     "text": [
      "+-----+------+-----+-------+-----+-------+--------+--------+---------+------+-------+--------------+-----+----------+------+\n",
      "|sl_no|gender|ssc_p|  ssc_b|hsc_p|  hsc_b|   hsc_s|degree_p| degree_t|workex|etest_p|specialisation|mba_p|    status|salary|\n",
      "+-----+------+-----+-------+-----+-------+--------+--------+---------+------+-------+--------------+-----+----------+------+\n",
      "|    1|     M|67.00| Others|91.00| Others|Commerce|   58.00| Sci&Tech|    No|     55|        Mkt&HR| 58.8|    Placed|270000|\n",
      "|    2|     M|79.33|Central|78.33| Others| Science|   77.48| Sci&Tech|   Yes|   86.5|       Mkt&Fin|66.28|    Placed|200000|\n",
      "|    3|     M|65.00|Central|68.00|Central|    Arts|   64.00|Comm&Mgmt|    No|     75|       Mkt&Fin| 57.8|    Placed|250000|\n",
      "|    4|     M|56.00|Central|52.00|Central| Science|   52.00| Sci&Tech|    No|     66|        Mkt&HR|59.43|Not Placed|  NULL|\n",
      "|    5|     M|85.80|Central|73.60|Central|Commerce|   73.30|Comm&Mgmt|    No|   96.8|       Mkt&Fin| 55.5|    Placed|425000|\n",
      "|    6|     M|55.00| Others|49.80| Others| Science|   67.25| Sci&Tech|   Yes|     55|       Mkt&Fin|51.58|Not Placed|  NULL|\n",
      "|    7|     F|46.00| Others|49.20| Others|Commerce|   79.00|Comm&Mgmt|    No|  74.28|       Mkt&Fin|53.29|Not Placed|  NULL|\n",
      "|    8|     M|82.00|Central|64.00|Central| Science|   66.00| Sci&Tech|   Yes|     67|       Mkt&Fin|62.14|    Placed|252000|\n",
      "|    9|     M|73.00|Central|79.00|Central|Commerce|   72.00|Comm&Mgmt|    No|  91.34|       Mkt&Fin|61.29|    Placed|231000|\n",
      "|   10|     M|58.00|Central|70.00|Central|Commerce|   61.00|Comm&Mgmt|    No|     54|       Mkt&Fin|52.21|Not Placed|  NULL|\n",
      "|   11|     M|58.00|Central|61.00|Central|Commerce|   60.00|Comm&Mgmt|   Yes|     62|        Mkt&HR|60.85|    Placed|260000|\n",
      "|   12|     M|69.60|Central|68.40|Central|Commerce|   78.30|Comm&Mgmt|   Yes|     60|       Mkt&Fin| 63.7|    Placed|250000|\n",
      "|   13|     F|47.00|Central|55.00| Others| Science|   65.00|Comm&Mgmt|    No|     62|        Mkt&HR|65.04|Not Placed|  NULL|\n",
      "|   14|     F|77.00|Central|87.00|Central|Commerce|   59.00|Comm&Mgmt|    No|     68|       Mkt&Fin|68.63|    Placed|218000|\n",
      "|   15|     M|62.00|Central|47.00|Central|Commerce|   50.00|Comm&Mgmt|    No|     76|        Mkt&HR|54.96|Not Placed|  NULL|\n",
      "|   16|     F|65.00|Central|75.00|Central|Commerce|   69.00|Comm&Mgmt|   Yes|     72|       Mkt&Fin|64.66|    Placed|200000|\n",
      "|   17|     M|63.00|Central|66.20|Central|Commerce|   65.60|Comm&Mgmt|   Yes|     60|       Mkt&Fin|62.54|    Placed|300000|\n",
      "|   18|     F|55.00|Central|67.00|Central|Commerce|   64.00|Comm&Mgmt|    No|     60|       Mkt&Fin|67.28|Not Placed|  NULL|\n",
      "|   19|     F|63.00|Central|66.00|Central|Commerce|   64.00|Comm&Mgmt|    No|     68|        Mkt&HR|64.08|Not Placed|  NULL|\n",
      "|   20|     M|60.00| Others|67.00| Others|    Arts|   70.00|Comm&Mgmt|   Yes|  50.48|       Mkt&Fin|77.89|    Placed|236000|\n",
      "+-----+------+-----+-------+-----+-------+--------+--------+---------+------+-------+--------------+-----+----------+------+\n",
      "only showing top 20 rows\n",
      "\n"
     ]
    }
   ],
   "source": [
    "df = spark.read.option('header','true').csv('Placement_Data_Full_Class.csv').show()"
   ]
  },
  {
   "cell_type": "code",
   "execution_count": 25,
   "metadata": {},
   "outputs": [
    {
     "data": {
      "text/plain": [
       "NoneType"
      ]
     },
     "execution_count": 25,
     "metadata": {},
     "output_type": "execute_result"
    }
   ],
   "source": [
    "type(df)"
   ]
  },
  {
   "cell_type": "code",
   "execution_count": 26,
   "metadata": {},
   "outputs": [
    {
     "name": "stdout",
     "output_type": "stream",
     "text": [
      "root\n",
      " |-- _c0: string (nullable = true)\n",
      " |-- _c1: string (nullable = true)\n",
      " |-- _c2: string (nullable = true)\n",
      " |-- _c3: string (nullable = true)\n",
      " |-- _c4: string (nullable = true)\n",
      " |-- _c5: string (nullable = true)\n",
      " |-- _c6: string (nullable = true)\n",
      " |-- _c7: string (nullable = true)\n",
      " |-- _c8: string (nullable = true)\n",
      " |-- _c9: string (nullable = true)\n",
      " |-- _c10: string (nullable = true)\n",
      " |-- _c11: string (nullable = true)\n",
      " |-- _c12: string (nullable = true)\n",
      " |-- _c13: string (nullable = true)\n",
      " |-- _c14: string (nullable = true)\n",
      "\n"
     ]
    }
   ],
   "source": [
    "df_pyspark.printSchema()"
   ]
  },
  {
   "cell_type": "code",
   "execution_count": null,
   "metadata": {},
   "outputs": [],
   "source": []
  },
  {
   "cell_type": "code",
   "execution_count": null,
   "metadata": {},
   "outputs": [],
   "source": []
  },
  {
   "cell_type": "code",
   "execution_count": null,
   "metadata": {},
   "outputs": [],
   "source": []
  }
 ],
 "metadata": {
  "kernelspec": {
   "display_name": "spark",
   "language": "python",
   "name": "python3"
  },
  "language_info": {
   "codemirror_mode": {
    "name": "ipython",
    "version": 3
   },
   "file_extension": ".py",
   "mimetype": "text/x-python",
   "name": "python",
   "nbconvert_exporter": "python",
   "pygments_lexer": "ipython3",
   "version": "3.9.20"
  }
 },
 "nbformat": 4,
 "nbformat_minor": 2
}
